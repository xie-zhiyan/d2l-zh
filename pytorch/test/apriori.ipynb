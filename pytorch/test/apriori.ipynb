{
 "cells": [
  {
   "cell_type": "code",
   "execution_count": 1,
   "metadata": {},
   "outputs": [
    {
     "name": "stderr",
     "output_type": "stream",
     "text": [
      "C:\\Users\\Administrator\\AppData\\Local\\Temp\\ipykernel_30960\\3697871760.py:9: DtypeWarning: Columns (11,12,13,14,15,16,17,18,19,20,21,22,23,24,25,26,27,28,29,30,31,32,33,34,35,36,37,38,39,40,41,42,43,44,45,46,47,48,49,50,51,52,53,54,55,56,57,58,59) have mixed types. Specify dtype option on import or set low_memory=False.\n",
      "  data = pd.read_csv(path, header=None)\n"
     ]
    },
    {
     "data": {
      "text/plain": [
       "1048575"
      ]
     },
     "execution_count": 1,
     "metadata": {},
     "output_type": "execute_result"
    }
   ],
   "source": [
    "import pandas as pd\n",
    "import os\n",
    "from mlxtend.preprocessing import TransactionEncoder\n",
    "from mlxtend.frequent_patterns import apriori, association_rules\n",
    "import matplotlib.pyplot as plt\n",
    "import networkx as nx\n",
    "# 加载数据集,可自行下载相关数据集https://raw.githubusercontent.com/stedy/Machine-Learning-with-R-datasets/master/groceries.csv\n",
    "path = os.path.join('..', 'data', '7武汉顶单货品数据.csv')\n",
    "data = pd.read_csv(path, header=None)\n",
    "len(data)"
   ]
  },
  {
   "cell_type": "code",
   "execution_count": 2,
   "metadata": {},
   "outputs": [],
   "source": [
    "# 数据预处理\n",
    "transactions = []\n",
    "for i in range(len(data)):\n",
    "    transactions.append([item for item in data.iloc[i,:] if str(item) != 'nan'])\n",
    "te = TransactionEncoder()\n",
    "te_ary = te.fit(transactions).transform(transactions)\n",
    "df = pd.DataFrame(te_ary, columns=te.columns_)"
   ]
  },
  {
   "cell_type": "code",
   "execution_count": null,
   "metadata": {},
   "outputs": [],
   "source": [
    "# 挖掘频繁项集\n",
    "frequent_itemsets = apriori(df, min_support=0.01, use_colnames=True)\n",
    "# 生成关联规则\n",
    "rules = association_rules(frequent_itemsets, metric=\"lift\", min_threshold=1)\n",
    "# 分析结果\n",
    "print(\"前10条关联规则：\")\n",
    "print(rules.sort_values(['lift', 'confidence'], ascending=[False, False]).head(10)[\n",
    "    ['antecedents', 'consequents', 'support', 'confidence', 'lift', 'conviction']])"
   ]
  },
  {
   "cell_type": "code",
   "execution_count": null,
   "metadata": {},
   "outputs": [],
   "source": [
    "# 可视化\n",
    "plt.figure(figsize=(14, 8))\n",
    "G = nx.DiGraph()\n",
    "# 添加节点和边\n",
    "top_rules = rules.sort_values('lift', ascending=False).head(15)\n",
    "for _, rule in top_rules.iterrows():\n",
    "    G.add_edge(\", \".join(rule['antecedents']),\n",
    "               \", \".join(rule['consequents']),\n",
    "               weight=rule['lift'],\n",
    "               confidence=rule['confidence'])\n",
    "pos = nx.spring_layout(G, k=0.5, seed=42)\n",
    "node_sizes = [2000 * df[list(node.split(', '))].all(axis=1).mean() for node in G.nodes()]\n",
    "nx.draw_networkx_nodes(G, pos, node_size=node_sizes, alpha=0.7, node_color='skyblue')\n",
    "nx.draw_networkx_edges(G, pos, width=[d['weight']*0.3 for (_, _, d) in G.edges(data=True)],\n",
    "                       edge_color='gray', alpha=0.6, arrowstyle='->', arrowsize=15)\n",
    "nx.draw_networkx_labels(G, pos, font_size=9, font_family='sans-serif')\n",
    "# 添加边标签（lift值）\n",
    "edge_labels = {(u, v): f\"Lift: {d['weight']:.2f}\\nConf: {d['confidence']:.2f}\"\n",
    "               for u, v, d in G.edges(data=True)}\n",
    "nx.draw_networkx_edge_labels(G, pos, edge_labels=edge_labels, font_size=8)\n",
    "plt.title(\"Top 15 Association Rules by Lift\", fontsize=15)\n",
    "plt.axis('off')\n",
    "plt.tight_layout()\n",
    "plt.show()"
   ]
  },
  {
   "cell_type": "code",
   "execution_count": null,
   "metadata": {},
   "outputs": [],
   "source": []
  },
  {
   "cell_type": "code",
   "execution_count": null,
   "metadata": {},
   "outputs": [],
   "source": []
  },
  {
   "cell_type": "code",
   "execution_count": null,
   "metadata": {},
   "outputs": [],
   "source": []
  }
 ],
 "metadata": {
  "kernelspec": {
   "display_name": "Python 3 (ipykernel)",
   "language": "python",
   "name": "python3"
  },
  "language_info": {
   "codemirror_mode": {
    "name": "ipython",
    "version": 3
   },
   "file_extension": ".py",
   "mimetype": "text/x-python",
   "name": "python",
   "nbconvert_exporter": "python",
   "pygments_lexer": "ipython3",
   "version": "3.9.21"
  },
  "pycharm": {
   "stem_cell": {
    "cell_type": "raw",
    "metadata": {
     "collapsed": false
    },
    "source": [
     "\n",
     "\n",
     "\n"
    ]
   }
  }
 },
 "nbformat": 4,
 "nbformat_minor": 4
}