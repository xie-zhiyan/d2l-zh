{
 "metadata": {
  "kernelspec": {
   "language": "python",
   "display_name": "Python 3",
   "name": "python3"
  },
  "language_info": {
   "name": "python",
   "version": "3.10.14",
   "mimetype": "text/x-python",
   "codemirror_mode": {
    "name": "ipython",
    "version": 3
   },
   "pygments_lexer": "ipython3",
   "nbconvert_exporter": "python",
   "file_extension": ".py"
  },
  "kaggle": {
   "accelerator": "none",
   "dataSources": [
    {
     "sourceId": 10002792,
     "sourceType": "datasetVersion",
     "datasetId": 6157172
    }
   ],
   "dockerImageVersionId": 30804,
   "isInternetEnabled": false,
   "language": "python",
   "sourceType": "notebook",
   "isGpuEnabled": false
  }
 },
 "nbformat_minor": 4,
 "nbformat": 4,
 "cells": [
  {
   "cell_type": "code",
   "source": [
    "import pandas as pd"
   ],
   "metadata": {
    "_uuid": "8f2839f25d086af736a60e9eeb907d3b93b6e0e5",
    "_cell_guid": "b1076dfc-b9ad-4769-8c92-a6c4dae69d19",
    "trusted": true,
    "execution": {
     "iopub.status.busy": "2024-12-05T00:47:18.02593Z",
     "iopub.execute_input": "2024-12-05T00:47:18.026472Z",
     "iopub.status.idle": "2024-12-05T00:47:19.108528Z",
     "shell.execute_reply.started": "2024-12-05T00:47:18.026393Z",
     "shell.execute_reply": "2024-12-05T00:47:19.107489Z"
    }
   },
   "outputs": [],
   "execution_count": null
  },
  {
   "cell_type": "code",
   "source": [
    "df = pd.read_csv(\"../data/retail_store_inventory.csv\")"
   ],
   "metadata": {
    "trusted": true,
    "execution": {
     "iopub.status.busy": "2024-12-05T00:52:12.788522Z",
     "iopub.execute_input": "2024-12-05T00:52:12.789551Z",
     "iopub.status.idle": "2024-12-05T00:52:12.948658Z",
     "shell.execute_reply.started": "2024-12-05T00:52:12.789496Z",
     "shell.execute_reply": "2024-12-05T00:52:12.947595Z"
    }
   },
   "outputs": [],
   "execution_count": null
  },
  {
   "cell_type": "code",
   "source": "df.head(1)",
   "metadata": {
    "trusted": true,
    "execution": {
     "iopub.status.busy": "2024-12-05T00:52:12.993272Z",
     "iopub.execute_input": "2024-12-05T00:52:12.993674Z",
     "iopub.status.idle": "2024-12-05T00:52:13.009209Z",
     "shell.execute_reply.started": "2024-12-05T00:52:12.993638Z",
     "shell.execute_reply": "2024-12-05T00:52:13.008073Z"
    }
   },
   "outputs": [],
   "execution_count": null
  },
  {
   "cell_type": "code",
   "source": "df[\"Date\"] = pd.to_datetime(df[\"Date\"])",
   "metadata": {
    "trusted": true,
    "execution": {
     "iopub.status.busy": "2024-12-05T00:52:13.184401Z",
     "iopub.execute_input": "2024-12-05T00:52:13.184813Z",
     "iopub.status.idle": "2024-12-05T00:52:13.200397Z",
     "shell.execute_reply.started": "2024-12-05T00:52:13.184776Z",
     "shell.execute_reply": "2024-12-05T00:52:13.199279Z"
    }
   },
   "outputs": [],
   "execution_count": null
  },
  {
   "cell_type": "code",
   "source": "df[\"Year\"] = df[\"Date\"].dt.year\ndf[\"Month\"] = df[\"Date\"].dt.month\ndf[\"Day\"] = df[\"Date\"].dt.day\ndf = df.drop(columns=[\"Date\"])",
   "metadata": {
    "trusted": true,
    "execution": {
     "iopub.status.busy": "2024-12-05T00:52:13.352391Z",
     "iopub.execute_input": "2024-12-05T00:52:13.353342Z",
     "iopub.status.idle": "2024-12-05T00:52:13.370681Z",
     "shell.execute_reply.started": "2024-12-05T00:52:13.353298Z",
     "shell.execute_reply": "2024-12-05T00:52:13.369849Z"
    }
   },
   "outputs": [],
   "execution_count": null
  },
  {
   "cell_type": "code",
   "source": "df.head(2)",
   "metadata": {
    "trusted": true,
    "execution": {
     "iopub.status.busy": "2024-12-05T00:52:18.197322Z",
     "iopub.execute_input": "2024-12-05T00:52:18.198333Z",
     "iopub.status.idle": "2024-12-05T00:52:18.213987Z",
     "shell.execute_reply.started": "2024-12-05T00:52:18.19829Z",
     "shell.execute_reply": "2024-12-05T00:52:18.212924Z"
    }
   },
   "outputs": [],
   "execution_count": null
  },
  {
   "cell_type": "code",
   "source": "df.isna().sum()",
   "metadata": {
    "trusted": true,
    "execution": {
     "iopub.status.busy": "2024-12-05T00:52:37.490539Z",
     "iopub.execute_input": "2024-12-05T00:52:37.491317Z",
     "iopub.status.idle": "2024-12-05T00:52:37.524154Z",
     "shell.execute_reply.started": "2024-12-05T00:52:37.491281Z",
     "shell.execute_reply": "2024-12-05T00:52:37.523137Z"
    }
   },
   "outputs": [],
   "execution_count": null
  },
  {
   "cell_type": "code",
   "source": "from sklearn.preprocessing import LabelEncoder\ndf_categorical =[]\nencode = LabelEncoder()\nfor column in df.columns:\n    if df[column].dtypes==\"object\":\n        df_categorical.append(column)\n\nfor columns in df_categorical:\n    df[columns] = encode.fit_transform(df[columns])",
   "metadata": {
    "trusted": true,
    "execution": {
     "iopub.status.busy": "2024-12-05T00:56:47.707159Z",
     "iopub.execute_input": "2024-12-05T00:56:47.707975Z",
     "iopub.status.idle": "2024-12-05T00:56:47.790153Z",
     "shell.execute_reply.started": "2024-12-05T00:56:47.707935Z",
     "shell.execute_reply": "2024-12-05T00:56:47.789313Z"
    }
   },
   "outputs": [],
   "execution_count": null
  },
  {
   "cell_type": "code",
   "source": "df.head(1)",
   "metadata": {
    "trusted": true,
    "execution": {
     "iopub.status.busy": "2024-12-05T00:56:52.845886Z",
     "iopub.execute_input": "2024-12-05T00:56:52.846724Z",
     "iopub.status.idle": "2024-12-05T00:56:52.860968Z",
     "shell.execute_reply.started": "2024-12-05T00:56:52.846681Z",
     "shell.execute_reply": "2024-12-05T00:56:52.859944Z"
    }
   },
   "outputs": [],
   "execution_count": null
  },
  {
   "cell_type": "code",
   "source": "from sklearn.model_selection import train_test_split\n\nx=df.drop(columns=[\"Price\"])\ny = df[\"Price\"]\nx_train,x_test,y_train,y_test = train_test_split(x,y,test_size=0.3,random_state=42)",
   "metadata": {
    "trusted": true,
    "execution": {
     "iopub.status.busy": "2024-12-05T00:58:16.252276Z",
     "iopub.execute_input": "2024-12-05T00:58:16.25307Z",
     "iopub.status.idle": "2024-12-05T00:58:16.387343Z",
     "shell.execute_reply.started": "2024-12-05T00:58:16.253032Z",
     "shell.execute_reply": "2024-12-05T00:58:16.38629Z"
    }
   },
   "outputs": [],
   "execution_count": null
  },
  {
   "cell_type": "code",
   "source": "from sklearn.ensemble import VotingRegressor\nfrom sklearn.linear_model import LinearRegression\nfrom sklearn.tree import DecisionTreeRegressor\nfrom sklearn.ensemble import RandomForestRegressor, GradientBoostingRegressor, AdaBoostRegressor\nfrom sklearn.neighbors import KNeighborsRegressor\nfrom lightgbm import LGBMRegressor\nfrom catboost import CatBoostRegressor\nfrom sklearn.metrics import mean_squared_error",
   "metadata": {
    "trusted": true,
    "execution": {
     "iopub.status.busy": "2024-12-05T01:06:04.611285Z",
     "iopub.execute_input": "2024-12-05T01:06:04.611726Z",
     "iopub.status.idle": "2024-12-05T01:06:04.617088Z",
     "shell.execute_reply.started": "2024-12-05T01:06:04.611688Z",
     "shell.execute_reply": "2024-12-05T01:06:04.616006Z"
    }
   },
   "outputs": [],
   "execution_count": null
  },
  {
   "cell_type": "code",
   "source": "model_list = [\n    LinearRegression(),\n    DecisionTreeRegressor(),\n    RandomForestRegressor(),\n    GradientBoostingRegressor(),\n    AdaBoostRegressor(),\n    KNeighborsRegressor(),\n    LGBMRegressor(verbose=-1),\n    CatBoostRegressor(verbose=False)\n]\nresults={}\nfor model in model_list:\n    model.fit(x_train, y_train)\n    \n    y_pred = model.predict(x_test)\n    \n    mse = mean_squared_error(y_test, y_pred)\n\n    results[type(model).__name__] = mse\n\nfor model_name, mse in results.items():\n    print(model_name , (mse))\n",
   "metadata": {
    "trusted": true,
    "execution": {
     "iopub.status.busy": "2024-12-05T01:10:04.198033Z",
     "iopub.execute_input": "2024-12-05T01:10:04.199032Z",
     "iopub.status.idle": "2024-12-05T01:11:21.838964Z",
     "shell.execute_reply.started": "2024-12-05T01:10:04.198992Z",
     "shell.execute_reply": "2024-12-05T01:11:21.83769Z"
    }
   },
   "outputs": [],
   "execution_count": null
  },
  {
   "cell_type": "code",
   "source": "",
   "metadata": {
    "trusted": true
   },
   "outputs": [],
   "execution_count": null
  }
 ]
}