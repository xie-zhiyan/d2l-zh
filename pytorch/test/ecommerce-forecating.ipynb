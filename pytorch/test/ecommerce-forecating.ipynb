{
 "cells": [
  {
   "cell_type": "code",
   "execution_count": 1,
   "metadata": {
    "_cell_guid": "b1076dfc-b9ad-4769-8c92-a6c4dae69d19",
    "_uuid": "8f2839f25d086af736a60e9eeb907d3b93b6e0e5"
   },
   "outputs": [],
   "source": [
    "# This Python 3 environment comes with many helpful analytics libraries installed\n",
    "# It is defined by the kaggle/python Docker image: https://github.com/kaggle/docker-python\n",
    "# For example, here's several helpful packages to load\n",
    "\n",
    "import numpy as np # linear algebra\n",
    "import pandas as pd # data processing, CSV file I/O (e.g. pd.read_csv)\n",
    "\n",
    "# Input data files are available in the read-only \"../input/\" directory\n",
    "# For example, running this (by clicking run or pressing Shift+Enter) will list all files under the input directory\n",
    "\n",
    "import os\n",
    "for dirname, _, filenames in os.walk('/kaggle/input'):\n",
    "    for filename in filenames:\n",
    "        print(os.path.join(dirname, filename))\n",
    "\n",
    "# You can write up to 20GB to the current directory (/kaggle/working/) that gets preserved as output when you create a version using \"Save & Run All\" \n",
    "# You can also write temporary files to /kaggle/temp/, but they won't be saved outside of the current session"
   ]
  },
  {
   "cell_type": "code",
   "execution_count": 2,
   "metadata": {},
   "outputs": [
    {
     "name": "stderr",
     "output_type": "stream",
     "text": [
      "WARNING: Ignoring invalid distribution -otebook (d:\\soft\\miniconda3\\envs\\d2l\\lib\\site-packages)\n",
      "WARNING: Ignoring invalid distribution -otebook (d:\\soft\\miniconda3\\envs\\d2l\\lib\\site-packages)\n",
      "WARNING: Ignoring invalid distribution -otebook (d:\\soft\\miniconda3\\envs\\d2l\\lib\\site-packages)\n"
     ]
    }
   ],
   "source": [
    "!pip install -q pmdarima\n"
   ]
  },
  {
   "cell_type": "code",
   "execution_count": 3,
   "metadata": {},
   "outputs": [],
   "source": [
    "# Challenge 1: Time Series Demand Forecasting\n",
    "# Predict daily product demand across stores using historical sales and inventory data"
   ]
  },
  {
   "cell_type": "code",
   "execution_count": 4,
   "metadata": {},
   "outputs": [
    {
     "ename": "ModuleNotFoundError",
     "evalue": "No module named 'tensorflow.keras'",
     "output_type": "error",
     "traceback": [
      "\u001B[1;31m---------------------------------------------------------------------------\u001B[0m",
      "\u001B[1;31mModuleNotFoundError\u001B[0m                       Traceback (most recent call last)",
      "Cell \u001B[1;32mIn[4], line 8\u001B[0m\n\u001B[0;32m      6\u001B[0m \u001B[38;5;28;01mfrom\u001B[39;00m\u001B[38;5;250m \u001B[39m\u001B[38;5;21;01msklearn\u001B[39;00m\u001B[38;5;21;01m.\u001B[39;00m\u001B[38;5;21;01mpreprocessing\u001B[39;00m\u001B[38;5;250m \u001B[39m\u001B[38;5;28;01mimport\u001B[39;00m MinMaxScaler\n\u001B[0;32m      7\u001B[0m \u001B[38;5;28;01mfrom\u001B[39;00m\u001B[38;5;250m \u001B[39m\u001B[38;5;21;01msklearn\u001B[39;00m\u001B[38;5;21;01m.\u001B[39;00m\u001B[38;5;21;01mmodel_selection\u001B[39;00m\u001B[38;5;250m \u001B[39m\u001B[38;5;28;01mimport\u001B[39;00m train_test_split\n\u001B[1;32m----> 8\u001B[0m \u001B[38;5;28;01mfrom\u001B[39;00m\u001B[38;5;250m \u001B[39m\u001B[38;5;21;01mtensorflow\u001B[39;00m\u001B[38;5;21;01m.\u001B[39;00m\u001B[38;5;21;01mkeras\u001B[39;00m\u001B[38;5;21;01m.\u001B[39;00m\u001B[38;5;21;01mmodels\u001B[39;00m\u001B[38;5;250m \u001B[39m\u001B[38;5;28;01mimport\u001B[39;00m Sequential\n\u001B[0;32m      9\u001B[0m \u001B[38;5;28;01mfrom\u001B[39;00m\u001B[38;5;250m \u001B[39m\u001B[38;5;21;01msklearn\u001B[39;00m\u001B[38;5;21;01m.\u001B[39;00m\u001B[38;5;21;01mensemble\u001B[39;00m\u001B[38;5;250m \u001B[39m\u001B[38;5;28;01mimport\u001B[39;00m VotingRegressor\n\u001B[0;32m     10\u001B[0m \u001B[38;5;28;01mfrom\u001B[39;00m\u001B[38;5;250m \u001B[39m\u001B[38;5;21;01msklearn\u001B[39;00m\u001B[38;5;21;01m.\u001B[39;00m\u001B[38;5;21;01mlinear_model\u001B[39;00m\u001B[38;5;250m \u001B[39m\u001B[38;5;28;01mimport\u001B[39;00m LinearRegression\n",
      "\u001B[1;31mModuleNotFoundError\u001B[0m: No module named 'tensorflow.keras'"
     ]
    }
   ],
   "source": [
    "import pandas as pd\n",
    "import seaborn as sns\n",
    "import matplotlib.pyplot as plt\n",
    "import numpy as np\n",
    "from sklearn.ensemble import RandomForestRegressor\n",
    "from sklearn.preprocessing import MinMaxScaler\n",
    "from sklearn.model_selection import train_test_split\n",
    "from tensorflow.keras.models import Sequential\n",
    "from sklearn.ensemble import VotingRegressor\n",
    "from sklearn.linear_model import LinearRegression\n",
    "from sklearn.preprocessing import MinMaxScaler\n",
    "from tensorflow.keras.layers import LSTM, Dense, Dropout\n",
    "from tensorflow.keras.optimizers import Adam\n",
    "from tensorflow.keras.callbacks import EarlyStopping\n",
    "from sklearn.preprocessing import StandardScaler\n",
    "from sklearn.metrics import mean_squared_error, mean_absolute_error\n",
    "from xgboost import XGBRegressor\n",
    "import matplotlib.pyplot as plt\n",
    "from sklearn.preprocessing import LabelEncoder,StandardScaler\n",
    "\n",
    "%matplotlib inline"
   ]
  },
  {
   "cell_type": "code",
   "execution_count": null,
   "metadata": {
    "execution": {
     "iopub.execute_input": "2025-08-03T06:28:52.998512Z",
     "iopub.status.busy": "2025-08-03T06:28:52.998166Z",
     "iopub.status.idle": "2025-08-03T06:28:53.191417Z",
     "shell.execute_reply": "2025-08-03T06:28:53.190633Z",
     "shell.execute_reply.started": "2025-08-03T06:28:52.998488Z"
    }
   },
   "outputs": [],
   "source": [
    "# Load the dataset\n",
    "file_path = '../data/retail_store_inventory.csv'\n",
    "df = pd.read_csv(file_path)\n",
    "\n",
    "df.head()"
   ]
  },
  {
   "cell_type": "code",
   "execution_count": null,
   "metadata": {
    "execution": {
     "iopub.execute_input": "2025-08-03T06:28:56.302486Z",
     "iopub.status.busy": "2025-08-03T06:28:56.301818Z",
     "iopub.status.idle": "2025-08-03T06:28:56.348358Z",
     "shell.execute_reply": "2025-08-03T06:28:56.347454Z",
     "shell.execute_reply.started": "2025-08-03T06:28:56.302458Z"
    }
   },
   "outputs": [],
   "source": [
    "df.info()"
   ]
  },
  {
   "cell_type": "code",
   "execution_count": null,
   "metadata": {
    "execution": {
     "iopub.execute_input": "2025-08-03T06:28:56.606268Z",
     "iopub.status.busy": "2025-08-03T06:28:56.60593Z",
     "iopub.status.idle": "2025-08-03T06:28:56.613103Z",
     "shell.execute_reply": "2025-08-03T06:28:56.612302Z",
     "shell.execute_reply.started": "2025-08-03T06:28:56.606244Z"
    }
   },
   "outputs": [],
   "source": [
    "df['Category']"
   ]
  },
  {
   "cell_type": "code",
   "execution_count": null,
   "metadata": {
    "execution": {
     "iopub.execute_input": "2025-08-03T06:28:58.353975Z",
     "iopub.status.busy": "2025-08-03T06:28:58.353391Z",
     "iopub.status.idle": "2025-08-03T06:28:58.387053Z",
     "shell.execute_reply": "2025-08-03T06:28:58.386217Z",
     "shell.execute_reply.started": "2025-08-03T06:28:58.35395Z"
    }
   },
   "outputs": [],
   "source": [
    "#check null\n",
    "print(\"\\nMissing Values:\")\n",
    "print(df.isnull().sum())"
   ]
  },
  {
   "cell_type": "code",
   "execution_count": null,
   "metadata": {
    "execution": {
     "iopub.execute_input": "2025-08-02T06:11:26.545786Z",
     "iopub.status.busy": "2025-08-02T06:11:26.545541Z",
     "iopub.status.idle": "2025-08-02T06:11:26.549899Z",
     "shell.execute_reply": "2025-08-02T06:11:26.549082Z",
     "shell.execute_reply.started": "2025-08-02T06:11:26.545767Z"
    }
   },
   "outputs": [],
   "source": [
    "#Key Data Features\n",
    "\n",
    "# Date : Daily records from [start_date] to [end_date].\n",
    "\n",
    "# Store ID & Product ID : Unique identifiers for stores and products.\n",
    "\n",
    "# Category : Product categories like Electronics, Clothing, Groceries, etc.\n",
    "\n",
    "# Region : Geographic region of the store.\n",
    "\n",
    "# Inventory Level : Stock available at the beginning of the day.\n",
    "\n",
    "# Units Sold : Units sold during the day.\n",
    "\n",
    "# Demand Forecast : Predicted demand based on past trends.\n",
    "\n",
    "# Weather Condition : Daily weather impacting sales.\n",
    "\n",
    "# Holiday/Promotion : Indicators for holidays or promotions."
   ]
  },
  {
   "cell_type": "code",
   "execution_count": null,
   "metadata": {
    "execution": {
     "iopub.execute_input": "2025-08-03T06:29:07.783646Z",
     "iopub.status.busy": "2025-08-03T06:29:07.783063Z",
     "iopub.status.idle": "2025-08-03T06:29:07.826552Z",
     "shell.execute_reply": "2025-08-03T06:29:07.825851Z",
     "shell.execute_reply.started": "2025-08-03T06:29:07.783622Z"
    }
   },
   "outputs": [],
   "source": [
    "# dispay frequency count for categorical columns\n",
    "categorical_columns=df.select_dtypes(include=['object']).columns\n",
    "for col in categorical_columns:\n",
    "    print(f\"\\nFrequency counts for {col}:\")\n",
    "    print(df[col].value_counts())\n",
    "    print(f\"Percentage distribution for {col}:\")"
   ]
  },
  {
   "cell_type": "code",
   "execution_count": null,
   "metadata": {
    "execution": {
     "iopub.execute_input": "2025-08-03T06:29:28.222483Z",
     "iopub.status.busy": "2025-08-03T06:29:28.221681Z",
     "iopub.status.idle": "2025-08-03T06:29:28.510933Z",
     "shell.execute_reply": "2025-08-03T06:29:28.509988Z",
     "shell.execute_reply.started": "2025-08-03T06:29:28.222457Z"
    }
   },
   "outputs": [],
   "source": [
    "# Aggregate data by date\n",
    "\n",
    "#convert data to datetime\n",
    "df['Date']= pd.to_datetime(df['Date'])\n",
    "daily_sales = df.groupby('Date')['Units Sold'].sum().reset_index()\n",
    "\n",
    "# Plot daily sales\n",
    "plt.figure(figsize=(12, 6))\n",
    "plt.plot(daily_sales['Date'], daily_sales['Units Sold'])\n",
    "plt.title('Time series plot of daily sales')\n",
    "plt.xlabel('Date')\n",
    "plt.ylabel('Units Sold')\n",
    "plt.show()"
   ]
  },
  {
   "cell_type": "code",
   "execution_count": null,
   "metadata": {
    "execution": {
     "iopub.execute_input": "2025-08-02T06:11:26.894835Z",
     "iopub.status.busy": "2025-08-02T06:11:26.894584Z",
     "iopub.status.idle": "2025-08-02T06:11:26.898709Z",
     "shell.execute_reply": "2025-08-02T06:11:26.897916Z",
     "shell.execute_reply.started": "2025-08-02T06:11:26.894816Z"
    }
   },
   "outputs": [],
   "source": [
    "#Time Series Demand Forecasting"
   ]
  },
  {
   "cell_type": "code",
   "execution_count": null,
   "metadata": {
    "execution": {
     "iopub.execute_input": "2025-08-03T06:29:32.474368Z",
     "iopub.status.busy": "2025-08-03T06:29:32.474019Z",
     "iopub.status.idle": "2025-08-03T06:29:32.494688Z",
     "shell.execute_reply": "2025-08-03T06:29:32.493902Z",
     "shell.execute_reply.started": "2025-08-03T06:29:32.474343Z"
    }
   },
   "outputs": [],
   "source": [
    "df = df.sort_values('Date')\n",
    "daily_sales = df.groupby('Date')['Units Sold'].sum().reset_index()\n",
    "daily_sales.set_index('Date', inplace=True)\n",
    "daily_sales.head(2)"
   ]
  },
  {
   "cell_type": "code",
   "execution_count": null,
   "metadata": {
    "execution": {
     "iopub.execute_input": "2025-08-02T06:11:26.93361Z",
     "iopub.status.busy": "2025-08-02T06:11:26.933043Z",
     "iopub.status.idle": "2025-08-02T06:11:26.948274Z",
     "shell.execute_reply": "2025-08-02T06:11:26.947231Z",
     "shell.execute_reply.started": "2025-08-02T06:11:26.933582Z"
    }
   },
   "outputs": [],
   "source": [
    "SeasonalityCounts = df['Seasonality'].value_counts().reset_index()\n",
    "SeasonalityCounts"
   ]
  },
  {
   "cell_type": "code",
   "execution_count": null,
   "metadata": {},
   "outputs": [],
   "source": [
    "#creating box plot for show the outliers\n"
   ]
  },
  {
   "cell_type": "code",
   "execution_count": null,
   "metadata": {
    "execution": {
     "iopub.execute_input": "2025-08-01T04:49:53.836396Z",
     "iopub.status.busy": "2025-08-01T04:49:53.836096Z",
     "iopub.status.idle": "2025-08-01T04:49:54.185736Z",
     "shell.execute_reply": "2025-08-01T04:49:54.184754Z",
     "shell.execute_reply.started": "2025-08-01T04:49:53.836377Z"
    }
   },
   "outputs": [],
   "source": [
    "# 1. Visualize data to check for outliers\n",
    "# Plot boxplots for 'Inventory Level', 'Units Sold', and 'Price'\n",
    "plt.figure(figsize=(15, 5))\n",
    "plt.subplot(1, 3, 1)\n",
    "sns.boxplot(x=df['Inventory Level'])\n",
    "plt.title('Inventory Level Outliers')\n",
    "\n",
    "plt.subplot(1, 3, 2)\n",
    "sns.boxplot(x=df['Units Sold'])\n",
    "plt.title('Units Sold Outliers')\n",
    "\n",
    "plt.subplot(1, 3, 3)\n",
    "sns.boxplot(x=df['Price'])\n",
    "plt.title('Price Outliers')\n",
    "\n",
    "plt.tight_layout()\n",
    "plt.show()"
   ]
  },
  {
   "cell_type": "code",
   "execution_count": null,
   "metadata": {
    "execution": {
     "iopub.execute_input": "2025-08-03T06:29:40.862068Z",
     "iopub.status.busy": "2025-08-03T06:29:40.861752Z",
     "iopub.status.idle": "2025-08-03T06:29:40.875672Z",
     "shell.execute_reply": "2025-08-03T06:29:40.874917Z",
     "shell.execute_reply.started": "2025-08-03T06:29:40.862042Z"
    }
   },
   "outputs": [],
   "source": [
    "#units sold contain outliers , now checking how much data counts are outliers\n",
    "# Calculate Q1 (25th percentile) and Q3 (75th percentile)\n",
    "Q1 = df['Units Sold'].quantile(0.25)\n",
    "Q3 = df['Units Sold'].quantile(0.75)\n",
    "\n",
    "# Calculate IQR\n",
    "IQR = Q3 - Q1\n",
    "\n",
    "# Define the bounds for outliers\n",
    "lower_bound = Q1 - 1.5 * IQR\n",
    "upper_bound = Q3 + 1.5 * IQR\n",
    "print(df.shape)\n",
    "print(df[df['Units Sold'] > upper_bound].shape)\n",
    "print(df[df['Units Sold'] < lower_bound].shape)\n",
    "\n",
    "### above results are showing the outlier are in the upper_bound\n",
    "##only and less count comparing to the orignal one so we can remove the outliers."
   ]
  },
  {
   "cell_type": "code",
   "execution_count": null,
   "metadata": {
    "execution": {
     "iopub.execute_input": "2025-08-03T06:29:43.568643Z",
     "iopub.status.busy": "2025-08-03T06:29:43.568323Z",
     "iopub.status.idle": "2025-08-03T06:29:43.592585Z",
     "shell.execute_reply": "2025-08-03T06:29:43.591818Z",
     "shell.execute_reply.started": "2025-08-03T06:29:43.568621Z"
    }
   },
   "outputs": [],
   "source": [
    "# Detecting potential outliers using IQR (Interquartile Range)\n",
    "Q1 = df[['Inventory Level', 'Units Sold', 'Price']].quantile(0.25)\n",
    "Q3 = df[['Inventory Level', 'Units Sold', 'Price']].quantile(0.75)\n",
    "IQR = Q3 - Q1\n",
    "outliers = ((df[['Inventory Level', 'Units Sold', 'Price']] < (Q1 - 1.5 * IQR)) | \n",
    "            (df[['Inventory Level', 'Units Sold', 'Price']] > (Q3 + 1.5 * IQR)))\n",
    "print(\"Potential Outliers Detected in units sold :\")\n",
    "print(outliers.sum())"
   ]
  },
  {
   "cell_type": "code",
   "execution_count": null,
   "metadata": {
    "execution": {
     "iopub.execute_input": "2025-08-03T06:29:46.068294Z",
     "iopub.status.busy": "2025-08-03T06:29:46.067932Z",
     "iopub.status.idle": "2025-08-03T06:29:46.099477Z",
     "shell.execute_reply": "2025-08-03T06:29:46.098766Z",
     "shell.execute_reply.started": "2025-08-03T06:29:46.068269Z"
    }
   },
   "outputs": [],
   "source": [
    "#Detect and remove outliers using IQR (Interquartile Range)\n",
    "Q1 = df[['Inventory Level', 'Units Sold', 'Price']].quantile(0.25)\n",
    "Q3 = df[['Inventory Level', 'Units Sold', 'Price']].quantile(0.75)\n",
    "IQR = Q3 - Q1\n",
    "\n",
    "# Define the outlier condition\n",
    "outliers_condition = ((df[['Inventory Level', 'Units Sold', 'Price']] <= (Q1 - 1.5 * IQR)) | \n",
    "                      (df[['Inventory Level', 'Units Sold', 'Price']] >= (Q3 + 1.5 * IQR)))\n",
    "\n",
    "# Remove outliers \n",
    "#This filters the original DataFrame df by selecting only rows where any(axis=1) is False (i.e rows that do not contain any outliers).\n",
    "#The tilda (~) negates the condition, so rows with no outliers are kept, and rows with outliers are removed.\n",
    "\n",
    "df_cleaned = df[~outliers_condition.any(axis=1)]\n",
    "\n",
    "# any(axis=1): Ensures that we consider rows with outliers \n",
    "#in any of the columns. If a row has an outlier in at least one column, it will be flagged as an outlier.\n",
    "\n",
    "# Display the shape before and after removal\n",
    "print(f\"Original dataset shape: {df.shape}\")\n",
    "print(f\"Cleaned dataset shape: {df_cleaned.shape}\")\n",
    "df=df_cleaned"
   ]
  },
  {
   "cell_type": "code",
   "execution_count": null,
   "metadata": {
    "execution": {
     "iopub.execute_input": "2025-08-03T06:29:48.803513Z",
     "iopub.status.busy": "2025-08-03T06:29:48.803211Z",
     "iopub.status.idle": "2025-08-03T06:29:48.813453Z",
     "shell.execute_reply": "2025-08-03T06:29:48.812592Z",
     "shell.execute_reply.started": "2025-08-03T06:29:48.80349Z"
    }
   },
   "outputs": [],
   "source": [
    "# Feature engineering: add day of week and month\n",
    "daily_sales['DayOfWeek'] = daily_sales.index.dayofweek\n",
    "daily_sales['Month'] = daily_sales.index.month\n",
    "daily_sales.head(2)"
   ]
  },
  {
   "cell_type": "code",
   "execution_count": null,
   "metadata": {
    "execution": {
     "iopub.execute_input": "2025-08-03T06:29:58.461219Z",
     "iopub.status.busy": "2025-08-03T06:29:58.46086Z",
     "iopub.status.idle": "2025-08-03T06:29:58.473019Z",
     "shell.execute_reply": "2025-08-03T06:29:58.472069Z",
     "shell.execute_reply.started": "2025-08-03T06:29:58.461162Z"
    }
   },
   "outputs": [],
   "source": [
    "# Normalize the data\n",
    "scaler = MinMaxScaler()\n",
    "sales_scaled = scaler.fit_transform(daily_sales)"
   ]
  },
  {
   "cell_type": "code",
   "execution_count": null,
   "metadata": {
    "execution": {
     "iopub.execute_input": "2025-08-03T06:30:01.850601Z",
     "iopub.status.busy": "2025-08-03T06:30:01.849758Z",
     "iopub.status.idle": "2025-08-03T06:30:16.287692Z",
     "shell.execute_reply": "2025-08-03T06:30:16.286828Z",
     "shell.execute_reply.started": "2025-08-03T06:30:01.850573Z"
    }
   },
   "outputs": [],
   "source": [
    "plt.figure(figsize=(12, 6))\n",
    "sns.lineplot(x='Date', y='Inventory Level', data=df)\n",
    "plt.title('Inventory Level Over Time')\n",
    "plt.show()"
   ]
  },
  {
   "cell_type": "code",
   "execution_count": null,
   "metadata": {
    "execution": {
     "iopub.execute_input": "2025-07-31T11:03:57.384072Z",
     "iopub.status.busy": "2025-07-31T11:03:57.383749Z",
     "iopub.status.idle": "2025-07-31T11:03:57.73995Z",
     "shell.execute_reply": "2025-07-31T11:03:57.738858Z",
     "shell.execute_reply.started": "2025-07-31T11:03:57.384048Z"
    }
   },
   "outputs": [],
   "source": [
    "plt.figure(figsize=(8, 4))\n",
    "sns.scatterplot(x='Units Sold', y='Inventory Level', data=df)\n",
    "plt.title('Inventory Level vs Units Sold')\n",
    "plt.show()"
   ]
  },
  {
   "cell_type": "code",
   "execution_count": null,
   "metadata": {
    "execution": {
     "iopub.execute_input": "2025-08-02T06:12:21.791878Z",
     "iopub.status.busy": "2025-08-02T06:12:21.791583Z",
     "iopub.status.idle": "2025-08-02T06:12:21.801909Z",
     "shell.execute_reply": "2025-08-02T06:12:21.800916Z",
     "shell.execute_reply.started": "2025-08-02T06:12:21.791857Z"
    }
   },
   "outputs": [],
   "source": [
    "# Calculate overstock frequency \n",
    "avg_daily_sales = df.groupby('Date')['Units Sold'].mean().mean()\n",
    "overstock_freq = (df['Inventory Level'] > 2 * avg_daily_sales).mean()\n",
    "print(f\"Overstock frequency: {overstock_freq:.2%}\")"
   ]
  },
  {
   "cell_type": "code",
   "execution_count": null,
   "metadata": {
    "execution": {
     "iopub.execute_input": "2025-07-31T11:04:03.113813Z",
     "iopub.status.busy": "2025-07-31T11:04:03.113528Z",
     "iopub.status.idle": "2025-07-31T11:04:03.141189Z",
     "shell.execute_reply": "2025-07-31T11:04:03.140329Z",
     "shell.execute_reply.started": "2025-07-31T11:04:03.113794Z"
    }
   },
   "outputs": [],
   "source": [
    "df.head(3)"
   ]
  },
  {
   "cell_type": "code",
   "execution_count": null,
   "metadata": {},
   "outputs": [],
   "source": []
  },
  {
   "cell_type": "code",
   "execution_count": null,
   "metadata": {
    "execution": {
     "iopub.execute_input": "2025-08-03T06:30:16.289517Z",
     "iopub.status.busy": "2025-08-03T06:30:16.289225Z",
     "iopub.status.idle": "2025-08-03T06:30:16.336332Z",
     "shell.execute_reply": "2025-08-03T06:30:16.335561Z",
     "shell.execute_reply.started": "2025-08-03T06:30:16.289494Z"
    }
   },
   "outputs": [],
   "source": [
    "# Sort the DataFrame by date and store/product ID to ensure correct lag and rolling calculations\n",
    "df = df.sort_values(['Store ID', 'Product ID', 'Date'])\n",
    "\n",
    "# Create lag features\n",
    "for lag in [1, 7]:\n",
    "    df[f'Sales_Lag_{lag}'] = df.groupby(['Store ID', 'Product ID'])['Units Sold'].shift(lag)\n",
    "    \n",
    "# Sales_Lag_1: how many units were sold 1 day before\n",
    "# Sales_Lag_7: how many units were sold 7 days before"
   ]
  },
  {
   "cell_type": "code",
   "execution_count": null,
   "metadata": {
    "execution": {
     "iopub.execute_input": "2025-08-03T05:39:03.276553Z",
     "iopub.status.busy": "2025-08-03T05:39:03.276252Z",
     "iopub.status.idle": "2025-08-03T05:39:03.291931Z",
     "shell.execute_reply": "2025-08-03T05:39:03.290831Z",
     "shell.execute_reply.started": "2025-08-03T05:39:03.276532Z"
    }
   },
   "outputs": [],
   "source": [
    "df.head(3)\n",
    "#This tells the model: “Yesterday we sold 20 units, and 7 days ago we sold 30 units\n",
    "#Capture short-term demand trends (1-day lag = immediate trend)\n",
    "#Capture weekly seasonality (7-day lag = weekday pattern)"
   ]
  },
  {
   "cell_type": "code",
   "execution_count": null,
   "metadata": {
    "execution": {
     "iopub.execute_input": "2025-08-03T06:30:23.615727Z",
     "iopub.status.busy": "2025-08-03T06:30:23.615429Z",
     "iopub.status.idle": "2025-08-03T06:30:23.692307Z",
     "shell.execute_reply": "2025-08-03T06:30:23.691471Z",
     "shell.execute_reply.started": "2025-08-03T06:30:23.615702Z"
    }
   },
   "outputs": [],
   "source": [
    "# Create rolling mean features\n",
    "for window in [7, 14]:\n",
    "    df[f'Sales_RollingMean_{window}'] = df.groupby(['Store ID', 'Product ID'])['Units Sold'].transform(lambda x: x.rolling(window=window, min_periods=1).mean())\n",
    "    \n",
    "#Sales_RollingMean_7: The average units sold over the past 7 days for that store product\n",
    "#Sales_RollingMean_14: Same over the past 14 days."
   ]
  },
  {
   "cell_type": "code",
   "execution_count": null,
   "metadata": {
    "execution": {
     "iopub.execute_input": "2025-08-02T06:10:55.059187Z",
     "iopub.status.busy": "2025-08-02T06:10:55.058896Z",
     "iopub.status.idle": "2025-08-02T06:10:55.075048Z",
     "shell.execute_reply": "2025-08-02T06:10:55.074288Z",
     "shell.execute_reply.started": "2025-08-02T06:10:55.059164Z"
    }
   },
   "outputs": [],
   "source": [
    "df.head(3)"
   ]
  },
  {
   "cell_type": "code",
   "execution_count": null,
   "metadata": {},
   "outputs": [],
   "source": []
  },
  {
   "cell_type": "code",
   "execution_count": null,
   "metadata": {
    "execution": {
     "iopub.execute_input": "2025-08-03T06:30:33.67525Z",
     "iopub.status.busy": "2025-08-03T06:30:33.674918Z",
     "iopub.status.idle": "2025-08-03T06:30:33.71908Z",
     "shell.execute_reply": "2025-08-03T06:30:33.718124Z",
     "shell.execute_reply.started": "2025-08-03T06:30:33.675225Z"
    }
   },
   "outputs": [],
   "source": [
    "# Add day of week and month\n",
    "df['DayOfWeek'] = df['Date'].dt.dayofweek\n",
    "df['Month'] = df['Date'].dt.month\n",
    "\n",
    "# Handle missing values\n",
    "df = df.dropna()\n",
    "\n",
    "# Print the shape of the DataFrame before and after dropping NA values\n",
    "print(f\"Shape before dropping NA: {df.shape}\")\n",
    "print(f\"Shape after dropping NA: {df.shape}\")"
   ]
  },
  {
   "cell_type": "code",
   "execution_count": null,
   "metadata": {
    "execution": {
     "iopub.execute_input": "2025-08-03T06:30:37.803682Z",
     "iopub.status.busy": "2025-08-03T06:30:37.803379Z",
     "iopub.status.idle": "2025-08-03T06:30:37.842906Z",
     "shell.execute_reply": "2025-08-03T06:30:37.842035Z",
     "shell.execute_reply.started": "2025-08-03T06:30:37.80366Z"
    }
   },
   "outputs": [],
   "source": [
    "df = df.dropna()\n"
   ]
  },
  {
   "cell_type": "code",
   "execution_count": null,
   "metadata": {
    "execution": {
     "iopub.execute_input": "2025-08-03T06:30:39.166531Z",
     "iopub.status.busy": "2025-08-03T06:30:39.166231Z",
     "iopub.status.idle": "2025-08-03T06:30:39.177313Z",
     "shell.execute_reply": "2025-08-03T06:30:39.1764Z",
     "shell.execute_reply.started": "2025-08-03T06:30:39.16651Z"
    }
   },
   "outputs": [],
   "source": [
    "# Check the created features\n",
    "print(df[['Units Sold'] + [f'Sales_Lag_{lag}' for lag in [1, 7]] + [f'Sales_RollingMean_{window}' for window in [7, 14]] + ['DayOfWeek', 'Month']].head())"
   ]
  },
  {
   "cell_type": "code",
   "execution_count": null,
   "metadata": {
    "execution": {
     "iopub.execute_input": "2025-08-03T06:30:47.451069Z",
     "iopub.status.busy": "2025-08-03T06:30:47.450731Z",
     "iopub.status.idle": "2025-08-03T06:30:47.471358Z",
     "shell.execute_reply": "2025-08-03T06:30:47.470489Z",
     "shell.execute_reply.started": "2025-08-03T06:30:47.451045Z"
    }
   },
   "outputs": [],
   "source": [
    "df.head(3)"
   ]
  },
  {
   "cell_type": "code",
   "execution_count": null,
   "metadata": {
    "execution": {
     "iopub.execute_input": "2025-08-03T06:30:49.602579Z",
     "iopub.status.busy": "2025-08-03T06:30:49.602284Z",
     "iopub.status.idle": "2025-08-03T06:30:49.687501Z",
     "shell.execute_reply": "2025-08-03T06:30:49.686618Z",
     "shell.execute_reply.started": "2025-08-03T06:30:49.602558Z"
    }
   },
   "outputs": [],
   "source": [
    "#change the string values in numeric because ML model not be traind on string values\n",
    "le=LabelEncoder()\n",
    "df['Store ID']=le.fit_transform(df['Store ID'])\n",
    "df['Product ID']=le.fit_transform(df['Product ID'])\n",
    "df['Category']=le.fit_transform(df['Category'])\n",
    "df['Region']=le.fit_transform(df['Region'])\n",
    "df['Weather Condition']=le.fit_transform(df['Weather Condition'])\n",
    "df['Seasonality']=le.fit_transform(df['Seasonality'])\n"
   ]
  },
  {
   "cell_type": "code",
   "execution_count": null,
   "metadata": {
    "execution": {
     "iopub.execute_input": "2025-08-02T12:52:49.201994Z",
     "iopub.status.busy": "2025-08-02T12:52:49.201679Z",
     "iopub.status.idle": "2025-08-02T12:52:49.222536Z",
     "shell.execute_reply": "2025-08-02T12:52:49.221602Z",
     "shell.execute_reply.started": "2025-08-02T12:52:49.201971Z"
    }
   },
   "outputs": [],
   "source": [
    "df.head(2)"
   ]
  },
  {
   "cell_type": "code",
   "execution_count": null,
   "metadata": {
    "execution": {
     "iopub.execute_input": "2025-08-02T12:53:05.80204Z",
     "iopub.status.busy": "2025-08-02T12:53:05.80176Z",
     "iopub.status.idle": "2025-08-02T12:53:05.808146Z",
     "shell.execute_reply": "2025-08-02T12:53:05.807289Z",
     "shell.execute_reply.started": "2025-08-02T12:53:05.802021Z"
    }
   },
   "outputs": [],
   "source": [
    "df.columns"
   ]
  },
  {
   "cell_type": "code",
   "execution_count": null,
   "metadata": {
    "execution": {
     "iopub.execute_input": "2025-08-03T05:13:56.063058Z",
     "iopub.status.busy": "2025-08-03T05:13:56.062213Z",
     "iopub.status.idle": "2025-08-03T05:13:56.075739Z",
     "shell.execute_reply": "2025-08-03T05:13:56.074847Z",
     "shell.execute_reply.started": "2025-08-03T05:13:56.063024Z"
    }
   },
   "outputs": [],
   "source": [
    "print(\"\\nMissing Values:\")\n",
    "print(df.isnull().sum())"
   ]
  },
  {
   "cell_type": "code",
   "execution_count": null,
   "metadata": {
    "execution": {
     "iopub.execute_input": "2025-08-02T13:08:40.070579Z",
     "iopub.status.busy": "2025-08-02T13:08:40.070225Z",
     "iopub.status.idle": "2025-08-02T13:08:40.078738Z",
     "shell.execute_reply": "2025-08-02T13:08:40.077909Z",
     "shell.execute_reply.started": "2025-08-02T13:08:40.070556Z"
    }
   },
   "outputs": [],
   "source": [
    "df.drop(columns=['Store ID','Product ID','Date'],axis=1,inplace=True)"
   ]
  },
  {
   "cell_type": "code",
   "execution_count": null,
   "metadata": {
    "execution": {
     "iopub.execute_input": "2025-08-02T06:12:52.44192Z",
     "iopub.status.busy": "2025-08-02T06:12:52.441641Z",
     "iopub.status.idle": "2025-08-02T06:12:52.458143Z",
     "shell.execute_reply": "2025-08-02T06:12:52.457198Z",
     "shell.execute_reply.started": "2025-08-02T06:12:52.4419Z"
    }
   },
   "outputs": [],
   "source": [
    "df.head(5)"
   ]
  },
  {
   "cell_type": "code",
   "execution_count": null,
   "metadata": {
    "execution": {
     "iopub.execute_input": "2025-08-02T06:12:54.62179Z",
     "iopub.status.busy": "2025-08-02T06:12:54.621493Z",
     "iopub.status.idle": "2025-08-02T06:12:55.557128Z",
     "shell.execute_reply": "2025-08-02T06:12:55.556287Z",
     "shell.execute_reply.started": "2025-08-02T06:12:54.621769Z"
    }
   },
   "outputs": [],
   "source": [
    "corr_matrix = df.corr()\n",
    "\n",
    "# Create a heatmap\n",
    "plt.figure(figsize=(9, 7))  # Set figure size\n",
    "sns.heatmap(corr_matrix, annot=True, cmap=\"coolwarm\", fmt=\".2f\", cbar=True)\n",
    "\n",
    " \n",
    "plt.title(\"Correlation Heatmap\")\n",
    "plt.show()"
   ]
  },
  {
   "cell_type": "code",
   "execution_count": null,
   "metadata": {
    "execution": {
     "iopub.execute_input": "2025-08-02T13:07:58.680541Z",
     "iopub.status.busy": "2025-08-02T13:07:58.679465Z",
     "iopub.status.idle": "2025-08-02T13:07:58.706955Z",
     "shell.execute_reply": "2025-08-02T13:07:58.70605Z",
     "shell.execute_reply.started": "2025-08-02T13:07:58.680508Z"
    }
   },
   "outputs": [],
   "source": [
    "df.info()"
   ]
  },
  {
   "cell_type": "code",
   "execution_count": null,
   "metadata": {
    "execution": {
     "iopub.execute_input": "2025-08-02T13:11:08.649059Z",
     "iopub.status.busy": "2025-08-02T13:11:08.648733Z",
     "iopub.status.idle": "2025-08-02T13:11:08.654542Z",
     "shell.execute_reply": "2025-08-02T13:11:08.653491Z",
     "shell.execute_reply.started": "2025-08-02T13:11:08.649027Z"
    }
   },
   "outputs": [],
   "source": [
    "from sklearn.ensemble import RandomForestRegressor\n",
    "from sklearn.model_selection import train_test_split\n",
    "from sklearn.metrics import mean_squared_error, mean_absolute_percentage_error\n",
    "import numpy as np\n",
    "\n",
    "# Define features and target\n",
    "# features = ['Sales_Lag_1', 'Sales_Lag_7', 'Sales_RollingMean_7', 'DayOfWeek', 'Month', 'Price', 'Discount']\n",
    "# X = df[]\n",
    "# y = df['']\n",
    "\n",
    "\n",
    "# X=df.drop('Units Sold',axis=1)\n",
    "# y=df['Units Sold']\n",
    "\n",
    "# # Train-test split\n",
    "# X_train, X_test, y_train, y_test = train_test_split(X, y, test_size=0.2, random_state=42)\n",
    "\n",
    "# # Train Random Forest model\n",
    "# rf_model = RandomForestRegressor(n_estimators=100, random_state=42)\n",
    "# rf_model.fit(X_train, y_train)\n",
    "\n",
    "# # Make predictions\n",
    "# y_pred = rf_model.predict(X_test)\n",
    "\n",
    "# # Evaluation metrics\n",
    "# mse = mean_squared_error(y_test, y_pred)\n",
    "# mape = mean_absolute_percentage_error(y_test, y_pred) * 100  # Convert to percentage\n",
    "\n",
    "# print(f\"Mean Squared Error (MSE): {mse:.2f}\")\n",
    "# print(f\"Mean Absolute Percentage Error (MAPE): {mape:.2f}%\")\n"
   ]
  },
  {
   "cell_type": "code",
   "execution_count": null,
   "metadata": {
    "execution": {
     "iopub.execute_input": "2025-07-31T11:19:01.686728Z",
     "iopub.status.busy": "2025-07-31T11:19:01.686389Z",
     "iopub.status.idle": "2025-07-31T11:19:01.694382Z",
     "shell.execute_reply": "2025-07-31T11:19:01.693263Z",
     "shell.execute_reply.started": "2025-07-31T11:19:01.686705Z"
    }
   },
   "outputs": [],
   "source": [
    "wape = np.sum(np.abs(y_test - y_pred)) / np.sum(np.abs(y_test)) * 100\n",
    "print(f\"WAPE: {wape:.2f}%\")\n"
   ]
  },
  {
   "cell_type": "code",
   "execution_count": null,
   "metadata": {
    "execution": {
     "iopub.execute_input": "2025-07-31T11:29:53.180246Z",
     "iopub.status.busy": "2025-07-31T11:29:53.179959Z",
     "iopub.status.idle": "2025-07-31T11:29:53.1847Z",
     "shell.execute_reply": "2025-07-31T11:29:53.183645Z",
     "shell.execute_reply.started": "2025-07-31T11:29:53.18022Z"
    }
   },
   "outputs": [],
   "source": [
    "import matplotlib.pyplot as plt\n",
    "import seaborn as sns\n",
    "import pandas as pd\n",
    "\n",
    "# Get feature importances and sort them\n",
    "importances = rf_model.feature_importances_\n",
    "feature_names = X.columns\n",
    "feature_importance_df = pd.DataFrame({'Feature': feature_names, 'Importance': importances})\n",
    "feature_importance_df = feature_importance_df.sort_values(by='Importance', ascending=False)\n",
    "\n",
    "# Plot\n",
    "plt.figure(figsize=(10, 6))\n",
    "sns.barplot(x='Importance', y='Feature', data=feature_importance_df, palette='viridis')\n",
    "plt.title('Feature Importance from Random Forest')\n",
    "plt.xlabel('Importance Score')\n",
    "plt.ylabel('Features')\n",
    "plt.tight_layout()\n",
    "plt.show()\n"
   ]
  },
  {
   "cell_type": "code",
   "execution_count": null,
   "metadata": {
    "execution": {
     "iopub.execute_input": "2025-07-31T11:26:28.989619Z",
     "iopub.status.busy": "2025-07-31T11:26:28.989258Z",
     "iopub.status.idle": "2025-07-31T11:26:29.209255Z",
     "shell.execute_reply": "2025-07-31T11:26:29.208041Z",
     "shell.execute_reply.started": "2025-07-31T11:26:28.989597Z"
    }
   },
   "outputs": [],
   "source": [
    "from sklearn.metrics import mean_absolute_error, r2_score\n",
    "import matplotlib.pyplot as plt\n",
    "\n",
    "# Calculate additional metrics\n",
    "mae = mean_absolute_error(y_test, y_pred)\n",
    "r2 = r2_score(y_test, y_pred)\n",
    "\n",
    "print(f\"Mean Absolute Error: {mae:.2f}\")\n",
    "print(f\"R-squared Score: {r2:.2f}\")\n",
    "\n",
    "# Visualize predictions vs actual\n",
    "plt.figure(figsize=(6, 4))\n",
    "plt.scatter(y_test, y_pred, alpha=0.5)\n",
    "plt.plot([y_test.min(), y_test.max()], [y_test.min(), y_test.max()], 'r--', lw=2)\n",
    "plt.xlabel(\"Actual \")\n",
    "plt.ylabel(\"Predicted \")\n",
    "plt.title(\"Actual vs Predicted \")\n",
    "plt.show()\n",
    "\n",
    "# # Feature importance\n",
    "# importances = rf_model.feature_importances_\n",
    "# feature_imp = pd.DataFrame(sorted(zip(importances, features)), columns=['Y','X'])\n",
    "\n",
    "# plt.figure(figsize=(6, 4))\n",
    "# sns.barplot(x=\"Value\", y=\"Feature\", data=feature_imp.sort_values(by=\"Value\", ascending=False))\n",
    "# plt.title('Random Forest Features Importance')\n",
    "# plt.tight_layout()\n",
    "# plt.show()"
   ]
  },
  {
   "cell_type": "code",
   "execution_count": null,
   "metadata": {},
   "outputs": [],
   "source": []
  },
  {
   "cell_type": "markdown",
   "metadata": {},
   "source": [
    "# Time Series Demand Forecasting\n"
   ]
  },
  {
   "cell_type": "code",
   "execution_count": null,
   "metadata": {},
   "outputs": [],
   "source": [
    "# Objective:\n",
    "# Build and evaluate models to predict daily product\n",
    "#demand using time series forecasting techniques\n",
    "\n",
    "## Outcome\n",
    "# Generate forecasts for daily product demand\n",
    "# and assess the performance of the ARIMA model. Use this model to understand trends and improve inventory planning"
   ]
  },
  {
   "cell_type": "code",
   "execution_count": null,
   "metadata": {
    "execution": {
     "iopub.execute_input": "2025-08-02T11:33:28.569204Z",
     "iopub.status.busy": "2025-08-02T11:33:28.568907Z",
     "iopub.status.idle": "2025-08-02T11:33:28.575948Z",
     "shell.execute_reply": "2025-08-02T11:33:28.575194Z",
     "shell.execute_reply.started": "2025-08-02T11:33:28.569182Z"
    }
   },
   "outputs": [],
   "source": [
    "from statsmodels.tsa.stattools import adfuller\n",
    "from statsmodels.tsa.arima.model import ARIMA\n",
    "from statsmodels.graphics.tsaplots import plot_acf, plot_pacf\n",
    "from sklearn.metrics import mean_squared_error, mean_absolute_error\n",
    "from math import sqrt\n",
    "import warnings\n",
    "warnings.filterwarnings('ignore')"
   ]
  },
  {
   "cell_type": "code",
   "execution_count": null,
   "metadata": {
    "execution": {
     "iopub.execute_input": "2025-08-02T11:33:30.327358Z",
     "iopub.status.busy": "2025-08-02T11:33:30.327056Z",
     "iopub.status.idle": "2025-08-02T11:33:30.341637Z",
     "shell.execute_reply": "2025-08-02T11:33:30.340601Z",
     "shell.execute_reply.started": "2025-08-02T11:33:30.327336Z"
    }
   },
   "outputs": [],
   "source": [
    "df[:2]"
   ]
  },
  {
   "cell_type": "code",
   "execution_count": null,
   "metadata": {
    "execution": {
     "iopub.execute_input": "2025-08-02T11:58:09.902203Z",
     "iopub.status.busy": "2025-08-02T11:58:09.901887Z",
     "iopub.status.idle": "2025-08-02T11:58:09.908272Z",
     "shell.execute_reply": "2025-08-02T11:58:09.907466Z",
     "shell.execute_reply.started": "2025-08-02T11:58:09.902175Z"
    }
   },
   "outputs": [],
   "source": [
    "df.columns"
   ]
  },
  {
   "cell_type": "code",
   "execution_count": null,
   "metadata": {
    "execution": {
     "iopub.execute_input": "2025-08-02T11:58:13.410209Z",
     "iopub.status.busy": "2025-08-02T11:58:13.409424Z",
     "iopub.status.idle": "2025-08-02T11:58:13.418111Z",
     "shell.execute_reply": "2025-08-02T11:58:13.417333Z",
     "shell.execute_reply.started": "2025-08-02T11:58:13.410182Z"
    }
   },
   "outputs": [],
   "source": [
    "df.drop(columns=['Store ID','Product ID'],axis=1,inplace=True)"
   ]
  },
  {
   "cell_type": "code",
   "execution_count": null,
   "metadata": {
    "execution": {
     "iopub.execute_input": "2025-08-02T11:58:15.391698Z",
     "iopub.status.busy": "2025-08-02T11:58:15.391346Z",
     "iopub.status.idle": "2025-08-02T11:58:15.407351Z",
     "shell.execute_reply": "2025-08-02T11:58:15.406474Z",
     "shell.execute_reply.started": "2025-08-02T11:58:15.391674Z"
    }
   },
   "outputs": [],
   "source": [
    "\n",
    "# 1. Data Preparation\n",
    "df['Date'] = pd.to_datetime(df['Date'])\n",
    "df.set_index('Date', inplace=True)"
   ]
  },
  {
   "cell_type": "code",
   "execution_count": null,
   "metadata": {
    "execution": {
     "iopub.execute_input": "2025-08-02T11:58:16.945295Z",
     "iopub.status.busy": "2025-08-02T11:58:16.944953Z",
     "iopub.status.idle": "2025-08-02T11:58:16.960971Z",
     "shell.execute_reply": "2025-08-02T11:58:16.960156Z",
     "shell.execute_reply.started": "2025-08-02T11:58:16.945271Z"
    }
   },
   "outputs": [],
   "source": [
    "# Aggregate the data by day and sum the 'Units Sold' for daily demand\n",
    "daily_demand = df.resample('D')['Units Sold'].sum()\n",
    "daily_demand"
   ]
  },
  {
   "cell_type": "code",
   "execution_count": null,
   "metadata": {
    "execution": {
     "iopub.execute_input": "2025-08-02T11:58:17.773645Z",
     "iopub.status.busy": "2025-08-02T11:58:17.773296Z",
     "iopub.status.idle": "2025-08-02T11:58:17.777774Z",
     "shell.execute_reply": "2025-08-02T11:58:17.776719Z",
     "shell.execute_reply.started": "2025-08-02T11:58:17.773622Z"
    }
   },
   "outputs": [],
   "source": [
    "#ARIMA models only require a single time-series column \n"
   ]
  },
  {
   "cell_type": "code",
   "execution_count": null,
   "metadata": {
    "execution": {
     "iopub.execute_input": "2025-08-02T11:58:18.075454Z",
     "iopub.status.busy": "2025-08-02T11:58:18.074811Z",
     "iopub.status.idle": "2025-08-02T11:58:18.078735Z",
     "shell.execute_reply": "2025-08-02T11:58:18.078014Z",
     "shell.execute_reply.started": "2025-08-02T11:58:18.075423Z"
    }
   },
   "outputs": [],
   "source": [
    "# ADF Test for Stationarity\n",
    "# Objective:\n",
    "# To check if the time series data is stationary using\n",
    "#the Augmented Dickey-Fuller (ADF) test."
   ]
  },
  {
   "cell_type": "code",
   "execution_count": null,
   "metadata": {
    "execution": {
     "iopub.execute_input": "2025-08-02T12:01:40.208412Z",
     "iopub.status.busy": "2025-08-02T12:01:40.208072Z",
     "iopub.status.idle": "2025-08-02T12:01:40.234162Z",
     "shell.execute_reply": "2025-08-02T12:01:40.233424Z",
     "shell.execute_reply.started": "2025-08-02T12:01:40.208366Z"
    }
   },
   "outputs": [],
   "source": [
    "# 2. Check for Stationarity\n",
    "# Perform ADF Test\n",
    "def adf_test(series):\n",
    "    result = adfuller(series)\n",
    "    print(f\"ADF Statistic: {result[0]}\")\n",
    "    print(f\"p-value: {result[1]}\")\n",
    "\n",
    "adf_test(daily_demand)\n",
    "# If p-value > 0.05  Non-stationary  Apply differencing.\n",
    "\n",
    "# If p-value < 0.05  Stationary  Good to proceed.\n",
    "\n",
    "#Stationarity: A time series is considered stationary if its statistical properties, \n",
    "#like mean, variance, and autocorrelation, remain constant over time.\n",
    "#In simple terms, the pattern in the data does not change, making it easier to model and forecast.\n",
    "\n",
    "\n",
    "# ADF Statistic: A negative value that indicates how strong the trend is in the time series.\n",
    "\n",
    "#p-value: Indicates whether we can reject the null hypothesis that the series is \n",
    "#non-stationary. If the p-value is below 0.05, we can reject the null hypothesis and\n",
    "#consider the series stationary."
   ]
  },
  {
   "cell_type": "code",
   "execution_count": null,
   "metadata": {
    "execution": {
     "iopub.execute_input": "2025-08-02T12:01:41.830343Z",
     "iopub.status.busy": "2025-08-02T12:01:41.829383Z",
     "iopub.status.idle": "2025-08-02T12:01:41.834973Z",
     "shell.execute_reply": "2025-08-02T12:01:41.833907Z",
     "shell.execute_reply.started": "2025-08-02T12:01:41.830313Z"
    }
   },
   "outputs": [],
   "source": [
    "# 3. Model Building (ARIMA)\n",
    "# Split the data into training and testing sets\n",
    "train_size = int(len(daily_demand) * 0.8)\n",
    "train, test = daily_demand[:train_size], daily_demand[train_size:]"
   ]
  },
  {
   "cell_type": "code",
   "execution_count": null,
   "metadata": {
    "execution": {
     "iopub.execute_input": "2025-08-02T12:02:00.391892Z",
     "iopub.status.busy": "2025-08-02T12:02:00.391094Z",
     "iopub.status.idle": "2025-08-02T12:02:00.791049Z",
     "shell.execute_reply": "2025-08-02T12:02:00.788583Z",
     "shell.execute_reply.started": "2025-08-02T12:02:00.391858Z"
    }
   },
   "outputs": [],
   "source": [
    "# Fit the ARIMA model (p=1, d=0, q=1 as a starting point, can be tuned)\n",
    "model = ARIMA(train, order=(1, 0, 1))\n",
    "model_fit = model.fit()\n",
    "# (1, 0, 1)\tBasic model with autoreg & noise\n",
    "# (2, 0, 1)\tAdd more lag\n",
    "# (1, 0, 2)\tMore MA\n",
    "# (0, 0, 1)\tMA-only model\n",
    "# (1, 0, 0)\tAR-only model"
   ]
  },
  {
   "cell_type": "code",
   "execution_count": null,
   "metadata": {
    "execution": {
     "iopub.execute_input": "2025-08-02T12:02:04.126897Z",
     "iopub.status.busy": "2025-08-02T12:02:04.126609Z",
     "iopub.status.idle": "2025-08-02T12:02:04.142169Z",
     "shell.execute_reply": "2025-08-02T12:02:04.141128Z",
     "shell.execute_reply.started": "2025-08-02T12:02:04.126878Z"
    }
   },
   "outputs": [],
   "source": [
    "# 4. Forecasting\n",
    "forecast = model_fit.forecast(steps=len(test))"
   ]
  },
  {
   "cell_type": "code",
   "execution_count": null,
   "metadata": {
    "execution": {
     "iopub.execute_input": "2025-08-02T12:02:05.238763Z",
     "iopub.status.busy": "2025-08-02T12:02:05.23803Z",
     "iopub.status.idle": "2025-08-02T12:02:05.244876Z",
     "shell.execute_reply": "2025-08-02T12:02:05.243941Z",
     "shell.execute_reply.started": "2025-08-02T12:02:05.238731Z"
    }
   },
   "outputs": [],
   "source": [
    "# 5. Model Evaluation\n",
    "# Calculate RMSE\n",
    "rmse = sqrt(mean_squared_error(test, forecast))\n",
    "print(f\"RMSE: {rmse}\")"
   ]
  },
  {
   "cell_type": "code",
   "execution_count": null,
   "metadata": {},
   "outputs": [],
   "source": [
    "\n"
   ]
  },
  {
   "cell_type": "code",
   "execution_count": null,
   "metadata": {
    "execution": {
     "iopub.execute_input": "2025-08-02T07:10:55.400899Z",
     "iopub.status.busy": "2025-08-02T07:10:55.4006Z",
     "iopub.status.idle": "2025-08-02T07:10:55.663889Z",
     "shell.execute_reply": "2025-08-02T07:10:55.662979Z",
     "shell.execute_reply.started": "2025-08-02T07:10:55.400876Z"
    }
   },
   "outputs": [],
   "source": [
    "# Plot actual vs forecasted values\n",
    "plt.figure(figsize=(12, 6))\n",
    "plt.plot(test.index, test, label='Actual')\n",
    "plt.plot(test.index, forecast, label='Forecasted', color='red')\n",
    "plt.title('ARIMA Model - Daily Demand Forecasting')\n",
    "plt.xlabel('Date')\n",
    "plt.ylabel('Units Sold')\n",
    "plt.legend()\n",
    "plt.show()"
   ]
  },
  {
   "cell_type": "code",
   "execution_count": null,
   "metadata": {
    "execution": {
     "iopub.execute_input": "2025-08-02T11:14:39.302062Z",
     "iopub.status.busy": "2025-08-02T11:14:39.301757Z",
     "iopub.status.idle": "2025-08-02T11:14:39.306911Z",
     "shell.execute_reply": "2025-08-02T11:14:39.305956Z",
     "shell.execute_reply.started": "2025-08-02T11:14:39.302041Z"
    }
   },
   "outputs": [],
   "source": [
    "###### trying different #### FuRTHER IMproving\n",
    "\n",
    "# Data Prep\tClean datetime, handle missing values, preserve full date info\n",
    "# Stationarity\tAutomate ADF test + differencing suggestion\n",
    "# Order Selection\tAdd ACF/PACF plots \n",
    "# Model Fit\tTrain ARIMA with optimal (p,d,q) and clean diagnostics\n",
    "# Forecast\tPlot forecast + confidence intervals\n",
    "# Evaluation\tRMSE, MAE, and residual diagnostics\n",
    "# Structure\tWrap into functions for reusability"
   ]
  },
  {
   "cell_type": "code",
   "execution_count": null,
   "metadata": {
    "execution": {
     "iopub.execute_input": "2025-08-02T12:11:31.97921Z",
     "iopub.status.busy": "2025-08-02T12:11:31.97848Z",
     "iopub.status.idle": "2025-08-02T12:11:32.003759Z",
     "shell.execute_reply": "2025-08-02T12:11:32.002724Z",
     "shell.execute_reply.started": "2025-08-02T12:11:31.979181Z"
    }
   },
   "outputs": [],
   "source": [
    "df['Date'] = pd.to_datetime(df['Date'])\n",
    "df.sort_values('Date', inplace=True)\n",
    "df.set_index('Date', inplace=True)"
   ]
  },
  {
   "cell_type": "code",
   "execution_count": null,
   "metadata": {
    "execution": {
     "iopub.execute_input": "2025-08-02T12:12:07.398472Z",
     "iopub.status.busy": "2025-08-02T12:12:07.398114Z",
     "iopub.status.idle": "2025-08-02T12:12:07.404139Z",
     "shell.execute_reply": "2025-08-02T12:12:07.403209Z",
     "shell.execute_reply.started": "2025-08-02T12:12:07.398434Z"
    }
   },
   "outputs": [],
   "source": [
    "# Target Variable\n",
    "ts = df['Units Sold'] "
   ]
  },
  {
   "cell_type": "code",
   "execution_count": null,
   "metadata": {
    "execution": {
     "iopub.execute_input": "2025-08-02T12:12:08.08207Z",
     "iopub.status.busy": "2025-08-02T12:12:08.081797Z",
     "iopub.status.idle": "2025-08-02T12:12:16.300829Z",
     "shell.execute_reply": "2025-08-02T12:12:16.299921Z",
     "shell.execute_reply.started": "2025-08-02T12:12:08.082051Z"
    }
   },
   "outputs": [],
   "source": [
    "# ================= 2. STATIONARITY CHECK =================\n",
    "def test_stationarity(timeseries):\n",
    "    result = adfuller(timeseries.dropna())\n",
    "    print(f'ADF Statistic: {result[0]}')\n",
    "    print(f'p-value: {result[1]}')\n",
    "    return result[1] < 0.05\n",
    "\n",
    "is_stationary = test_stationarity(ts)\n",
    "\n",
    "# ================= 3. DIFFERENCING IF NEEDED =================\n",
    "d = 0\n",
    "if not is_stationary:\n",
    "    ts = ts.diff().dropna()\n",
    "    d = 1\n",
    "    print(\"Series differenced (d=1)\")\n"
   ]
  },
  {
   "cell_type": "code",
   "execution_count": null,
   "metadata": {
    "execution": {
     "iopub.execute_input": "2025-08-02T12:12:20.308463Z",
     "iopub.status.busy": "2025-08-02T12:12:20.308101Z",
     "iopub.status.idle": "2025-08-02T12:12:26.540088Z",
     "shell.execute_reply": "2025-08-02T12:12:26.539174Z",
     "shell.execute_reply.started": "2025-08-02T12:12:20.308436Z"
    }
   },
   "outputs": [],
   "source": [
    "\n",
    "# ================= 4. PLOT ACF / PACF =================\n",
    "fig, ax = plt.subplots(1, 2, figsize=(12, 4))\n",
    "plot_acf(ts, ax=ax[0])\n",
    "plot_pacf(ts, ax=ax[1])\n",
    "plt.suptitle(\"ACF and PACF\")\n",
    "plt.show()\n",
    "\n",
    "# ================= 5. MODEL FIT =================\n",
    "# You can change (p,d,q) after looking at plots\n",
    "order = (1, d, 1)\n",
    "model = ARIMA(df['Units Sold'], order=order)\n",
    "model_fit = model.fit()\n",
    "print(model_fit.summary())"
   ]
  },
  {
   "cell_type": "code",
   "execution_count": null,
   "metadata": {
    "execution": {
     "iopub.execute_input": "2025-08-02T12:12:26.541694Z",
     "iopub.status.busy": "2025-08-02T12:12:26.541296Z",
     "iopub.status.idle": "2025-08-02T12:12:26.55474Z",
     "shell.execute_reply": "2025-08-02T12:12:26.553897Z",
     "shell.execute_reply.started": "2025-08-02T12:12:26.541669Z"
    }
   },
   "outputs": [],
   "source": [
    "# ================= 6. FORECAST =================\n",
    "n_steps = 30\n",
    "forecast = model_fit.get_forecast(steps=n_steps)\n",
    "forecast_mean = forecast.predicted_mean\n",
    "conf_int = forecast.conf_int()"
   ]
  },
  {
   "cell_type": "code",
   "execution_count": null,
   "metadata": {
    "execution": {
     "iopub.execute_input": "2025-08-02T12:12:35.915472Z",
     "iopub.status.busy": "2025-08-02T12:12:35.91512Z",
     "iopub.status.idle": "2025-08-02T12:12:36.216584Z",
     "shell.execute_reply": "2025-08-02T12:12:36.215549Z",
     "shell.execute_reply.started": "2025-08-02T12:12:35.915443Z"
    }
   },
   "outputs": [],
   "source": [
    "\n",
    "# ================= 7. PLOT =================\n",
    "plt.figure(figsize=(12, 5))\n",
    "plt.plot(df['Units Sold'], label='Observed')\n",
    "plt.plot(forecast_mean.index, forecast_mean, color='red', label='Forecast')\n",
    "plt.fill_between(conf_int.index,\n",
    "                 conf_int.iloc[:, 0],\n",
    "                 conf_int.iloc[:, 1], color='pink', alpha=0.3)\n",
    "plt.title(\"Forecast: Units Sold\")\n",
    "plt.legend()\n",
    "plt.show()"
   ]
  },
  {
   "cell_type": "code",
   "execution_count": null,
   "metadata": {
    "execution": {
     "iopub.execute_input": "2025-08-02T12:12:40.556145Z",
     "iopub.status.busy": "2025-08-02T12:12:40.555855Z",
     "iopub.status.idle": "2025-08-02T12:12:43.88507Z",
     "shell.execute_reply": "2025-08-02T12:12:43.883997Z",
     "shell.execute_reply.started": "2025-08-02T12:12:40.556125Z"
    }
   },
   "outputs": [],
   "source": [
    "# ================= 8. METRICS =================\n",
    "# Compare last known with forecast start for RMSE\n",
    "actual = df['Units Sold'][-n_steps:]\n",
    "predicted = model_fit.predict(start=len(df)-n_steps, end=len(df)-1)\n",
    "\n",
    "rmse = sqrt(mean_squared_error(actual, predicted))\n",
    "mae = mean_absolute_error(actual, predicted)\n",
    "print(f'RMSE: {rmse:.2f}, MAE: {mae:.2f}')\n",
    "\n",
    "# ================= 9. DIAGNOSTICS =================\n",
    "model_fit.plot_diagnostics(figsize=(12, 8))\n",
    "plt.show()"
   ]
  },
  {
   "cell_type": "code",
   "execution_count": null,
   "metadata": {
    "execution": {
     "iopub.execute_input": "2025-08-02T12:13:54.710029Z",
     "iopub.status.busy": "2025-08-02T12:13:54.709732Z",
     "iopub.status.idle": "2025-08-02T12:13:54.716893Z",
     "shell.execute_reply": "2025-08-02T12:13:54.71611Z",
     "shell.execute_reply.started": "2025-08-02T12:13:54.71001Z"
    }
   },
   "outputs": [],
   "source": [
    "#compare them to your average Units Sold:\n",
    "\n",
    "mean_sales = df['Units Sold'].mean()\n",
    "print(f\"Mean Units Sold: {mean_sales:.2f}\")\n",
    "print(f\"RMSE as % of mean: {115.01 / mean_sales * 100:.2f}%\")\n",
    "print(f\"MAE as % of mean: {102.16 / mean_sales * 100:.2f}%\")\n"
   ]
  },
  {
   "cell_type": "code",
   "execution_count": null,
   "metadata": {},
   "outputs": [],
   "source": []
  },
  {
   "cell_type": "code",
   "execution_count": null,
   "metadata": {},
   "outputs": [],
   "source": [
    "# ARIMAX Implementation # Add external regressors "
   ]
  },
  {
   "cell_type": "code",
   "execution_count": null,
   "metadata": {
    "execution": {
     "iopub.execute_input": "2025-08-02T12:46:30.295201Z",
     "iopub.status.busy": "2025-08-02T12:46:30.294869Z",
     "iopub.status.idle": "2025-08-02T12:46:30.474246Z",
     "shell.execute_reply": "2025-08-02T12:46:30.473448Z",
     "shell.execute_reply.started": "2025-08-02T12:46:30.295178Z"
    }
   },
   "outputs": [],
   "source": [
    "# Load the dataset\n",
    "file_path = '/kaggle/input/retail-store-inventory-forecasting-dataset/retail_store_inventory.csv'\n",
    "df = pd.read_csv(file_path)"
   ]
  },
  {
   "cell_type": "code",
   "execution_count": null,
   "metadata": {
    "execution": {
     "iopub.execute_input": "2025-08-02T12:46:31.546456Z",
     "iopub.status.busy": "2025-08-02T12:46:31.546098Z",
     "iopub.status.idle": "2025-08-02T12:46:31.571862Z",
     "shell.execute_reply": "2025-08-02T12:46:31.571112Z",
     "shell.execute_reply.started": "2025-08-02T12:46:31.546429Z"
    }
   },
   "outputs": [],
   "source": [
    "df['Date'] = pd.to_datetime(df['Date'])\n",
    "df.sort_values('Date', inplace=True)\n",
    "df.set_index('Date', inplace=True)"
   ]
  },
  {
   "cell_type": "code",
   "execution_count": null,
   "metadata": {
    "execution": {
     "iopub.execute_input": "2025-08-02T12:25:36.969319Z",
     "iopub.status.busy": "2025-08-02T12:25:36.968998Z",
     "iopub.status.idle": "2025-08-02T12:25:36.975025Z",
     "shell.execute_reply": "2025-08-02T12:25:36.974343Z",
     "shell.execute_reply.started": "2025-08-02T12:25:36.969298Z"
    }
   },
   "outputs": [],
   "source": [
    "df.columns"
   ]
  },
  {
   "cell_type": "code",
   "execution_count": null,
   "metadata": {
    "execution": {
     "iopub.execute_input": "2025-08-02T12:28:15.769458Z",
     "iopub.status.busy": "2025-08-02T12:28:15.769131Z",
     "iopub.status.idle": "2025-08-02T12:28:15.795734Z",
     "shell.execute_reply": "2025-08-02T12:28:15.794874Z",
     "shell.execute_reply.started": "2025-08-02T12:28:15.769427Z"
    }
   },
   "outputs": [],
   "source": [
    "le=LabelEncoder()\n",
    "df['Store ID']=le.fit_transform(df['Store ID'])\n",
    "df['Product ID']=le.fit_transform(df['Product ID'])\n",
    "df['Category']=le.fit_transform(df['Category'])\n",
    "df['Region']=le.fit_transform(df['Region'])\n",
    "df['Weather Condition']=le.fit_transform(df['Weather Condition'])\n",
    "df['Seasonality']=le.fit_transform(df['Seasonality'])"
   ]
  },
  {
   "cell_type": "code",
   "execution_count": null,
   "metadata": {
    "execution": {
     "iopub.execute_input": "2025-08-02T12:28:16.338592Z",
     "iopub.status.busy": "2025-08-02T12:28:16.338261Z",
     "iopub.status.idle": "2025-08-02T12:28:16.349573Z",
     "shell.execute_reply": "2025-08-02T12:28:16.348547Z",
     "shell.execute_reply.started": "2025-08-02T12:28:16.338568Z"
    }
   },
   "outputs": [],
   "source": [
    "#  Select Target + Exogenous Variables\n",
    "target = df['Units Sold']\n",
    "exog_vars = ['Price', 'Discount', 'Inventory Level', \n",
    "             'Demand Forecast', 'Competitor Pricing', 'Seasonality','Weather Condition','Region']\n",
    "exog = df[exog_vars].fillna(method='bfill')  # Fill missing values"
   ]
  },
  {
   "cell_type": "code",
   "execution_count": null,
   "metadata": {
    "execution": {
     "iopub.execute_input": "2025-08-02T12:28:18.331561Z",
     "iopub.status.busy": "2025-08-02T12:28:18.331219Z",
     "iopub.status.idle": "2025-08-02T12:28:18.337247Z",
     "shell.execute_reply": "2025-08-02T12:28:18.336322Z",
     "shell.execute_reply.started": "2025-08-02T12:28:18.331538Z"
    }
   },
   "outputs": [],
   "source": [
    "n_steps = 30\n",
    "\n",
    "train_y = target[:-n_steps]\n",
    "train_exog = exog[:-n_steps]\n",
    "\n",
    "test_y = target[-n_steps:]\n",
    "test_exog = exog[-n_steps:]\n"
   ]
  },
  {
   "cell_type": "code",
   "execution_count": null,
   "metadata": {
    "execution": {
     "iopub.execute_input": "2025-08-02T12:28:20.416642Z",
     "iopub.status.busy": "2025-08-02T12:28:20.416318Z",
     "iopub.status.idle": "2025-08-02T12:28:39.312711Z",
     "shell.execute_reply": "2025-08-02T12:28:39.311755Z",
     "shell.execute_reply.started": "2025-08-02T12:28:20.416621Z"
    }
   },
   "outputs": [],
   "source": [
    "model = ARIMA(train_y, exog=train_exog, order=(1, 0, 1))\n",
    "model_fit = model.fit()\n",
    "print(model_fit.summary())\n"
   ]
  },
  {
   "cell_type": "code",
   "execution_count": null,
   "metadata": {
    "execution": {
     "iopub.execute_input": "2025-08-02T12:28:57.086283Z",
     "iopub.status.busy": "2025-08-02T12:28:57.085958Z",
     "iopub.status.idle": "2025-08-02T12:28:57.098373Z",
     "shell.execute_reply": "2025-08-02T12:28:57.097682Z",
     "shell.execute_reply.started": "2025-08-02T12:28:57.08626Z"
    }
   },
   "outputs": [],
   "source": [
    "forecast_result = model_fit.get_forecast(steps=n_steps, exog=test_exog)\n",
    "forecast_mean = forecast_result.predicted_mean\n",
    "conf_int = forecast_result.conf_int()\n"
   ]
  },
  {
   "cell_type": "code",
   "execution_count": null,
   "metadata": {
    "execution": {
     "iopub.execute_input": "2025-08-02T12:28:59.039863Z",
     "iopub.status.busy": "2025-08-02T12:28:59.039551Z",
     "iopub.status.idle": "2025-08-02T12:28:59.342527Z",
     "shell.execute_reply": "2025-08-02T12:28:59.341409Z",
     "shell.execute_reply.started": "2025-08-02T12:28:59.039841Z"
    }
   },
   "outputs": [],
   "source": [
    "plt.figure(figsize=(12, 5))\n",
    "plt.plot(target, label='Observed')\n",
    "plt.plot(forecast_mean.index, forecast_mean, color='red', label='ARIMAX Forecast')\n",
    "plt.fill_between(conf_int.index,\n",
    "                 conf_int.iloc[:, 0],\n",
    "                 conf_int.iloc[:, 1], color='pink', alpha=0.3)\n",
    "plt.legend()\n",
    "plt.title(\"ARIMAX Forecast: Units Sold\")\n",
    "plt.show()\n"
   ]
  },
  {
   "cell_type": "code",
   "execution_count": null,
   "metadata": {
    "execution": {
     "iopub.execute_input": "2025-08-02T12:29:03.822363Z",
     "iopub.status.busy": "2025-08-02T12:29:03.821608Z",
     "iopub.status.idle": "2025-08-02T12:29:03.830117Z",
     "shell.execute_reply": "2025-08-02T12:29:03.829206Z",
     "shell.execute_reply.started": "2025-08-02T12:29:03.822332Z"
    }
   },
   "outputs": [],
   "source": [
    "rmse = sqrt(mean_squared_error(test_y, forecast_mean))\n",
    "mae = mean_absolute_error(test_y, forecast_mean)\n",
    "\n",
    "# Optional: MAPE\n",
    "def mean_absolute_percentage_error(y_true, y_pred):\n",
    "    y_true, y_pred = np.array(y_true), np.array(y_pred)\n",
    "    nonzero = y_true != 0\n",
    "    return np.mean(np.abs((y_true[nonzero] - y_pred[nonzero]) / y_true[nonzero])) * 100\n",
    "\n",
    "mape = mean_absolute_percentage_error(test_y, forecast_mean)\n",
    "\n",
    "print(f'RMSE: {rmse:.2f}')\n",
    "print(f'MAE: {mae:.2f}')\n",
    "print(f'MAPE: {mape:.2f}%')\n"
   ]
  },
  {
   "cell_type": "code",
   "execution_count": null,
   "metadata": {},
   "outputs": [],
   "source": []
  },
  {
   "cell_type": "markdown",
   "metadata": {},
   "source": [
    "TREE BASED MODEL FORECASTING"
   ]
  },
  {
   "cell_type": "code",
   "execution_count": null,
   "metadata": {
    "execution": {
     "iopub.execute_input": "2025-08-02T12:56:45.01515Z",
     "iopub.status.busy": "2025-08-02T12:56:45.01485Z",
     "iopub.status.idle": "2025-08-02T12:56:45.033911Z",
     "shell.execute_reply": "2025-08-02T12:56:45.033197Z",
     "shell.execute_reply.started": "2025-08-02T12:56:45.015132Z"
    }
   },
   "outputs": [],
   "source": [
    "############ Trying XGboost  ################\n",
    "\n",
    "df.head(3)"
   ]
  },
  {
   "cell_type": "code",
   "execution_count": null,
   "metadata": {
    "execution": {
     "iopub.execute_input": "2025-08-03T05:15:22.139305Z",
     "iopub.status.busy": "2025-08-03T05:15:22.138951Z",
     "iopub.status.idle": "2025-08-03T05:15:22.143668Z",
     "shell.execute_reply": "2025-08-03T05:15:22.14287Z",
     "shell.execute_reply.started": "2025-08-03T05:15:22.139282Z"
    }
   },
   "outputs": [],
   "source": [
    "features = ['Category', 'Region',\n",
    "       'Inventory Level', 'Units Ordered', 'Demand Forecast',\n",
    "       'Price', 'Discount', 'Weather Condition', 'Holiday/Promotion',\n",
    "       'Competitor Pricing', 'Seasonality', 'Sales_Lag_1', 'Sales_Lag_7',\n",
    "       'Sales_RollingMean_7', 'Sales_RollingMean_14', 'DayOfWeek', 'Month']\n",
    "target = 'Units Sold'\n"
   ]
  },
  {
   "cell_type": "code",
   "execution_count": null,
   "metadata": {
    "execution": {
     "iopub.execute_input": "2025-08-03T05:15:25.926432Z",
     "iopub.status.busy": "2025-08-03T05:15:25.925571Z",
     "iopub.status.idle": "2025-08-03T05:15:25.942953Z",
     "shell.execute_reply": "2025-08-03T05:15:25.942242Z",
     "shell.execute_reply.started": "2025-08-03T05:15:25.926402Z"
    }
   },
   "outputs": [],
   "source": [
    "df = df.dropna()  # Drop initial NaNs due to lag\n"
   ]
  },
  {
   "cell_type": "code",
   "execution_count": null,
   "metadata": {
    "execution": {
     "iopub.execute_input": "2025-08-03T05:15:27.332003Z",
     "iopub.status.busy": "2025-08-03T05:15:27.331374Z",
     "iopub.status.idle": "2025-08-03T05:15:27.341083Z",
     "shell.execute_reply": "2025-08-03T05:15:27.339948Z",
     "shell.execute_reply.started": "2025-08-03T05:15:27.331966Z"
    }
   },
   "outputs": [],
   "source": [
    "from sklearn.model_selection import train_test_split\n",
    "\n",
    "X = df[features]\n",
    "y = df[target]\n",
    "\n",
    "# Keep last 30 days as test\n",
    "train_size = int(len(df) * 0.9)\n",
    "X_train, X_test = X[:train_size], X[train_size:]\n",
    "y_train, y_test = y[:train_size], y[train_size:]\n"
   ]
  },
  {
   "cell_type": "code",
   "execution_count": null,
   "metadata": {
    "execution": {
     "iopub.execute_input": "2025-08-03T05:15:33.778026Z",
     "iopub.status.busy": "2025-08-03T05:15:33.777724Z",
     "iopub.status.idle": "2025-08-03T05:15:34.209645Z",
     "shell.execute_reply": "2025-08-03T05:15:34.208972Z",
     "shell.execute_reply.started": "2025-08-03T05:15:33.777989Z"
    }
   },
   "outputs": [],
   "source": [
    "from xgboost import XGBRegressor\n",
    "\n",
    "model = XGBRegressor(n_estimators=100, learning_rate=0.1, max_depth=4, random_state=42)\n",
    "model.fit(X_train, y_train)"
   ]
  },
  {
   "cell_type": "code",
   "execution_count": null,
   "metadata": {
    "execution": {
     "iopub.execute_input": "2025-08-03T05:15:40.553535Z",
     "iopub.status.busy": "2025-08-03T05:15:40.553248Z",
     "iopub.status.idle": "2025-08-03T05:15:40.572282Z",
     "shell.execute_reply": "2025-08-03T05:15:40.571584Z",
     "shell.execute_reply.started": "2025-08-03T05:15:40.553515Z"
    }
   },
   "outputs": [],
   "source": [
    "y_pred = model.predict(X_test)\n",
    "\n",
    "from sklearn.metrics import mean_squared_error, mean_absolute_error\n",
    "import numpy as np\n",
    "\n",
    "rmse = np.sqrt(mean_squared_error(y_test, y_pred))\n",
    "mae = mean_absolute_error(y_test, y_pred)\n",
    "\n",
    "def mean_absolute_percentage_error(y_true, y_pred):\n",
    "    y_true, y_pred = np.array(y_true), np.array(y_pred)\n",
    "    mask = y_true != 0\n",
    "    return np.mean(np.abs((y_true[mask] - y_pred[mask]) / y_true[mask])) * 100\n",
    "\n",
    "mape = mean_absolute_percentage_error(y_test, y_pred)\n",
    "\n",
    "print(f'RMSE: {rmse:.2f}')\n",
    "print(f'MAE: {mae:.2f}')\n",
    "print(f'MAPE: {mape:.2f}%')\n"
   ]
  },
  {
   "cell_type": "code",
   "execution_count": null,
   "metadata": {
    "execution": {
     "iopub.execute_input": "2025-08-02T12:56:00.90848Z",
     "iopub.status.busy": "2025-08-02T12:56:00.908097Z",
     "iopub.status.idle": "2025-08-02T12:56:01.448835Z",
     "shell.execute_reply": "2025-08-02T12:56:01.44783Z",
     "shell.execute_reply.started": "2025-08-02T12:56:00.908454Z"
    }
   },
   "outputs": [],
   "source": [
    "import matplotlib.pyplot as plt\n",
    "\n",
    "plt.figure(figsize=(12, 5))\n",
    "plt.plot(y_test.index, y_test, label='Actual Units Sold')\n",
    "plt.plot(y_test.index, y_pred, label='XGBoost Prediction', linestyle='--')\n",
    "plt.legend()\n",
    "plt.title(\"XGBoost Forecast vs Actual\")\n",
    "plt.show()\n"
   ]
  },
  {
   "cell_type": "code",
   "execution_count": null,
   "metadata": {
    "execution": {
     "iopub.execute_input": "2025-08-02T13:00:16.789874Z",
     "iopub.status.busy": "2025-08-02T13:00:16.789561Z",
     "iopub.status.idle": "2025-08-02T13:00:17.001552Z",
     "shell.execute_reply": "2025-08-02T13:00:17.000687Z",
     "shell.execute_reply.started": "2025-08-02T13:00:16.789852Z"
    }
   },
   "outputs": [],
   "source": [
    "from xgboost import plot_importance\n",
    "\n",
    "plt.figure(figsize=(12, 6))\n",
    "plot_importance(model, max_num_features=5, importance_type='gain', \n",
    "                title='Top 10 Feature Importances (XGBoost)', \n",
    "                show_values=True)\n",
    "plt.grid(True, linestyle='--', alpha=0.5)\n",
    "plt.tight_layout()\n",
    "plt.show()\n"
   ]
  },
  {
   "cell_type": "code",
   "execution_count": null,
   "metadata": {
    "execution": {
     "iopub.execute_input": "2025-08-02T13:02:15.368572Z",
     "iopub.status.busy": "2025-08-02T13:02:15.367507Z",
     "iopub.status.idle": "2025-08-02T13:02:15.372381Z",
     "shell.execute_reply": "2025-08-02T13:02:15.371562Z",
     "shell.execute_reply.started": "2025-08-02T13:02:15.368536Z"
    }
   },
   "outputs": [],
   "source": [
    "#### hyperparmeter tuning xgboost"
   ]
  },
  {
   "cell_type": "code",
   "execution_count": null,
   "metadata": {
    "execution": {
     "iopub.execute_input": "2025-08-03T05:15:47.186609Z",
     "iopub.status.busy": "2025-08-03T05:15:47.186007Z",
     "iopub.status.idle": "2025-08-03T05:15:47.191366Z",
     "shell.execute_reply": "2025-08-03T05:15:47.190505Z",
     "shell.execute_reply.started": "2025-08-03T05:15:47.186587Z"
    }
   },
   "outputs": [],
   "source": [
    "param_grid = {\n",
    "    'n_estimators': [50, 100, 200],\n",
    "    'max_depth': [3, 5, 7],\n",
    "    'learning_rate': [0.01, 0.05, 0.1],\n",
    "    'subsample': [0.8, 1],\n",
    "    'colsample_bytree': [0.8, 1]\n",
    "}\n"
   ]
  },
  {
   "cell_type": "code",
   "execution_count": null,
   "metadata": {
    "execution": {
     "iopub.execute_input": "2025-08-03T05:15:50.599289Z",
     "iopub.status.busy": "2025-08-03T05:15:50.598661Z",
     "iopub.status.idle": "2025-08-03T05:15:50.604228Z",
     "shell.execute_reply": "2025-08-03T05:15:50.603249Z",
     "shell.execute_reply.started": "2025-08-03T05:15:50.599264Z"
    }
   },
   "outputs": [],
   "source": [
    "from sklearn.model_selection import TimeSeriesSplit, GridSearchCV\n",
    "from xgboost import XGBRegressor\n",
    "\n",
    "tscv = TimeSeriesSplit(n_splits=3)\n",
    "\n",
    "xgb = XGBRegressor(random_state=42)\n",
    "grid_search = GridSearchCV(estimator=xgb,\n",
    "                           param_grid=param_grid,\n",
    "                           cv=tscv,\n",
    "                           scoring='neg_mean_squared_error',\n",
    "                           verbose=1,\n",
    "                           n_jobs=-1)\n"
   ]
  },
  {
   "cell_type": "code",
   "execution_count": null,
   "metadata": {
    "execution": {
     "iopub.execute_input": "2025-08-03T05:15:56.217553Z",
     "iopub.status.busy": "2025-08-03T05:15:56.216759Z",
     "iopub.status.idle": "2025-08-03T05:17:39.909215Z",
     "shell.execute_reply": "2025-08-03T05:17:39.907583Z",
     "shell.execute_reply.started": "2025-08-03T05:15:56.217527Z"
    }
   },
   "outputs": [],
   "source": [
    "grid_search.fit(X_train, y_train)\n",
    "\n",
    "print(\"Best parameters:\", grid_search.best_params_)\n",
    "best_model = grid_search.best_estimator_\n"
   ]
  },
  {
   "cell_type": "code",
   "execution_count": null,
   "metadata": {
    "execution": {
     "iopub.execute_input": "2025-08-02T13:05:31.353508Z",
     "iopub.status.busy": "2025-08-02T13:05:31.35313Z",
     "iopub.status.idle": "2025-08-02T13:05:31.378364Z",
     "shell.execute_reply": "2025-08-02T13:05:31.37719Z",
     "shell.execute_reply.started": "2025-08-02T13:05:31.353482Z"
    }
   },
   "outputs": [],
   "source": [
    "y_pred = best_model.predict(X_test)\n",
    "\n",
    "rmse = np.sqrt(mean_squared_error(y_test, y_pred))\n",
    "mae = mean_absolute_error(y_test, y_pred)\n",
    "mape = mean_absolute_percentage_error(y_test, y_pred)\n",
    "\n",
    "print(f'Tuned RMSE: {rmse:.2f}')\n",
    "print(f'Tuned MAE: {mae:.2f}')\n",
    "print(f'Tuned MAPE: {mape:.2f}%')\n"
   ]
  },
  {
   "cell_type": "markdown",
   "metadata": {},
   "source": [
    "| Stage         | RMSE   | MAE    | MAPE   | Notes                          |\n",
    "| ------------- | ------ | ------ | ------ | ------------------------------ |\n",
    "| **ARIMA**     | 115.01 | 102.16 | 84.28% | Basic univariate, poor fit     |\n",
    "| **ARIMAX**    | 8.68   | 7.04   | 43.97% | Stronger, but MAPE still high  |\n",
    "| **XGBoost**   | 8.36   | 7.15   | 18.51% | Huge MAPE drop, stable metrics |\n",
    "| **Tuned XGB** | 8.33   | 7.12   | 18.51% | *Polished performance*         |\n"
   ]
  },
  {
   "cell_type": "code",
   "execution_count": null,
   "metadata": {},
   "outputs": [],
   "source": []
  },
  {
   "cell_type": "code",
   "execution_count": null,
   "metadata": {},
   "outputs": [],
   "source": [
    "# ****Month Forecast with Tuned XGBoost ###########\n"
   ]
  },
  {
   "cell_type": "code",
   "execution_count": null,
   "metadata": {
    "execution": {
     "iopub.execute_input": "2025-08-03T05:22:35.471198Z",
     "iopub.status.busy": "2025-08-03T05:22:35.470423Z",
     "iopub.status.idle": "2025-08-03T05:22:35.642009Z",
     "shell.execute_reply": "2025-08-03T05:22:35.641281Z",
     "shell.execute_reply.started": "2025-08-03T05:22:35.471149Z"
    }
   },
   "outputs": [],
   "source": [
    "# Load the dataset\n",
    "file_path = '/kaggle/input/retail-store-inventory-forecasting-dataset/retail_store_inventory.csv'\n",
    "df = pd.read_csv(file_path)\n",
    "\n",
    "df.head()"
   ]
  },
  {
   "cell_type": "code",
   "execution_count": null,
   "metadata": {
    "execution": {
     "iopub.execute_input": "2025-08-03T06:32:37.885855Z",
     "iopub.status.busy": "2025-08-03T06:32:37.885044Z",
     "iopub.status.idle": "2025-08-03T06:32:37.905821Z",
     "shell.execute_reply": "2025-08-03T06:32:37.904951Z",
     "shell.execute_reply.started": "2025-08-03T06:32:37.885829Z"
    }
   },
   "outputs": [],
   "source": [
    "df.head()"
   ]
  },
  {
   "cell_type": "code",
   "execution_count": null,
   "metadata": {
    "execution": {
     "iopub.execute_input": "2025-08-03T06:33:06.003337Z",
     "iopub.status.busy": "2025-08-03T06:33:06.003Z",
     "iopub.status.idle": "2025-08-03T06:33:06.04262Z",
     "shell.execute_reply": "2025-08-03T06:33:06.041357Z",
     "shell.execute_reply.started": "2025-08-03T06:33:06.003313Z"
    }
   },
   "outputs": [],
   "source": [
    "# # === STEP 1: PREPROCESSING & FEATURE CREATION ===\n",
    "# df['Date'] = pd.to_datetime(df['Date'])\n",
    "# df = df.sort_values('Date')\n",
    "\n",
    "# # Temporal features\n",
    "# df['DayOfWeek'] = df['Date'].dt.dayofweek\n",
    "# df['Month'] = df['Date'].dt.month\n"
   ]
  },
  {
   "cell_type": "code",
   "execution_count": null,
   "metadata": {
    "execution": {
     "iopub.execute_input": "2025-08-03T06:33:09.447361Z",
     "iopub.status.busy": "2025-08-03T06:33:09.44696Z",
     "iopub.status.idle": "2025-08-03T06:33:09.454601Z",
     "shell.execute_reply": "2025-08-03T06:33:09.453685Z",
     "shell.execute_reply.started": "2025-08-03T06:33:09.447335Z"
    }
   },
   "outputs": [],
   "source": [
    "df['Date']"
   ]
  },
  {
   "cell_type": "code",
   "execution_count": null,
   "metadata": {},
   "outputs": [],
   "source": [
    "# # Add temporal features\n",
    "# future_df['DayOfWeek'] = future_df['Date'].dt.dayofweek\n",
    "# future_df['Month'] = future_df['Date'].dt.month\n"
   ]
  },
  {
   "cell_type": "code",
   "execution_count": null,
   "metadata": {},
   "outputs": [],
   "source": [
    "# future_predictions = []\n",
    "\n",
    "# last_known = df.copy()\n",
    "\n",
    "# for date in future_df['Date']:\n",
    "#     temp_row = {\n",
    "#         'Date': date,\n",
    "#         'DayOfWeek': date.dayofweek,\n",
    "#         'Month': date.month,\n",
    "#         # Fill in from last known or rolling predictions\n",
    "#         'Sales_Lag_1': last_known['Units Sold'].iloc[-1],\n",
    "#         'Sales_Lag_7': last_known['Units Sold'].iloc[-7] if len(last_known) >= 7 else last_known['Units Sold'].mean(),\n",
    "#         'Sales_RollingMean_7': last_known['Units Sold'].rolling(7).mean().iloc[-1],\n",
    "#         'Sales_RollingMean_14': last_known['Units Sold'].rolling(14).mean().iloc[-1],\n",
    "#         # Add other static or known values\n",
    "#         'Price': last_known['Price'].iloc[-1],\n",
    "#         'Discount': last_known['Discount'].iloc[-1],\n",
    "#         # etc.\n",
    "#     }"
   ]
  },
  {
   "cell_type": "code",
   "execution_count": null,
   "metadata": {},
   "outputs": [],
   "source": [
    "   # # Convert to DataFrame for prediction\n",
    "   #  X_future = pd.DataFrame([temp_row])\n",
    "   #  y_pred = best_model.predict(X_future)[0]\n",
    "    \n",
    "   #  temp_row['Units Sold'] = y_pred\n",
    "   #  last_known = last_known.append(temp_row, ignore_index=True)\n",
    "   #  future_predictions.append({'Date': date, 'Forecasted Units Sold': y_pred})"
   ]
  },
  {
   "cell_type": "code",
   "execution_count": null,
   "metadata": {},
   "outputs": [],
   "source": [
    "# forecast_df = pd.DataFrame(future_predictions)\n",
    "\n",
    "# import matplotlib.pyplot as plt\n",
    "\n",
    "# plt.figure(figsize=(14, 6))\n",
    "# plt.plot(df['Date'], df['Units Sold'], label='Historical Sales')\n",
    "# plt.plot(forecast_df['Date'], forecast_df['Forecasted Units Sold'], label='4-Month Forecast', color='green')\n",
    "# plt.title(\"XGBoost Forecast for Next 4 Months\")\n",
    "# plt.xlabel(\"Date\")\n",
    "# plt.ylabel(\"Units Sold\")\n",
    "# plt.legend()\n",
    "# plt.grid(True)\n",
    "# plt.tight_layout()\n",
    "# plt.show()\n"
   ]
  },
  {
   "cell_type": "code",
   "execution_count": null,
   "metadata": {},
   "outputs": [],
   "source": []
  }
 ],
 "metadata": {
  "kaggle": {
   "accelerator": "none",
   "dataSources": [
    {
     "datasetId": 6157172,
     "sourceId": 10002792,
     "sourceType": "datasetVersion"
    }
   ],
   "dockerImageVersionId": 31089,
   "isGpuEnabled": false,
   "isInternetEnabled": false,
   "language": "python",
   "sourceType": "notebook"
  },
  "kernelspec": {
   "display_name": "Python 3 (ipykernel)",
   "language": "python",
   "name": "python3"
  },
  "language_info": {
   "codemirror_mode": {
    "name": "ipython",
    "version": 3
   },
   "file_extension": ".py",
   "mimetype": "text/x-python",
   "name": "python",
   "nbconvert_exporter": "python",
   "pygments_lexer": "ipython3",
   "version": "3.9.21"
  }
 },
 "nbformat": 4,
 "nbformat_minor": 4
}