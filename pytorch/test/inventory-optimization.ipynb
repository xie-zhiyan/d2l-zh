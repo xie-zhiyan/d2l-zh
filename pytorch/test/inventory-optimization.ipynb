{
 "cells": [
  {
   "cell_type": "markdown",
   "metadata": {},
   "source": [
    "# Data Understanding & Preparation"
   ]
  },
  {
   "cell_type": "code",
   "execution_count": 1,
   "metadata": {},
   "outputs": [],
   "source": [
    "# Import the library\n",
    "import pandas as pd\n",
    "import numpy as np\n",
    "import matplotlib.pyplot as plt\n",
    "import seaborn as sns\n",
    "import datetime as dt\n",
    "import matplotlib.ticker as mtick\n",
    "import warnings\n",
    "warnings.filterwarnings('ignore')"
   ]
  },
  {
   "cell_type": "code",
   "execution_count": 2,
   "metadata": {},
   "outputs": [],
   "source": [
    "# Import the CSV file\n",
    "df = pd.read_csv(\"../data/Grocery_Inventory new v1.csv\")"
   ]
  },
  {
   "cell_type": "code",
   "execution_count": 3,
   "metadata": {},
   "outputs": [
    {
     "data": {
      "text/plain": [
       "(990, 17)"
      ]
     },
     "execution_count": 3,
     "metadata": {},
     "output_type": "execute_result"
    }
   ],
   "source": [
    "# Get the shape of the dataframe\n",
    "df.shape"
   ]
  },
  {
   "cell_type": "code",
   "execution_count": 4,
   "metadata": {},
   "outputs": [
    {
     "data": {
      "text/html": [
       "<div>\n",
       "<style scoped>\n",
       "    .dataframe tbody tr th:only-of-type {\n",
       "        vertical-align: middle;\n",
       "    }\n",
       "\n",
       "    .dataframe tbody tr th {\n",
       "        vertical-align: top;\n",
       "    }\n",
       "\n",
       "    .dataframe thead th {\n",
       "        text-align: right;\n",
       "    }\n",
       "</style>\n",
       "<table border=\"1\" class=\"dataframe\">\n",
       "  <thead>\n",
       "    <tr style=\"text-align: right;\">\n",
       "      <th></th>\n",
       "      <th>Product_Name</th>\n",
       "      <th>Catagory</th>\n",
       "      <th>Supplier_Name</th>\n",
       "      <th>Warehouse_Location</th>\n",
       "      <th>Status</th>\n",
       "      <th>Product_ID</th>\n",
       "      <th>Supplier_ID</th>\n",
       "      <th>Date_Received</th>\n",
       "      <th>Last_Order_Date</th>\n",
       "      <th>Expiration_Date</th>\n",
       "      <th>Stock_Quantity</th>\n",
       "      <th>Reorder_Level</th>\n",
       "      <th>Reorder_Quantity</th>\n",
       "      <th>Unit_Price</th>\n",
       "      <th>Sales_Volume</th>\n",
       "      <th>Inventory_Turnover_Rate</th>\n",
       "      <th>percentage</th>\n",
       "    </tr>\n",
       "  </thead>\n",
       "  <tbody>\n",
       "    <tr>\n",
       "      <th>0</th>\n",
       "      <td>Bell Pepper</td>\n",
       "      <td>Fruits &amp; Vegetables</td>\n",
       "      <td>Eimbee</td>\n",
       "      <td>20 Pennsylvania Parkway</td>\n",
       "      <td>Discontinued</td>\n",
       "      <td>29-017-6255</td>\n",
       "      <td>43-348-2450</td>\n",
       "      <td>3/1/2024</td>\n",
       "      <td>1/6/2025</td>\n",
       "      <td>1/31/2025</td>\n",
       "      <td>46</td>\n",
       "      <td>64</td>\n",
       "      <td>17</td>\n",
       "      <td>$4.60</td>\n",
       "      <td>96</td>\n",
       "      <td>55</td>\n",
       "      <td>1.96%</td>\n",
       "    </tr>\n",
       "    <tr>\n",
       "      <th>1</th>\n",
       "      <td>Vegetable Oil</td>\n",
       "      <td>Oils &amp; Fats</td>\n",
       "      <td>Digitube</td>\n",
       "      <td>03643 Oakridge Lane</td>\n",
       "      <td>Backordered</td>\n",
       "      <td>79-569-8856</td>\n",
       "      <td>04-854-7165</td>\n",
       "      <td>4/1/2024</td>\n",
       "      <td>5/19/2024</td>\n",
       "      <td>6/11/2024</td>\n",
       "      <td>51</td>\n",
       "      <td>87</td>\n",
       "      <td>86</td>\n",
       "      <td>$2.00</td>\n",
       "      <td>24</td>\n",
       "      <td>83</td>\n",
       "      <td>0.91%</td>\n",
       "    </tr>\n",
       "    <tr>\n",
       "      <th>2</th>\n",
       "      <td>Parmesan Cheese</td>\n",
       "      <td>Dairy</td>\n",
       "      <td>BlogXS</td>\n",
       "      <td>73 Graedel Street</td>\n",
       "      <td>Discontinued</td>\n",
       "      <td>28-146-2641</td>\n",
       "      <td>82-995-0739</td>\n",
       "      <td>4/1/2024</td>\n",
       "      <td>12/21/2024</td>\n",
       "      <td>4/8/2024</td>\n",
       "      <td>38</td>\n",
       "      <td>67</td>\n",
       "      <td>66</td>\n",
       "      <td>$12.00</td>\n",
       "      <td>35</td>\n",
       "      <td>24</td>\n",
       "      <td>1.36%</td>\n",
       "    </tr>\n",
       "    <tr>\n",
       "      <th>3</th>\n",
       "      <td>Carrot</td>\n",
       "      <td>Fruits &amp; Vegetables</td>\n",
       "      <td>Avaveo</td>\n",
       "      <td>44801 Myrtle Center</td>\n",
       "      <td>Discontinued</td>\n",
       "      <td>11-581-9869</td>\n",
       "      <td>22-867-3079</td>\n",
       "      <td>5/1/2024</td>\n",
       "      <td>12/12/2024</td>\n",
       "      <td>9/26/2024</td>\n",
       "      <td>51</td>\n",
       "      <td>60</td>\n",
       "      <td>98</td>\n",
       "      <td>$1.50</td>\n",
       "      <td>44</td>\n",
       "      <td>95</td>\n",
       "      <td>1.36%</td>\n",
       "    </tr>\n",
       "    <tr>\n",
       "      <th>4</th>\n",
       "      <td>Garlic</td>\n",
       "      <td>Fruits &amp; Vegetables</td>\n",
       "      <td>Katz</td>\n",
       "      <td>6195 Monterey Center</td>\n",
       "      <td>Discontinued</td>\n",
       "      <td>13-202-4809</td>\n",
       "      <td>24-281-7685</td>\n",
       "      <td>5/1/2024</td>\n",
       "      <td>7/28/2024</td>\n",
       "      <td>5/20/2024</td>\n",
       "      <td>27</td>\n",
       "      <td>22</td>\n",
       "      <td>89</td>\n",
       "      <td>$7.00</td>\n",
       "      <td>91</td>\n",
       "      <td>77</td>\n",
       "      <td>2.17%</td>\n",
       "    </tr>\n",
       "  </tbody>\n",
       "</table>\n",
       "</div>"
      ],
      "text/plain": [
       "      Product_Name             Catagory Supplier_Name  \\\n",
       "0      Bell Pepper  Fruits & Vegetables        Eimbee   \n",
       "1    Vegetable Oil          Oils & Fats      Digitube   \n",
       "2  Parmesan Cheese                Dairy        BlogXS   \n",
       "3           Carrot  Fruits & Vegetables        Avaveo   \n",
       "4           Garlic  Fruits & Vegetables          Katz   \n",
       "\n",
       "        Warehouse_Location        Status   Product_ID  Supplier_ID  \\\n",
       "0  20 Pennsylvania Parkway  Discontinued  29-017-6255  43-348-2450   \n",
       "1      03643 Oakridge Lane   Backordered  79-569-8856  04-854-7165   \n",
       "2        73 Graedel Street  Discontinued  28-146-2641  82-995-0739   \n",
       "3      44801 Myrtle Center  Discontinued  11-581-9869  22-867-3079   \n",
       "4     6195 Monterey Center  Discontinued  13-202-4809  24-281-7685   \n",
       "\n",
       "  Date_Received Last_Order_Date Expiration_Date  Stock_Quantity  \\\n",
       "0      3/1/2024        1/6/2025       1/31/2025              46   \n",
       "1      4/1/2024       5/19/2024       6/11/2024              51   \n",
       "2      4/1/2024      12/21/2024        4/8/2024              38   \n",
       "3      5/1/2024      12/12/2024       9/26/2024              51   \n",
       "4      5/1/2024       7/28/2024       5/20/2024              27   \n",
       "\n",
       "   Reorder_Level  Reorder_Quantity Unit_Price  Sales_Volume  \\\n",
       "0             64                17      $4.60            96   \n",
       "1             87                86      $2.00            24   \n",
       "2             67                66     $12.00            35   \n",
       "3             60                98      $1.50            44   \n",
       "4             22                89      $7.00            91   \n",
       "\n",
       "   Inventory_Turnover_Rate percentage  \n",
       "0                       55      1.96%  \n",
       "1                       83      0.91%  \n",
       "2                       24      1.36%  \n",
       "3                       95      1.36%  \n",
       "4                       77      2.17%  "
      ]
     },
     "execution_count": 4,
     "metadata": {},
     "output_type": "execute_result"
    }
   ],
   "source": [
    "# Get the head of the dataframe\n",
    "df.head()"
   ]
  },
  {
   "cell_type": "code",
   "execution_count": 5,
   "metadata": {},
   "outputs": [
    {
     "data": {
      "text/html": [
       "<div>\n",
       "<style scoped>\n",
       "    .dataframe tbody tr th:only-of-type {\n",
       "        vertical-align: middle;\n",
       "    }\n",
       "\n",
       "    .dataframe tbody tr th {\n",
       "        vertical-align: top;\n",
       "    }\n",
       "\n",
       "    .dataframe thead th {\n",
       "        text-align: right;\n",
       "    }\n",
       "</style>\n",
       "<table border=\"1\" class=\"dataframe\">\n",
       "  <thead>\n",
       "    <tr style=\"text-align: right;\">\n",
       "      <th></th>\n",
       "      <th>Product_Name</th>\n",
       "      <th>Catagory</th>\n",
       "      <th>Supplier_Name</th>\n",
       "      <th>Warehouse_Location</th>\n",
       "      <th>Status</th>\n",
       "      <th>Product_ID</th>\n",
       "      <th>Supplier_ID</th>\n",
       "      <th>Date_Received</th>\n",
       "      <th>Last_Order_Date</th>\n",
       "      <th>Expiration_Date</th>\n",
       "      <th>Stock_Quantity</th>\n",
       "      <th>Reorder_Level</th>\n",
       "      <th>Reorder_Quantity</th>\n",
       "      <th>Unit_Price</th>\n",
       "      <th>Sales_Volume</th>\n",
       "      <th>Inventory_Turnover_Rate</th>\n",
       "      <th>percentage</th>\n",
       "    </tr>\n",
       "  </thead>\n",
       "  <tbody>\n",
       "    <tr>\n",
       "      <th>985</th>\n",
       "      <td>Parmesan Cheese</td>\n",
       "      <td>Dairy</td>\n",
       "      <td>Yakidoo</td>\n",
       "      <td>0 Fordem Place</td>\n",
       "      <td>Backordered</td>\n",
       "      <td>67-984-5368</td>\n",
       "      <td>39-714-7313</td>\n",
       "      <td>9/27/2024</td>\n",
       "      <td>10/4/2024</td>\n",
       "      <td>7/28/2024</td>\n",
       "      <td>52</td>\n",
       "      <td>56</td>\n",
       "      <td>34</td>\n",
       "      <td>$12.00</td>\n",
       "      <td>31</td>\n",
       "      <td>69</td>\n",
       "      <td>024%</td>\n",
       "    </tr>\n",
       "    <tr>\n",
       "      <th>986</th>\n",
       "      <td>Raw Sugar</td>\n",
       "      <td>Grains &amp; Pulses</td>\n",
       "      <td>Flipopia</td>\n",
       "      <td>365 Vera Terrace</td>\n",
       "      <td>Active</td>\n",
       "      <td>44-782-1395</td>\n",
       "      <td>54-132-9762</td>\n",
       "      <td>9/29/2024</td>\n",
       "      <td>6/26/2024</td>\n",
       "      <td>11/17/2024</td>\n",
       "      <td>72</td>\n",
       "      <td>72</td>\n",
       "      <td>68</td>\n",
       "      <td>$1.50</td>\n",
       "      <td>39</td>\n",
       "      <td>78</td>\n",
       "      <td>-123%</td>\n",
       "    </tr>\n",
       "    <tr>\n",
       "      <th>987</th>\n",
       "      <td>Cabbage</td>\n",
       "      <td>Fruits &amp; Vegetables</td>\n",
       "      <td>Topdrive</td>\n",
       "      <td>43 Washington Street</td>\n",
       "      <td>Discontinued</td>\n",
       "      <td>75-927-9108</td>\n",
       "      <td>27-406-7972</td>\n",
       "      <td>9/29/2024</td>\n",
       "      <td>6/17/2024</td>\n",
       "      <td>7/2/2024</td>\n",
       "      <td>24</td>\n",
       "      <td>32</td>\n",
       "      <td>17</td>\n",
       "      <td>$1.00</td>\n",
       "      <td>55</td>\n",
       "      <td>72</td>\n",
       "      <td>-100%</td>\n",
       "    </tr>\n",
       "    <tr>\n",
       "      <th>988</th>\n",
       "      <td>Green Beans</td>\n",
       "      <td>Fruits &amp; Vegetables</td>\n",
       "      <td>Gigazoom</td>\n",
       "      <td>37 Browning Trail</td>\n",
       "      <td>Discontinued</td>\n",
       "      <td>78-614-4402</td>\n",
       "      <td>51-014-4287</td>\n",
       "      <td>9/30/2024</td>\n",
       "      <td>2/14/2025</td>\n",
       "      <td>4/25/2024</td>\n",
       "      <td>81</td>\n",
       "      <td>99</td>\n",
       "      <td>28</td>\n",
       "      <td>$2.00</td>\n",
       "      <td>20</td>\n",
       "      <td>85</td>\n",
       "      <td>-031%</td>\n",
       "    </tr>\n",
       "    <tr>\n",
       "      <th>989</th>\n",
       "      <td>Strawberries</td>\n",
       "      <td>Fruits &amp; Vegetables</td>\n",
       "      <td>Lazz</td>\n",
       "      <td>32525 Marquette Park</td>\n",
       "      <td>Discontinued</td>\n",
       "      <td>01-903-5373</td>\n",
       "      <td>37-902-0286</td>\n",
       "      <td>9/30/2024</td>\n",
       "      <td>6/20/2024</td>\n",
       "      <td>6/21/2024</td>\n",
       "      <td>94</td>\n",
       "      <td>77</td>\n",
       "      <td>89</td>\n",
       "      <td>$6.00</td>\n",
       "      <td>40</td>\n",
       "      <td>84</td>\n",
       "      <td>-325%</td>\n",
       "    </tr>\n",
       "  </tbody>\n",
       "</table>\n",
       "</div>"
      ],
      "text/plain": [
       "        Product_Name             Catagory Supplier_Name    Warehouse_Location  \\\n",
       "985  Parmesan Cheese                Dairy       Yakidoo        0 Fordem Place   \n",
       "986        Raw Sugar      Grains & Pulses      Flipopia      365 Vera Terrace   \n",
       "987          Cabbage  Fruits & Vegetables      Topdrive  43 Washington Street   \n",
       "988      Green Beans  Fruits & Vegetables      Gigazoom     37 Browning Trail   \n",
       "989     Strawberries  Fruits & Vegetables          Lazz  32525 Marquette Park   \n",
       "\n",
       "           Status   Product_ID  Supplier_ID Date_Received Last_Order_Date  \\\n",
       "985   Backordered  67-984-5368  39-714-7313     9/27/2024       10/4/2024   \n",
       "986        Active  44-782-1395  54-132-9762     9/29/2024       6/26/2024   \n",
       "987  Discontinued  75-927-9108  27-406-7972     9/29/2024       6/17/2024   \n",
       "988  Discontinued  78-614-4402  51-014-4287     9/30/2024       2/14/2025   \n",
       "989  Discontinued  01-903-5373  37-902-0286     9/30/2024       6/20/2024   \n",
       "\n",
       "    Expiration_Date  Stock_Quantity  Reorder_Level  Reorder_Quantity  \\\n",
       "985       7/28/2024              52             56                34   \n",
       "986      11/17/2024              72             72                68   \n",
       "987        7/2/2024              24             32                17   \n",
       "988       4/25/2024              81             99                28   \n",
       "989       6/21/2024              94             77                89   \n",
       "\n",
       "    Unit_Price  Sales_Volume  Inventory_Turnover_Rate percentage  \n",
       "985     $12.00            31                       69       024%  \n",
       "986      $1.50            39                       78      -123%  \n",
       "987      $1.00            55                       72      -100%  \n",
       "988      $2.00            20                       85      -031%  \n",
       "989      $6.00            40                       84      -325%  "
      ]
     },
     "execution_count": 5,
     "metadata": {},
     "output_type": "execute_result"
    }
   ],
   "source": [
    "# Get the tail of the dataframe\n",
    "df.tail()"
   ]
  },
  {
   "cell_type": "code",
   "execution_count": 6,
   "metadata": {},
   "outputs": [
    {
     "name": "stdout",
     "output_type": "stream",
     "text": [
      "<class 'pandas.core.frame.DataFrame'>\n",
      "RangeIndex: 990 entries, 0 to 989\n",
      "Data columns (total 17 columns):\n",
      " #   Column                   Non-Null Count  Dtype \n",
      "---  ------                   --------------  ----- \n",
      " 0   Product_Name             990 non-null    object\n",
      " 1   Catagory                 989 non-null    object\n",
      " 2   Supplier_Name            990 non-null    object\n",
      " 3   Warehouse_Location       990 non-null    object\n",
      " 4   Status                   990 non-null    object\n",
      " 5   Product_ID               990 non-null    object\n",
      " 6   Supplier_ID              990 non-null    object\n",
      " 7   Date_Received            990 non-null    object\n",
      " 8   Last_Order_Date          990 non-null    object\n",
      " 9   Expiration_Date          990 non-null    object\n",
      " 10  Stock_Quantity           990 non-null    int64 \n",
      " 11  Reorder_Level            990 non-null    int64 \n",
      " 12  Reorder_Quantity         990 non-null    int64 \n",
      " 13  Unit_Price               990 non-null    object\n",
      " 14  Sales_Volume             990 non-null    int64 \n",
      " 15  Inventory_Turnover_Rate  990 non-null    int64 \n",
      " 16  percentage               990 non-null    object\n",
      "dtypes: int64(5), object(12)\n",
      "memory usage: 131.6+ KB\n"
     ]
    }
   ],
   "source": [
    "# Ge the information about the dataframe\n",
    "df.info()"
   ]
  },
  {
   "cell_type": "code",
   "execution_count": 7,
   "metadata": {},
   "outputs": [
    {
     "data": {
      "text/html": [
       "<div>\n",
       "<style scoped>\n",
       "    .dataframe tbody tr th:only-of-type {\n",
       "        vertical-align: middle;\n",
       "    }\n",
       "\n",
       "    .dataframe tbody tr th {\n",
       "        vertical-align: top;\n",
       "    }\n",
       "\n",
       "    .dataframe thead th {\n",
       "        text-align: right;\n",
       "    }\n",
       "</style>\n",
       "<table border=\"1\" class=\"dataframe\">\n",
       "  <thead>\n",
       "    <tr style=\"text-align: right;\">\n",
       "      <th></th>\n",
       "      <th>count</th>\n",
       "      <th>mean</th>\n",
       "      <th>std</th>\n",
       "      <th>min</th>\n",
       "      <th>25%</th>\n",
       "      <th>50%</th>\n",
       "      <th>75%</th>\n",
       "      <th>max</th>\n",
       "    </tr>\n",
       "  </thead>\n",
       "  <tbody>\n",
       "    <tr>\n",
       "      <th>Stock_Quantity</th>\n",
       "      <td>990.0</td>\n",
       "      <td>55.609091</td>\n",
       "      <td>26.300775</td>\n",
       "      <td>10.0</td>\n",
       "      <td>33.00</td>\n",
       "      <td>56.0</td>\n",
       "      <td>79.00</td>\n",
       "      <td>100.0</td>\n",
       "    </tr>\n",
       "    <tr>\n",
       "      <th>Reorder_Level</th>\n",
       "      <td>990.0</td>\n",
       "      <td>51.215152</td>\n",
       "      <td>29.095241</td>\n",
       "      <td>1.0</td>\n",
       "      <td>25.25</td>\n",
       "      <td>53.0</td>\n",
       "      <td>77.00</td>\n",
       "      <td>100.0</td>\n",
       "    </tr>\n",
       "    <tr>\n",
       "      <th>Reorder_Quantity</th>\n",
       "      <td>990.0</td>\n",
       "      <td>51.913131</td>\n",
       "      <td>29.521059</td>\n",
       "      <td>1.0</td>\n",
       "      <td>25.00</td>\n",
       "      <td>54.0</td>\n",
       "      <td>77.00</td>\n",
       "      <td>100.0</td>\n",
       "    </tr>\n",
       "    <tr>\n",
       "      <th>Sales_Volume</th>\n",
       "      <td>990.0</td>\n",
       "      <td>58.925253</td>\n",
       "      <td>23.002318</td>\n",
       "      <td>20.0</td>\n",
       "      <td>39.00</td>\n",
       "      <td>58.0</td>\n",
       "      <td>78.00</td>\n",
       "      <td>100.0</td>\n",
       "    </tr>\n",
       "    <tr>\n",
       "      <th>Inventory_Turnover_Rate</th>\n",
       "      <td>990.0</td>\n",
       "      <td>50.150505</td>\n",
       "      <td>28.798954</td>\n",
       "      <td>1.0</td>\n",
       "      <td>25.00</td>\n",
       "      <td>50.0</td>\n",
       "      <td>74.75</td>\n",
       "      <td>100.0</td>\n",
       "    </tr>\n",
       "  </tbody>\n",
       "</table>\n",
       "</div>"
      ],
      "text/plain": [
       "                         count       mean        std   min    25%   50%  \\\n",
       "Stock_Quantity           990.0  55.609091  26.300775  10.0  33.00  56.0   \n",
       "Reorder_Level            990.0  51.215152  29.095241   1.0  25.25  53.0   \n",
       "Reorder_Quantity         990.0  51.913131  29.521059   1.0  25.00  54.0   \n",
       "Sales_Volume             990.0  58.925253  23.002318  20.0  39.00  58.0   \n",
       "Inventory_Turnover_Rate  990.0  50.150505  28.798954   1.0  25.00  50.0   \n",
       "\n",
       "                           75%    max  \n",
       "Stock_Quantity           79.00  100.0  \n",
       "Reorder_Level            77.00  100.0  \n",
       "Reorder_Quantity         77.00  100.0  \n",
       "Sales_Volume             78.00  100.0  \n",
       "Inventory_Turnover_Rate  74.75  100.0  "
      ]
     },
     "execution_count": 7,
     "metadata": {},
     "output_type": "execute_result"
    }
   ],
   "source": [
    "# Get the summary statistic of dataframe\n",
    "df.describe().T"
   ]
  },
  {
   "cell_type": "code",
   "execution_count": 8,
   "metadata": {},
   "outputs": [
    {
     "data": {
      "text/plain": [
       "Product_Name               object\n",
       "Catagory                   object\n",
       "Supplier_Name              object\n",
       "Warehouse_Location         object\n",
       "Status                     object\n",
       "Product_ID                 object\n",
       "Supplier_ID                object\n",
       "Date_Received              object\n",
       "Last_Order_Date            object\n",
       "Expiration_Date            object\n",
       "Stock_Quantity              int64\n",
       "Reorder_Level               int64\n",
       "Reorder_Quantity            int64\n",
       "Unit_Price                 object\n",
       "Sales_Volume                int64\n",
       "Inventory_Turnover_Rate     int64\n",
       "percentage                 object\n",
       "dtype: object"
      ]
     },
     "execution_count": 8,
     "metadata": {},
     "output_type": "execute_result"
    }
   ],
   "source": [
    "# Get the data type of each column in the dataframe\n",
    "df.dtypes"
   ]
  },
  {
   "cell_type": "code",
   "execution_count": 9,
   "metadata": {},
   "outputs": [
    {
     "data": {
      "text/plain": [
       "Product_Name               0\n",
       "Catagory                   1\n",
       "Supplier_Name              0\n",
       "Warehouse_Location         0\n",
       "Status                     0\n",
       "Product_ID                 0\n",
       "Supplier_ID                0\n",
       "Date_Received              0\n",
       "Last_Order_Date            0\n",
       "Expiration_Date            0\n",
       "Stock_Quantity             0\n",
       "Reorder_Level              0\n",
       "Reorder_Quantity           0\n",
       "Unit_Price                 0\n",
       "Sales_Volume               0\n",
       "Inventory_Turnover_Rate    0\n",
       "percentage                 0\n",
       "dtype: int64"
      ]
     },
     "execution_count": 9,
     "metadata": {},
     "output_type": "execute_result"
    }
   ],
   "source": [
    "# Check for the missing value\n",
    "df.isnull().sum()"
   ]
  },
  {
   "cell_type": "code",
   "execution_count": 10,
   "metadata": {},
   "outputs": [],
   "source": [
    "# Drop the missing row from category feature\n",
    "df.dropna(subset='Catagory', inplace=True)"
   ]
  },
  {
   "cell_type": "code",
   "execution_count": 11,
   "metadata": {},
   "outputs": [
    {
     "data": {
      "text/plain": [
       "0"
      ]
     },
     "execution_count": 11,
     "metadata": {},
     "output_type": "execute_result"
    }
   ],
   "source": [
    "# Check for the duplicate\n",
    "df.duplicated().sum()"
   ]
  },
  {
   "cell_type": "code",
   "execution_count": 12,
   "metadata": {},
   "outputs": [
    {
     "data": {
      "image/png": "[encoded data removed]",
      "text/plain": [
       "<Figure size 1000x800 with 1 Axes>"
      ]
     },
     "metadata": {},
     "output_type": "display_data"
    }
   ],
   "source": [
    "# Check for the outliers\n",
    "df.boxplot(figsize=(10,8))\n",
    "plt.tight_layout()"
   ]
  },
  {
   "cell_type": "code",
   "execution_count": 13,
   "metadata": {},
   "outputs": [
    {
     "name": "stdout",
     "output_type": "stream",
     "text": [
      "This is the final data shape: (989, 17)\n"
     ]
    }
   ],
   "source": [
    "# Print the final data shape\n",
    "print('This is the final data shape:', df.shape)"
   ]
  },
  {
   "cell_type": "markdown",
   "metadata": {},
   "source": [
    "# Feature Engineering"
   ]
  },
  {
   "cell_type": "code",
   "execution_count": 14,
   "metadata": {},
   "outputs": [],
   "source": [
    "# Changing 'unit price' type to float\n",
    "df['Unit_Price'] = df['Unit_Price'].replace(r'[\\$]', '', regex=True).astype(float)"
   ]
  },
  {
   "cell_type": "code",
   "execution_count": 15,
   "metadata": {},
   "outputs": [],
   "source": [
    "# Creating total value feature\n",
    "df['total value'] = df['Sales_Volume'] * df['Unit_Price']"
   ]
  },
  {
   "cell_type": "markdown",
   "metadata": {},
   "source": [
    "# ABC Analysis"
   ]
  },
  {
   "cell_type": "code",
   "execution_count": 16,
   "metadata": {},
   "outputs": [],
   "source": [
    "# Make a copy of original dataframe and assigned it to ABC variabel\n",
    "ABC = df.copy()"
   ]
  },
  {
   "cell_type": "code",
   "execution_count": 17,
   "metadata": {},
   "outputs": [],
   "source": [
    "# Calculate the contribution percentage of each item to the total value\n",
    "ABC['contribution percentage'] = ((ABC['total value'] / ABC['total value'].sum()) * 100)"
   ]
  },
  {
   "cell_type": "code",
   "execution_count": 18,
   "metadata": {},
   "outputs": [],
   "source": [
    "# Sort the dataframe by 'contribution percentage' in descending order\n",
    "ABC = ABC.sort_values('contribution percentage', ascending=False)\n",
    "\n",
    "# Calculate the cumulative percentage for each item (running total of contribution percentage)\n",
    "ABC['cumulative percentage'] = ABC['contribution percentage'].cumsum()"
   ]
  },
  {
   "cell_type": "code",
   "execution_count": 19,
   "metadata": {},
   "outputs": [],
   "source": [
    "# Assign the contribution type (A, B, or C) to each item based on its cumulative percentage\n",
    "ABC['contribution type'] = ABC['cumulative percentage'].apply(lambda x: \"'A' Tier Products\" if x <= 80 else \"'B' Tier Products\" if x <= 95 else \"'C' Tier Products\")"
   ]
  },
  {
   "cell_type": "code",
   "execution_count": 20,
   "metadata": {},
   "outputs": [
    {
     "data": {
      "image/png": "[encoded data removed]",
      "text/plain": [
       "<Figure size 1000x800 with 1 Axes>"
      ]
     },
     "metadata": {},
     "output_type": "display_data"
    }
   ],
   "source": [
    "# Count the number of items in each contribution type (A, B, or C)\n",
    "category_counts = ABC['contribution type'].value_counts()\n",
    "\n",
    "# Create a pie chart to visualize the proportion of each contribution type\n",
    "fig, ax = plt.subplots(figsize=(10,8))\n",
    "category_counts.plot(kind='pie', autopct='%1.1f%%', startangle=90, colors=sns.light_palette('seagreen', n_colors=3))\n",
    "plt.title('ABC Analysis Contribution')\n",
    "plt.ylabel('')\n",
    "plt.show()"
   ]
  },
  {
   "cell_type": "markdown",
   "metadata": {},
   "source": [
    "# Inventory Turnover Analysis"
   ]
  },
  {
   "cell_type": "code",
   "execution_count": 21,
   "metadata": {},
   "outputs": [],
   "source": [
    "# Calculate the 25th, 50th, and 75th percentiles (quartiles) for Inventory Turnover Rate\n",
    "quantile = df['Inventory_Turnover_Rate'].quantile([0.25, 0.5, 0.75])\n",
    "\n",
    "# Define a function to assign a segment label based on the turnover rate and quantiles\n",
    "def score(x, q):\n",
    "    if x <= q[0.25]:\n",
    "        return 'Slow Moving'\n",
    "    elif x <= q[0.50]:\n",
    "        return 'Medium Moving'\n",
    "    elif x <= q[0.75]:\n",
    "        return 'Fast Moving'\n",
    "    else:\n",
    "        return 'Super Fast Moving'\n",
    "\n",
    "# Create a copy of the original dataframe for inventory turnover analysis\n",
    "inventory_turnover = df.copy()\n",
    "\n",
    "# Apply the score function to classify each item into a turnover segment\n",
    "inventory_turnover['Inventory_Turnover_Segment'] = inventory_turnover['Inventory_Turnover_Rate'].apply(score, args=(quantile,))"
   ]
  },
  {
   "cell_type": "code",
   "execution_count": 22,
   "metadata": {},
   "outputs": [
    {
     "data": {
      "image/png": "[encoded data removed]",
      "text/plain": [
       "<Figure size 1200x1000 with 4 Axes>"
      ]
     },
     "metadata": {},
     "output_type": "display_data"
    }
   ],
   "source": [
    "# Import CategoricalDtype to define an ordered categorical type for segments\n",
    "from pandas.api.types import CategoricalDtype\n",
    "\n",
    "# Define the order of inventory turnover segments\n",
    "segment_order = ['Super Fast Moving', 'Fast Moving', 'Medium Moving', 'Slow Moving']\n",
    "\n",
    "# Create a categorical type with the specified order\n",
    "cat_type = CategoricalDtype(categories=segment_order, ordered=True)\n",
    "\n",
    "# Create a count plot for each inventory turnover segment, split into columns\n",
    "g = sns.catplot(data=inventory_turnover, x='Catagory', kind='count', col='Inventory_Turnover_Segment', col_order=segment_order, col_wrap=2, height=5, aspect=1.2, palette='Set2')\n",
    "\n",
    "# Set the title for each subplot\n",
    "g.set_titles('Segment: {col_name}')\n",
    "g.set_axis_labels('Category', 'Frequency', fontsize=12, fontweight='bold')\n",
    "\n",
    "# Rotate x-axis labels and add value labels to each bar in every subplot\n",
    "for ax in g.axes.flatten():\n",
    "    ax.tick_params(axis='x', rotation=45)\n",
    "\n",
    "    for container in ax.containers:\n",
    "        ax.bar_label(container, fmt='%d')\n",
    "\n",
    "# Set the main title for the entire figure\n",
    "g.fig.suptitle('Inventory Turnover Ratio Distribution Across All Product Categories', y=1.002, fontsize=18, fontweight='bold')\n",
    "\n",
    "plt.tight_layout()\n",
    "plt.show()"
   ]
  },
  {
   "cell_type": "code",
   "execution_count": 23,
   "metadata": {},
   "outputs": [
    {
     "data": {
      "image/png": "[encoded data removed]",
      "text/plain": [
       "<Figure size 1000x800 with 1 Axes>"
      ]
     },
     "metadata": {},
     "output_type": "display_data"
    }
   ],
   "source": [
    "# Create a boxplot for inventory turnover rate boxplot across product category\n",
    "plt.figure(figsize=(10,8))\n",
    "sns.boxplot(inventory_turnover, x='Catagory', y='Inventory_Turnover_Rate', color='#FFE8A8')\n",
    "plt.title('Inventory Turnover Rate boxplot Across Product Category', fontsize=12, fontweight='bold')\n",
    "plt.xlabel('Category', fontsize=12, fontweight='bold')\n",
    "plt.ylabel('Inventory Turnover Rate', fontsize=12, fontweight='bold')\n",
    "plt.show()"
   ]
  },
  {
   "cell_type": "code",
   "execution_count": 24,
   "metadata": {},
   "outputs": [
    {
     "data": {
      "text/plain": [
       "Catagory\n",
       "Bakery                 49.5\n",
       "Beverages              51.0\n",
       "Dairy                  55.0\n",
       "Fruits & Vegetables    50.0\n",
       "Grains & Pulses        47.5\n",
       "Oils & Fats            45.0\n",
       "Seafood                52.0\n",
       "Name: Inventory_Turnover_Rate, dtype: float64"
      ]
     },
     "execution_count": 24,
     "metadata": {},
     "output_type": "execute_result"
    }
   ],
   "source": [
    "# Overview inventory turn over median for every product's category\n",
    "inventory_turnover.groupby(['Catagory'])['Inventory_Turnover_Rate'].median()"
   ]
  },
  {
   "cell_type": "code",
   "execution_count": 25,
   "metadata": {},
   "outputs": [
    {
     "data": {
      "text/plain": [
       "Catagory\n",
       "Bakery                 50.527027\n",
       "Beverages              51.306667\n",
       "Dairy                  53.427778\n",
       "Fruits & Vegetables    49.416918\n",
       "Grains & Pulses        47.746914\n",
       "Oils & Fats            45.220779\n",
       "Seafood                53.733333\n",
       "Name: Inventory_Turnover_Rate, dtype: float64"
      ]
     },
     "execution_count": 25,
     "metadata": {},
     "output_type": "execute_result"
    }
   ],
   "source": [
    "# Overview inventory turn over mean for every product's category\n",
    "inventory_turnover.groupby(['Catagory'])['Inventory_Turnover_Rate'].mean()"
   ]
  },
  {
   "cell_type": "markdown",
   "metadata": {},
   "source": [
    "# Stockout & Overstock Analysis"
   ]
  },
  {
   "cell_type": "code",
   "execution_count": 26,
   "metadata": {},
   "outputs": [],
   "source": [
    "# Convert the 'Date_Received', 'Last_Order_Date', and 'Expiration_Date' columns to datetime format\n",
    "df['Date_Received'] = pd.to_datetime(df['Date_Received'], format='mixed')\n",
    "df['Last_Order_Date'] = pd.to_datetime(df['Last_Order_Date'], format='mixed')\n",
    "df['Expiration_Date'] = pd.to_datetime(df['Expiration_Date'], format='mixed')"
   ]
  },
  {
   "cell_type": "code",
   "execution_count": 28,
   "metadata": {},
   "outputs": [],
   "source": [
    "# Make a copy from original dataset and assigned it to stock analysis variable\n",
    "stock_analysis = df.copy()"
   ]
  },
  {
   "cell_type": "code",
   "execution_count": 29,
   "metadata": {},
   "outputs": [],
   "source": [
    "# Add the 'Inventory_Turnover_Segment' column from the inventory_turnover dataframe to the stock_analysis dataframe\n",
    "# This allows stock analysis to be segmented by inventory turnover classification\n",
    "stock_analysis['Inventory_Turnover_Segment'] = inventory_turnover['Inventory_Turnover_Segment']"
   ]
  },
  {
   "cell_type": "code",
   "execution_count": 30,
   "metadata": {},
   "outputs": [],
   "source": [
    "# Take the most recent date from the 'Date_Received' column as the reference_date\n",
    "reference_date = stock_analysis['Date_Received'].max()"
   ]
  },
  {
   "cell_type": "code",
   "execution_count": 27,
   "metadata": {},
   "outputs": [
    {
     "ename": "NameError",
     "evalue": "name 'stock_analysis' is not defined",
     "output_type": "error",
     "traceback": [
      "\u001b[1;31m---------------------------------------------------------------------------\u001b[0m",
      "\u001b[1;31mNameError\u001b[0m                                 Traceback (most recent call last)",
      "Cell \u001b[1;32mIn[27], line 2\u001b[0m\n\u001b[0;32m      1\u001b[0m \u001b[38;5;66;03m# Assign stock status based on stock quantity and reorder quantity\u001b[39;00m\n\u001b[1;32m----> 2\u001b[0m stock_analysis[\u001b[38;5;124m'\u001b[39m\u001b[38;5;124mStock Status\u001b[39m\u001b[38;5;124m'\u001b[39m] \u001b[38;5;241m=\u001b[39m \u001b[43mstock_analysis\u001b[49m\u001b[38;5;241m.\u001b[39mapply(\u001b[38;5;28;01mlambda\u001b[39;00m row: \u001b[38;5;124m'\u001b[39m\u001b[38;5;124mStockout\u001b[39m\u001b[38;5;124m'\u001b[39m \u001b[38;5;28;01mif\u001b[39;00m row[\u001b[38;5;124m'\u001b[39m\u001b[38;5;124mStock_Quantity\u001b[39m\u001b[38;5;124m'\u001b[39m] \u001b[38;5;241m<\u001b[39m row[\u001b[38;5;124m'\u001b[39m\u001b[38;5;124mReorder_Quantity\u001b[39m\u001b[38;5;124m'\u001b[39m] \u001b[38;5;28;01melse\u001b[39;00m \u001b[38;5;124m'\u001b[39m\u001b[38;5;124mOverstock\u001b[39m\u001b[38;5;124m'\u001b[39m \u001b[38;5;28;01mif\u001b[39;00m row[\u001b[38;5;124m'\u001b[39m\u001b[38;5;124mStock_Quantity\u001b[39m\u001b[38;5;124m'\u001b[39m] \u001b[38;5;241m>\u001b[39m \u001b[38;5;241m2\u001b[39m \u001b[38;5;241m*\u001b[39m row[\u001b[38;5;124m'\u001b[39m\u001b[38;5;124mReorder_Quantity\u001b[39m\u001b[38;5;124m'\u001b[39m] \u001b[38;5;28;01melse\u001b[39;00m \u001b[38;5;124m'\u001b[39m\u001b[38;5;124mNormal\u001b[39m\u001b[38;5;124m'\u001b[39m, axis\u001b[38;5;241m=\u001b[39m\u001b[38;5;241m1\u001b[39m)\n",
      "\u001b[1;31mNameError\u001b[0m: name 'stock_analysis' is not defined"
     ]
    }
   ],
   "source": [
    "# Assign stock status based on stock quantity and reorder quantity\n",
    "stock_analysis['Stock Status'] = stock_analysis.apply(lambda row: 'Stockout' if row['Stock_Quantity'] < row['Reorder_Quantity'] else 'Overstock' if row['Stock_Quantity'] > 2 * row['Reorder_Quantity'] else 'Normal', axis=1)"
   ]
  },
  {
   "cell_type": "code",
   "execution_count": null,
   "metadata": {},
   "outputs": [],
   "source": [
    "# Create a countplot for shows quantity of product by inventory turn over segment and stock status\n",
    "fig, ax = plt.subplots(figsize=(12, 10))\n",
    "ax = sns.countplot(stock_analysis, x='Inventory_Turnover_Segment', hue='Stock Status', palette='YlOrBr', order=segment_order)\n",
    "\n",
    "for container in ax.containers:\n",
    "    ax.bar_label(container, fmt='%d')\n",
    "\n",
    "plt.title('Turn Over Segment vs Stock Status', fontweight='bold', fontsize=18)\n",
    "ax.set_xlabel('Inventory Turnover Segment', fontsize=12, fontweight='bold')\n",
    "ax.set_ylabel('Frequency', fontsize=12, fontweight='bold')\n",
    "plt.show()"
   ]
  },
  {
   "cell_type": "code",
   "execution_count": null,
   "metadata": {},
   "outputs": [],
   "source": [
    "# Group the stock_analysis dataframe by 'Catagory' and 'Stock Status', then count the occurrences\n",
    "stock_analysis_category = stock_analysis.groupby('Catagory')['Stock Status'].value_counts().reset_index(name='count')\n",
    "\n",
    "# Define the order of categories for the x-axis\n",
    "tick_order = ['Fruits & Vegetables', 'Oils & Fats', 'Dairy', 'Grains & Pulses', 'Seafood', 'Bakery', 'Beverages']\n",
    "\n",
    "# Create a barplot for showing quantity of product by category and stock status\n",
    "fig, ax = plt.subplots(figsize=(10,8))\n",
    "ax = sns.barplot(stock_analysis_category, x='Catagory', y='count', hue='Stock Status', palette='YlOrBr')\n",
    "for container in ax.containers:\n",
    "    ax.bar_label(container, fmt='%d')\n",
    "\n",
    "plt.title('Product Category vs Stock Status', fontsize=18, fontweight='bold')\n",
    "ax.set_xlabel('Category', fontsize=12, fontweight='bold')\n",
    "ax.set_ylabel('Quantity', fontsize=12, fontweight='bold')\n",
    "plt.tight_layout()\n",
    "plt.show()"
   ]
  },
  {
   "cell_type": "code",
   "execution_count": 28,
   "metadata": {},
   "outputs": [
    {
     "ename": "NameError",
     "evalue": "name 'stock_analysis' is not defined",
     "output_type": "error",
     "traceback": [
      "\u001b[1;31m---------------------------------------------------------------------------\u001b[0m",
      "\u001b[1;31mNameError\u001b[0m                                 Traceback (most recent call last)",
      "Cell \u001b[1;32mIn[28], line 3\u001b[0m\n\u001b[0;32m      1\u001b[0m \u001b[38;5;66;03m# Calculate the mean of 'total value' for each combination of 'Catagory' and 'Stock Status'\u001b[39;00m\n\u001b[0;32m      2\u001b[0m \u001b[38;5;66;03m# This will be used to analyze the average sales value for each stock status in every product category\u001b[39;00m\n\u001b[1;32m----> 3\u001b[0m stock_analysis_mean \u001b[38;5;241m=\u001b[39m \u001b[43mstock_analysis\u001b[49m\u001b[38;5;241m.\u001b[39mgroupby([\u001b[38;5;124m'\u001b[39m\u001b[38;5;124mCatagory\u001b[39m\u001b[38;5;124m'\u001b[39m, \u001b[38;5;124m'\u001b[39m\u001b[38;5;124mStock Status\u001b[39m\u001b[38;5;124m'\u001b[39m])[\u001b[38;5;124m'\u001b[39m\u001b[38;5;124mtotal value\u001b[39m\u001b[38;5;124m'\u001b[39m]\u001b[38;5;241m.\u001b[39mmean()\u001b[38;5;241m.\u001b[39mreset_index()\n",
      "\u001b[1;31mNameError\u001b[0m: name 'stock_analysis' is not defined"
     ]
    }
   ],
   "source": [
    "# Calculate the mean of 'total value' for each combination of 'Catagory' and 'Stock Status'\n",
    "# This will be used to analyze the average sales value for each stock status in every product category\n",
    "stock_analysis_mean = stock_analysis.groupby(['Catagory', 'Stock Status'])['total value'].mean().reset_index()"
   ]
  },
  {
   "cell_type": "code",
   "execution_count": 29,
   "metadata": {},
   "outputs": [
    {
     "ename": "NameError",
     "evalue": "name 'stock_analysis_mean' is not defined",
     "output_type": "error",
     "traceback": [
      "\u001b[1;31m---------------------------------------------------------------------------\u001b[0m",
      "\u001b[1;31mNameError\u001b[0m                                 Traceback (most recent call last)",
      "Cell \u001b[1;32mIn[29], line 2\u001b[0m\n\u001b[0;32m      1\u001b[0m \u001b[38;5;66;03m# Filter the stock_analysis_mean dataframe to include only 'Stockout' and 'Overstock' statuses\u001b[39;00m\n\u001b[1;32m----> 2\u001b[0m filtered_stock \u001b[38;5;241m=\u001b[39m \u001b[43mstock_analysis_mean\u001b[49m[stock_analysis_mean[\u001b[38;5;124m'\u001b[39m\u001b[38;5;124mStock Status\u001b[39m\u001b[38;5;124m'\u001b[39m]\u001b[38;5;241m.\u001b[39misin([\u001b[38;5;124m'\u001b[39m\u001b[38;5;124mStockout\u001b[39m\u001b[38;5;124m'\u001b[39m, \u001b[38;5;124m'\u001b[39m\u001b[38;5;124mOverstock\u001b[39m\u001b[38;5;124m'\u001b[39m])]\n\u001b[0;32m      4\u001b[0m \u001b[38;5;66;03m# Create a barplot for showing average sales value by product's category and product status\u001b[39;00m\n\u001b[0;32m      5\u001b[0m fig, ax \u001b[38;5;241m=\u001b[39m plt\u001b[38;5;241m.\u001b[39msubplots(figsize\u001b[38;5;241m=\u001b[39m(\u001b[38;5;241m12\u001b[39m,\u001b[38;5;241m10\u001b[39m))\n",
      "\u001b[1;31mNameError\u001b[0m: name 'stock_analysis_mean' is not defined"
     ]
    }
   ],
   "source": [
    "# Filter the stock_analysis_mean dataframe to include only 'Stockout' and 'Overstock' statuses\n",
    "filtered_stock = stock_analysis_mean[stock_analysis_mean['Stock Status'].isin(['Stockout', 'Overstock'])]\n",
    "\n",
    "# Create a barplot for showing average sales value by product's category and product status\n",
    "fig, ax = plt.subplots(figsize=(12,10))\n",
    "ax = sns.barplot(filtered_stock, x='Catagory', y='total value', hue='Stock Status', palette='YlOrBr', order=tick_order)\n",
    "\n",
    "ax.yaxis.set_major_formatter(mtick.StrMethodFormatter('${x:,.0f}'))\n",
    "for container in ax.containers:\n",
    "    ax.bar_label(container, fmt='$%d')\n",
    "\n",
    "plt.title('Average Sales Value vs Product Status', fontsize=18, fontweight='bold')\n",
    "ax.set_xlabel('Category', fontsize=12, fontweight='bold')\n",
    "ax.set_ylabel('Total Value ($)', fontsize=12, fontweight='bold')\n",
    "plt.tight_layout()\n",
    "plt.show()"
   ]
  },
  {
   "cell_type": "markdown",
   "metadata": {},
   "source": [
    "# Product Lifecycle Analysis"
   ]
  },
  {
   "cell_type": "code",
   "execution_count": 30,
   "metadata": {},
   "outputs": [
    {
     "data": {
      "text/plain": [
       "Timestamp('2025-02-24 00:00:00')"
      ]
     },
     "execution_count": 30,
     "metadata": {},
     "output_type": "execute_result"
    }
   ],
   "source": [
    "# Get the most recent date from the 'Last_Order_Date' column as the reference date for product lifecycle analysis\n",
    "reference_date = df['Last_Order_Date'].max()\n",
    "reference_date"
   ]
  },
  {
   "cell_type": "code",
   "execution_count": 31,
   "metadata": {},
   "outputs": [],
   "source": [
    "# Calculate the age of each product in days by subtracting 'Date_Received' from the reference date\n",
    "df['Product_Age'] = (reference_date - df['Date_Received']).dt.days"
   ]
  },
  {
   "cell_type": "code",
   "execution_count": 32,
   "metadata": {},
   "outputs": [],
   "source": [
    "# Assign product lifecycle stage based on product age in days\n",
    "df['Product_Lifecycle'] = df['Product_Age'].apply(lambda x: 'Introduction' if x <= 90 else 'Growth' if x <= 180 else 'Maturity' if x <= 300 else 'Decline')"
   ]
  },
  {
   "cell_type": "code",
   "execution_count": 33,
   "metadata": {},
   "outputs": [],
   "source": [
    "# Calculate the mean of 'total value' for each combination of 'Catagory' and 'Product_Lifecycle'\n",
    "# This will be used to analyze the average sales value for each product lifecycle stage in every product category\n",
    "PLA = df.groupby(['Catagory', 'Product_Lifecycle'])['total value'].mean().reset_index(name='total value (mean)')"
   ]
  },
  {
   "cell_type": "code",
   "execution_count": 34,
   "metadata": {},
   "outputs": [
    {
     "ename": "NameError",
     "evalue": "name 'tick_order' is not defined",
     "output_type": "error",
     "traceback": [
      "\u001b[1;31m---------------------------------------------------------------------------\u001b[0m",
      "\u001b[1;31mNameError\u001b[0m                                 Traceback (most recent call last)",
      "Cell \u001b[1;32mIn[34], line 6\u001b[0m\n\u001b[0;32m      4\u001b[0m \u001b[38;5;66;03m# Create a barplot to show the average sales value for each product category and lifecycle stage\u001b[39;00m\n\u001b[0;32m      5\u001b[0m fig, ax \u001b[38;5;241m=\u001b[39m plt\u001b[38;5;241m.\u001b[39msubplots(figsize\u001b[38;5;241m=\u001b[39m(\u001b[38;5;241m12\u001b[39m, \u001b[38;5;241m10\u001b[39m))\n\u001b[1;32m----> 6\u001b[0m ax \u001b[38;5;241m=\u001b[39m sns\u001b[38;5;241m.\u001b[39mbarplot(PLA, x\u001b[38;5;241m=\u001b[39m\u001b[38;5;124m'\u001b[39m\u001b[38;5;124mCatagory\u001b[39m\u001b[38;5;124m'\u001b[39m ,y\u001b[38;5;241m=\u001b[39m\u001b[38;5;124m'\u001b[39m\u001b[38;5;124mtotal value (mean)\u001b[39m\u001b[38;5;124m'\u001b[39m, hue\u001b[38;5;241m=\u001b[39m\u001b[38;5;124m'\u001b[39m\u001b[38;5;124mProduct_Lifecycle\u001b[39m\u001b[38;5;124m'\u001b[39m, width\u001b[38;5;241m=\u001b[39m\u001b[38;5;241m0.88\u001b[39m, order \u001b[38;5;241m=\u001b[39m \u001b[43mtick_order\u001b[49m, hue_order\u001b[38;5;241m=\u001b[39mhue_ordered, ax\u001b[38;5;241m=\u001b[39max)\n\u001b[0;32m      8\u001b[0m ax\u001b[38;5;241m.\u001b[39myaxis\u001b[38;5;241m.\u001b[39mset_major_formatter(mtick\u001b[38;5;241m.\u001b[39mStrMethodFormatter(\u001b[38;5;124m'\u001b[39m\u001b[38;5;124m$\u001b[39m\u001b[38;5;132;01m{x:,.0f}\u001b[39;00m\u001b[38;5;124m'\u001b[39m))\n\u001b[0;32m      9\u001b[0m ax\u001b[38;5;241m.\u001b[39mset_title(\u001b[38;5;124m'\u001b[39m\u001b[38;5;124mProduct Lifecylce VS Average Sales Value\u001b[39m\u001b[38;5;124m'\u001b[39m, fontsize\u001b[38;5;241m=\u001b[39m\u001b[38;5;241m18\u001b[39m, fontweight\u001b[38;5;241m=\u001b[39m\u001b[38;5;124m'\u001b[39m\u001b[38;5;124mbold\u001b[39m\u001b[38;5;124m'\u001b[39m)\n",
      "\u001b[1;31mNameError\u001b[0m: name 'tick_order' is not defined"
     ]
    },
    {
     "data": {
      "image/png": "[encoded data removed]",
      "text/plain": [
       "<Figure size 1200x1000 with 1 Axes>"
      ]
     },
     "metadata": {},
     "output_type": "display_data"
    }
   ],
   "source": [
    "# Define the order of product lifecycle stages for the hue\n",
    "hue_ordered = ['Introduction', 'Growth', 'Maturity', 'Decline']\n",
    "\n",
    "# Create a barplot to show the average sales value for each product category and lifecycle stage\n",
    "fig, ax = plt.subplots(figsize=(12, 10))\n",
    "ax = sns.barplot(PLA, x='Catagory' ,y='total value (mean)', hue='Product_Lifecycle', width=0.88, order = tick_order, hue_order=hue_ordered, ax=ax)\n",
    "\n",
    "ax.yaxis.set_major_formatter(mtick.StrMethodFormatter('${x:,.0f}'))\n",
    "ax.set_title('Product Lifecylce VS Average Sales Value', fontsize=18, fontweight='bold')\n",
    "for container in ax.containers:\n",
    "    for bar in container:\n",
    "        height = bar.get_height()\n",
    "        ax.text(\n",
    "            bar.get_x() + bar.get_width() / 2,\n",
    "            height + 5,  # naikkan jarak ke atas bar\n",
    "            f'${int(height)}',\n",
    "            ha='center', va='bottom',\n",
    "            fontsize=10, color='#111111'\n",
    "        )\n",
    "\n",
    "ax.set_xlabel('Category', fontsize=12, fontweight='bold')\n",
    "ax.set_ylabel('Total Value (Mean)', fontsize=12, fontweight='bold')\n",
    "plt.tight_layout()\n",
    "plt.show()"
   ]
  },
  {
   "cell_type": "code",
   "execution_count": null,
   "metadata": {},
   "outputs": [],
   "source": []
  }
 ],
 "metadata": {
  "kaggle": {
   "accelerator": "none",
   "dataSources": [
    {
     "datasetId": 6886641,
     "sourceId": 11053760,
     "sourceType": "datasetVersion"
    }
   ],
   "dockerImageVersionId": 31040,
   "isGpuEnabled": false,
   "isInternetEnabled": false,
   "language": "python",
   "sourceType": "notebook"
  },
  "kernelspec": {
   "display_name": "Python 3 (ipykernel)",
   "language": "python",
   "name": "python3"
  },
  "language_info": {
   "codemirror_mode": {
    "name": "ipython",
    "version": 3
   },
   "file_extension": ".py",
   "mimetype": "text/x-python",
   "name": "python",
   "nbconvert_exporter": "python",
   "pygments_lexer": "ipython3",
   "version": "3.9.21"
  }
 },
 "nbformat": 4,
 "nbformat_minor": 4
}
