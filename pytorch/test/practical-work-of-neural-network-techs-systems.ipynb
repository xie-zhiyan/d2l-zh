{
 "cells": [
  {
   "cell_type": "markdown",
   "metadata": {
    "papermill": {
     "duration": 0.013964,
     "end_time": "2024-12-09T08:37:15.979126",
     "exception": false,
     "start_time": "2024-12-09T08:37:15.965162",
     "status": "completed"
    },
    "tags": []
   },
   "source": [
    "# Import Libraries and set up envirounment"
   ]
  },
  {
   "cell_type": "code",
   "execution_count": 1,
   "metadata": {
    "papermill": {
     "duration": 4.494772,
     "end_time": "2024-12-09T08:37:20.487689",
     "exception": false,
     "start_time": "2024-12-09T08:37:15.992917",
     "status": "completed"
    },
    "tags": []
   },
   "outputs": [],
   "source": [
    "# This Python 3 environment comes with many helpful analytics libraries installed\n",
    "# It is defined by the kaggle/python Docker image: https://github.com/kaggle/docker-python\n",
    "# For example, here's several helpful packages to load\n",
    "\n",
    "import os\n",
    "import pandas as pd\n",
    "import numpy as np\n",
    "import matplotlib.pyplot as plt\n",
    "import seaborn as sns\n",
    "import plotly.express as px\n",
    "import plotly.graph_objects as go\n",
    "from plotly.subplots import make_subplots\n",
    "import plotly.io as pio\n",
    "pio.renderers.default = \"iframe\"\n",
    "pio.renderers.default = \"notebook_connected\"\n",
    "import warnings \n",
    "warnings.filterwarnings('ignore')\n",
    "\n",
    "\n",
    "from sklearn.preprocessing import StandardScaler\n",
    "from sklearn.model_selection import train_test_split\n",
    "from sklearn.metrics import r2_score, mean_squared_error, mean_absolute_error\n",
    "\n",
    "from sklearn.linear_model import LinearRegression\n",
    "from sklearn.svm import SVR  \n",
    "from sklearn.tree import DecisionTreeRegressor\n",
    "from sklearn.neighbors import KNeighborsRegressor"
   ]
  },
  {
   "cell_type": "code",
   "execution_count": 2,
   "metadata": {},
   "outputs": [],
   "source": [
    "# Input data files are available in the read-only \"../input/\" directory\n",
    "# For example, running this (by clicking run or pressing Shift+Enter) will list all files under the input directory\n",
    "\n",
    "import os\n",
    "for dirname, _, filenames in os.walk('/kaggle/input'):\n",
    "    for filename in filenames:\n",
    "        print(os.path.join(dirname, filename))\n",
    "\n",
    "for dirname, _, filenames in os.walk('/kaggle/working'):\n",
    "    for filename in filenames:\n",
    "        print(os.path.join(dirname, filename))\n",
    "# You can write up to 20GB to the current directory (/kaggle/working/) that gets preserved as output when you create a version using \"Save & Run All\" \n",
    "# You can also write temporary files to /kaggle/temp/, but they won't be saved outside of the current session"
   ]
  },
  {
   "cell_type": "markdown",
   "metadata": {
    "papermill": {
     "duration": 0.014518,
     "end_time": "2024-12-09T08:37:20.516956",
     "exception": false,
     "start_time": "2024-12-09T08:37:20.502438",
     "status": "completed"
    },
    "tags": []
   },
   "source": [
    "# Read Data"
   ]
  },
  {
   "cell_type": "code",
   "execution_count": 3,
   "metadata": {
    "papermill": {
     "duration": 0.320712,
     "end_time": "2024-12-09T08:37:20.852298",
     "exception": false,
     "start_time": "2024-12-09T08:37:20.531586",
     "status": "completed"
    },
    "tags": []
   },
   "outputs": [],
   "source": [
    "df = pd.read_csv(r'../data/retail_store_inventory.csv')"
   ]
  },
  {
   "cell_type": "code",
   "execution_count": 4,
   "metadata": {
    "papermill": {
     "duration": 0.049299,
     "end_time": "2024-12-09T08:37:20.915952",
     "exception": false,
     "start_time": "2024-12-09T08:37:20.866653",
     "status": "completed"
    },
    "tags": []
   },
   "outputs": [
    {
     "data": {
      "text/html": [
       "<div>\n",
       "<style scoped>\n",
       "    .dataframe tbody tr th:only-of-type {\n",
       "        vertical-align: middle;\n",
       "    }\n",
       "\n",
       "    .dataframe tbody tr th {\n",
       "        vertical-align: top;\n",
       "    }\n",
       "\n",
       "    .dataframe thead th {\n",
       "        text-align: right;\n",
       "    }\n",
       "</style>\n",
       "<table border=\"1\" class=\"dataframe\">\n",
       "  <thead>\n",
       "    <tr style=\"text-align: right;\">\n",
       "      <th></th>\n",
       "      <th>Date</th>\n",
       "      <th>Store ID</th>\n",
       "      <th>Product ID</th>\n",
       "      <th>Category</th>\n",
       "      <th>Region</th>\n",
       "      <th>Inventory Level</th>\n",
       "      <th>Units Sold</th>\n",
       "      <th>Units Ordered</th>\n",
       "      <th>Demand Forecast</th>\n",
       "      <th>Price</th>\n",
       "      <th>Discount</th>\n",
       "      <th>Weather Condition</th>\n",
       "      <th>Holiday/Promotion</th>\n",
       "      <th>Competitor Pricing</th>\n",
       "      <th>Seasonality</th>\n",
       "    </tr>\n",
       "  </thead>\n",
       "  <tbody>\n",
       "    <tr>\n",
       "      <th>0</th>\n",
       "      <td>2022-01-01</td>\n",
       "      <td>S001</td>\n",
       "      <td>P0001</td>\n",
       "      <td>Groceries</td>\n",
       "      <td>North</td>\n",
       "      <td>231</td>\n",
       "      <td>127</td>\n",
       "      <td>55</td>\n",
       "      <td>135.47</td>\n",
       "      <td>33.50</td>\n",
       "      <td>20</td>\n",
       "      <td>Rainy</td>\n",
       "      <td>0</td>\n",
       "      <td>29.69</td>\n",
       "      <td>Autumn</td>\n",
       "    </tr>\n",
       "    <tr>\n",
       "      <th>1</th>\n",
       "      <td>2022-01-01</td>\n",
       "      <td>S001</td>\n",
       "      <td>P0002</td>\n",
       "      <td>Toys</td>\n",
       "      <td>South</td>\n",
       "      <td>204</td>\n",
       "      <td>150</td>\n",
       "      <td>66</td>\n",
       "      <td>144.04</td>\n",
       "      <td>63.01</td>\n",
       "      <td>20</td>\n",
       "      <td>Sunny</td>\n",
       "      <td>0</td>\n",
       "      <td>66.16</td>\n",
       "      <td>Autumn</td>\n",
       "    </tr>\n",
       "    <tr>\n",
       "      <th>2</th>\n",
       "      <td>2022-01-01</td>\n",
       "      <td>S001</td>\n",
       "      <td>P0003</td>\n",
       "      <td>Toys</td>\n",
       "      <td>West</td>\n",
       "      <td>102</td>\n",
       "      <td>65</td>\n",
       "      <td>51</td>\n",
       "      <td>74.02</td>\n",
       "      <td>27.99</td>\n",
       "      <td>10</td>\n",
       "      <td>Sunny</td>\n",
       "      <td>1</td>\n",
       "      <td>31.32</td>\n",
       "      <td>Summer</td>\n",
       "    </tr>\n",
       "    <tr>\n",
       "      <th>3</th>\n",
       "      <td>2022-01-01</td>\n",
       "      <td>S001</td>\n",
       "      <td>P0004</td>\n",
       "      <td>Toys</td>\n",
       "      <td>North</td>\n",
       "      <td>469</td>\n",
       "      <td>61</td>\n",
       "      <td>164</td>\n",
       "      <td>62.18</td>\n",
       "      <td>32.72</td>\n",
       "      <td>10</td>\n",
       "      <td>Cloudy</td>\n",
       "      <td>1</td>\n",
       "      <td>34.74</td>\n",
       "      <td>Autumn</td>\n",
       "    </tr>\n",
       "    <tr>\n",
       "      <th>4</th>\n",
       "      <td>2022-01-01</td>\n",
       "      <td>S001</td>\n",
       "      <td>P0005</td>\n",
       "      <td>Electronics</td>\n",
       "      <td>East</td>\n",
       "      <td>166</td>\n",
       "      <td>14</td>\n",
       "      <td>135</td>\n",
       "      <td>9.26</td>\n",
       "      <td>73.64</td>\n",
       "      <td>0</td>\n",
       "      <td>Sunny</td>\n",
       "      <td>0</td>\n",
       "      <td>68.95</td>\n",
       "      <td>Summer</td>\n",
       "    </tr>\n",
       "    <tr>\n",
       "      <th>...</th>\n",
       "      <td>...</td>\n",
       "      <td>...</td>\n",
       "      <td>...</td>\n",
       "      <td>...</td>\n",
       "      <td>...</td>\n",
       "      <td>...</td>\n",
       "      <td>...</td>\n",
       "      <td>...</td>\n",
       "      <td>...</td>\n",
       "      <td>...</td>\n",
       "      <td>...</td>\n",
       "      <td>...</td>\n",
       "      <td>...</td>\n",
       "      <td>...</td>\n",
       "      <td>...</td>\n",
       "    </tr>\n",
       "    <tr>\n",
       "      <th>73095</th>\n",
       "      <td>2024-01-01</td>\n",
       "      <td>S005</td>\n",
       "      <td>P0016</td>\n",
       "      <td>Furniture</td>\n",
       "      <td>East</td>\n",
       "      <td>96</td>\n",
       "      <td>8</td>\n",
       "      <td>127</td>\n",
       "      <td>18.46</td>\n",
       "      <td>73.73</td>\n",
       "      <td>20</td>\n",
       "      <td>Snowy</td>\n",
       "      <td>0</td>\n",
       "      <td>72.45</td>\n",
       "      <td>Winter</td>\n",
       "    </tr>\n",
       "    <tr>\n",
       "      <th>73096</th>\n",
       "      <td>2024-01-01</td>\n",
       "      <td>S005</td>\n",
       "      <td>P0017</td>\n",
       "      <td>Toys</td>\n",
       "      <td>North</td>\n",
       "      <td>313</td>\n",
       "      <td>51</td>\n",
       "      <td>101</td>\n",
       "      <td>48.43</td>\n",
       "      <td>82.57</td>\n",
       "      <td>10</td>\n",
       "      <td>Cloudy</td>\n",
       "      <td>0</td>\n",
       "      <td>83.78</td>\n",
       "      <td>Autumn</td>\n",
       "    </tr>\n",
       "    <tr>\n",
       "      <th>73097</th>\n",
       "      <td>2024-01-01</td>\n",
       "      <td>S005</td>\n",
       "      <td>P0018</td>\n",
       "      <td>Clothing</td>\n",
       "      <td>West</td>\n",
       "      <td>278</td>\n",
       "      <td>36</td>\n",
       "      <td>151</td>\n",
       "      <td>39.65</td>\n",
       "      <td>11.11</td>\n",
       "      <td>10</td>\n",
       "      <td>Rainy</td>\n",
       "      <td>0</td>\n",
       "      <td>10.91</td>\n",
       "      <td>Winter</td>\n",
       "    </tr>\n",
       "    <tr>\n",
       "      <th>73098</th>\n",
       "      <td>2024-01-01</td>\n",
       "      <td>S005</td>\n",
       "      <td>P0019</td>\n",
       "      <td>Toys</td>\n",
       "      <td>East</td>\n",
       "      <td>374</td>\n",
       "      <td>264</td>\n",
       "      <td>21</td>\n",
       "      <td>270.52</td>\n",
       "      <td>53.14</td>\n",
       "      <td>20</td>\n",
       "      <td>Rainy</td>\n",
       "      <td>0</td>\n",
       "      <td>55.80</td>\n",
       "      <td>Spring</td>\n",
       "    </tr>\n",
       "    <tr>\n",
       "      <th>73099</th>\n",
       "      <td>2024-01-01</td>\n",
       "      <td>S005</td>\n",
       "      <td>P0020</td>\n",
       "      <td>Groceries</td>\n",
       "      <td>East</td>\n",
       "      <td>117</td>\n",
       "      <td>6</td>\n",
       "      <td>165</td>\n",
       "      <td>2.33</td>\n",
       "      <td>78.39</td>\n",
       "      <td>20</td>\n",
       "      <td>Rainy</td>\n",
       "      <td>1</td>\n",
       "      <td>79.52</td>\n",
       "      <td>Spring</td>\n",
       "    </tr>\n",
       "  </tbody>\n",
       "</table>\n",
       "<p>73100 rows × 15 columns</p>\n",
       "</div>"
      ],
      "text/plain": [
       "             Date Store ID Product ID     Category Region  Inventory Level  \\\n",
       "0      2022-01-01     S001      P0001    Groceries  North              231   \n",
       "1      2022-01-01     S001      P0002         Toys  South              204   \n",
       "2      2022-01-01     S001      P0003         Toys   West              102   \n",
       "3      2022-01-01     S001      P0004         Toys  North              469   \n",
       "4      2022-01-01     S001      P0005  Electronics   East              166   \n",
       "...           ...      ...        ...          ...    ...              ...   \n",
       "73095  2024-01-01     S005      P0016    Furniture   East               96   \n",
       "73096  2024-01-01     S005      P0017         Toys  North              313   \n",
       "73097  2024-01-01     S005      P0018     Clothing   West              278   \n",
       "73098  2024-01-01     S005      P0019         Toys   East              374   \n",
       "73099  2024-01-01     S005      P0020    Groceries   East              117   \n",
       "\n",
       "       Units Sold  Units Ordered  Demand Forecast  Price  Discount  \\\n",
       "0             127             55           135.47  33.50        20   \n",
       "1             150             66           144.04  63.01        20   \n",
       "2              65             51            74.02  27.99        10   \n",
       "3              61            164            62.18  32.72        10   \n",
       "4              14            135             9.26  73.64         0   \n",
       "...           ...            ...              ...    ...       ...   \n",
       "73095           8            127            18.46  73.73        20   \n",
       "73096          51            101            48.43  82.57        10   \n",
       "73097          36            151            39.65  11.11        10   \n",
       "73098         264             21           270.52  53.14        20   \n",
       "73099           6            165             2.33  78.39        20   \n",
       "\n",
       "      Weather Condition  Holiday/Promotion  Competitor Pricing Seasonality  \n",
       "0                 Rainy                  0               29.69      Autumn  \n",
       "1                 Sunny                  0               66.16      Autumn  \n",
       "2                 Sunny                  1               31.32      Summer  \n",
       "3                Cloudy                  1               34.74      Autumn  \n",
       "4                 Sunny                  0               68.95      Summer  \n",
       "...                 ...                ...                 ...         ...  \n",
       "73095             Snowy                  0               72.45      Winter  \n",
       "73096            Cloudy                  0               83.78      Autumn  \n",
       "73097             Rainy                  0               10.91      Winter  \n",
       "73098             Rainy                  0               55.80      Spring  \n",
       "73099             Rainy                  1               79.52      Spring  \n",
       "\n",
       "[73100 rows x 15 columns]"
      ]
     },
     "execution_count": 4,
     "metadata": {},
     "output_type": "execute_result"
    }
   ],
   "source": [
    "df"
   ]
  },
  {
   "cell_type": "markdown",
   "metadata": {
    "papermill": {
     "duration": 0.014888,
     "end_time": "2024-12-09T08:37:20.975699",
     "exception": false,
     "start_time": "2024-12-09T08:37:20.960811",
     "status": "completed"
    },
    "tags": []
   },
   "source": [
    "# Exploring Data"
   ]
  },
  {
   "cell_type": "code",
   "execution_count": 5,
   "metadata": {
    "papermill": {
     "duration": 0.075679,
     "end_time": "2024-12-09T08:37:21.065501",
     "exception": false,
     "start_time": "2024-12-09T08:37:20.989822",
     "status": "completed"
    },
    "tags": []
   },
   "outputs": [
    {
     "name": "stdout",
     "output_type": "stream",
     "text": [
      "<class 'pandas.core.frame.DataFrame'>\n",
      "RangeIndex: 73100 entries, 0 to 73099\n",
      "Data columns (total 15 columns):\n",
      " #   Column              Non-Null Count  Dtype  \n",
      "---  ------              --------------  -----  \n",
      " 0   Date                73100 non-null  object \n",
      " 1   Store ID            73100 non-null  object \n",
      " 2   Product ID          73100 non-null  object \n",
      " 3   Category            73100 non-null  object \n",
      " 4   Region              73100 non-null  object \n",
      " 5   Inventory Level     73100 non-null  int64  \n",
      " 6   Units Sold          73100 non-null  int64  \n",
      " 7   Units Ordered       73100 non-null  int64  \n",
      " 8   Demand Forecast     73100 non-null  float64\n",
      " 9   Price               73100 non-null  float64\n",
      " 10  Discount            73100 non-null  int64  \n",
      " 11  Weather Condition   73100 non-null  object \n",
      " 12  Holiday/Promotion   73100 non-null  int64  \n",
      " 13  Competitor Pricing  73100 non-null  float64\n",
      " 14  Seasonality         73100 non-null  object \n",
      "dtypes: float64(3), int64(5), object(7)\n",
      "memory usage: 8.4+ MB\n"
     ]
    }
   ],
   "source": [
    "df.info()"
   ]
  },
  {
   "cell_type": "code",
   "execution_count": 6,
   "metadata": {
    "papermill": {
     "duration": 0.053441,
     "end_time": "2024-12-09T08:37:21.133895",
     "exception": false,
     "start_time": "2024-12-09T08:37:21.080454",
     "status": "completed"
    },
    "tags": []
   },
   "outputs": [
    {
     "data": {
      "text/plain": [
       "Date                  0\n",
       "Store ID              0\n",
       "Product ID            0\n",
       "Category              0\n",
       "Region                0\n",
       "Inventory Level       0\n",
       "Units Sold            0\n",
       "Units Ordered         0\n",
       "Demand Forecast       0\n",
       "Price                 0\n",
       "Discount              0\n",
       "Weather Condition     0\n",
       "Holiday/Promotion     0\n",
       "Competitor Pricing    0\n",
       "Seasonality           0\n",
       "dtype: int64"
      ]
     },
     "execution_count": 6,
     "metadata": {},
     "output_type": "execute_result"
    }
   ],
   "source": [
    "df.isna().sum()"
   ]
  },
  {
   "cell_type": "code",
   "execution_count": 7,
   "metadata": {
    "papermill": {
     "duration": 0.083465,
     "end_time": "2024-12-09T08:37:21.232111",
     "exception": false,
     "start_time": "2024-12-09T08:37:21.148646",
     "status": "completed"
    },
    "tags": []
   },
   "outputs": [
    {
     "data": {
      "text/plain": [
       "0"
      ]
     },
     "execution_count": 7,
     "metadata": {},
     "output_type": "execute_result"
    }
   ],
   "source": [
    "df.duplicated().sum()"
   ]
  },
  {
   "cell_type": "markdown",
   "metadata": {
    "papermill": {
     "duration": 0.014673,
     "end_time": "2024-12-09T08:37:21.265112",
     "exception": false,
     "start_time": "2024-12-09T08:37:21.250439",
     "status": "completed"
    },
    "tags": []
   },
   "source": [
    "**Drop Unneeded Columns & Rename Columns**"
   ]
  },
  {
   "cell_type": "code",
   "execution_count": 8,
   "metadata": {
    "papermill": {
     "duration": 0.036588,
     "end_time": "2024-12-09T08:37:21.317181",
     "exception": false,
     "start_time": "2024-12-09T08:37:21.280593",
     "status": "completed"
    },
    "tags": []
   },
   "outputs": [],
   "source": [
    "df.drop(columns=['Date', 'Store ID', 'Product ID'], axis=1, inplace=True)"
   ]
  },
  {
   "cell_type": "code",
   "execution_count": 9,
   "metadata": {
    "papermill": {
     "duration": 0.032124,
     "end_time": "2024-12-09T08:37:21.364608",
     "exception": false,
     "start_time": "2024-12-09T08:37:21.332484",
     "status": "completed"
    },
    "tags": []
   },
   "outputs": [],
   "source": [
    "df = df.rename(columns={'Inventory Level': 'Inventory', \n",
    "                        'Units Sold': 'Sales', \n",
    "                        'Units Ordered': 'Orders', \n",
    "                        'Demand Forecast': 'Demand', \n",
    "                        'Weather Condition': 'Weather', \n",
    "                        'Holiday/Promotion': 'Promotion', \n",
    "                        'Competitor Pricing': 'Competitor Price'})"
   ]
  },
  {
   "cell_type": "markdown",
   "metadata": {
    "papermill": {
     "duration": 0.037787,
     "end_time": "2024-12-09T08:37:23.862391",
     "exception": false,
     "start_time": "2024-12-09T08:37:23.824604",
     "status": "completed"
    },
    "tags": []
   },
   "source": [
    "# Exploratory Data Analysis (EDA)"
   ]
  },
  {
   "cell_type": "markdown",
   "metadata": {
    "papermill": {
     "duration": 0.269778,
     "end_time": "2024-12-09T08:37:33.700918",
     "exception": false,
     "start_time": "2024-12-09T08:37:33.43114",
     "status": "completed"
    },
    "tags": []
   },
   "source": [
    "## Multivariate Analysis"
   ]
  },
  {
   "cell_type": "code",
   "execution_count": 10,
   "metadata": {
    "papermill": {
     "duration": 0.301185,
     "end_time": "2024-12-09T08:37:34.270155",
     "exception": false,
     "start_time": "2024-12-09T08:37:33.96897",
     "status": "completed"
    },
    "tags": []
   },
   "outputs": [
    {
     "name": "stdout",
     "output_type": "stream",
     "text": [
      "<class 'pandas.core.frame.DataFrame'>\n",
      "RangeIndex: 73100 entries, 0 to 73099\n",
      "Data columns (total 12 columns):\n",
      " #   Column            Non-Null Count  Dtype  \n",
      "---  ------            --------------  -----  \n",
      " 0   Category          73100 non-null  object \n",
      " 1   Region            73100 non-null  object \n",
      " 2   Inventory         73100 non-null  int64  \n",
      " 3   Sales             73100 non-null  int64  \n",
      " 4   Orders            73100 non-null  int64  \n",
      " 5   Demand            73100 non-null  float64\n",
      " 6   Price             73100 non-null  float64\n",
      " 7   Discount          73100 non-null  int64  \n",
      " 8   Weather           73100 non-null  object \n",
      " 9   Promotion         73100 non-null  int64  \n",
      " 10  Competitor Price  73100 non-null  float64\n",
      " 11  Seasonality       73100 non-null  object \n",
      "dtypes: float64(3), int64(5), object(4)\n",
      "memory usage: 6.7+ MB\n"
     ]
    }
   ],
   "source": [
    "df.info()"
   ]
  },
  {
   "cell_type": "code",
   "execution_count": 11,
   "metadata": {
    "papermill": {
     "duration": 0.745404,
     "end_time": "2024-12-09T08:37:35.292996",
     "exception": false,
     "start_time": "2024-12-09T08:37:34.547592",
     "status": "completed"
    },
    "tags": []
   },
   "outputs": [
    {
     "data": {
      "image/png": "[encoded data removed]",
      "text/plain": [
       "<Figure size 1000x800 with 2 Axes>"
      ]
     },
     "metadata": {},
     "output_type": "display_data"
    }
   ],
   "source": [
    "numarical_columns = ['Inventory','Sales','Orders','Price','Discount','Competitor Price','Promotion','Demand']\n",
    "\n",
    "corr_matrix = df[numarical_columns].corr()\n",
    "\n",
    "plt.figure(figsize=(10,8))\n",
    "\n",
    "sns.heatmap(corr_matrix, annot=True)\n",
    "\n",
    "plt.show()"
   ]
  },
  {
   "cell_type": "markdown",
   "metadata": {
    "papermill": {
     "duration": 0.270143,
     "end_time": "2024-12-09T08:37:35.835842",
     "exception": false,
     "start_time": "2024-12-09T08:37:35.565699",
     "status": "completed"
    },
    "tags": []
   },
   "source": [
    "# Preprocessing"
   ]
  },
  {
   "cell_type": "markdown",
   "metadata": {
    "papermill": {
     "duration": 0.280067,
     "end_time": "2024-12-09T08:37:36.387416",
     "exception": false,
     "start_time": "2024-12-09T08:37:36.107349",
     "status": "completed"
    },
    "tags": []
   },
   "source": [
    "**1-Detrmine X & Y**"
   ]
  },
  {
   "cell_type": "code",
   "execution_count": 12,
   "metadata": {
    "papermill": {
     "duration": 0.285384,
     "end_time": "2024-12-09T08:37:36.951354",
     "exception": false,
     "start_time": "2024-12-09T08:37:36.66597",
     "status": "completed"
    },
    "tags": []
   },
   "outputs": [],
   "source": [
    "x=df.drop(columns=['Demand'])\n",
    "y=df['Demand']"
   ]
  },
  {
   "cell_type": "markdown",
   "metadata": {
    "papermill": {
     "duration": 0.27669,
     "end_time": "2024-12-09T08:37:37.504998",
     "exception": false,
     "start_time": "2024-12-09T08:37:37.228308",
     "status": "completed"
    },
    "tags": []
   },
   "source": [
    "**2-Encoding**"
   ]
  },
  {
   "cell_type": "code",
   "execution_count": 13,
   "metadata": {
    "papermill": {
     "duration": 0.355734,
     "end_time": "2024-12-09T08:37:38.136033",
     "exception": false,
     "start_time": "2024-12-09T08:37:37.780299",
     "status": "completed"
    },
    "tags": []
   },
   "outputs": [],
   "source": [
    "\n",
    "from sklearn.preprocessing import LabelEncoder\n",
    "\n",
    "label_encoder = LabelEncoder()\n",
    "x['Category'] = label_encoder.fit_transform(x['Category'])\n",
    "x['Region'] = label_encoder.fit_transform(x['Region'])\n",
    "x['Weather'] = label_encoder.fit_transform(x['Weather'])\n",
    "x['Seasonality'] = label_encoder.fit_transform(x['Seasonality'])\n",
    "x['Promotion'] = label_encoder.fit_transform(x['Promotion'])\n"
   ]
  },
  {
   "cell_type": "code",
   "execution_count": 14,
   "metadata": {
    "papermill": {
     "duration": 0.295458,
     "end_time": "2024-12-09T08:37:38.706054",
     "exception": false,
     "start_time": "2024-12-09T08:37:38.410596",
     "status": "completed"
    },
    "tags": []
   },
   "outputs": [
    {
     "data": {
      "text/html": [
       "<div>\n",
       "<style scoped>\n",
       "    .dataframe tbody tr th:only-of-type {\n",
       "        vertical-align: middle;\n",
       "    }\n",
       "\n",
       "    .dataframe tbody tr th {\n",
       "        vertical-align: top;\n",
       "    }\n",
       "\n",
       "    .dataframe thead th {\n",
       "        text-align: right;\n",
       "    }\n",
       "</style>\n",
       "<table border=\"1\" class=\"dataframe\">\n",
       "  <thead>\n",
       "    <tr style=\"text-align: right;\">\n",
       "      <th></th>\n",
       "      <th>Category</th>\n",
       "      <th>Region</th>\n",
       "      <th>Inventory</th>\n",
       "      <th>Sales</th>\n",
       "      <th>Orders</th>\n",
       "      <th>Price</th>\n",
       "      <th>Discount</th>\n",
       "      <th>Weather</th>\n",
       "      <th>Promotion</th>\n",
       "      <th>Competitor Price</th>\n",
       "      <th>Seasonality</th>\n",
       "    </tr>\n",
       "  </thead>\n",
       "  <tbody>\n",
       "    <tr>\n",
       "      <th>0</th>\n",
       "      <td>3</td>\n",
       "      <td>1</td>\n",
       "      <td>231</td>\n",
       "      <td>127</td>\n",
       "      <td>55</td>\n",
       "      <td>33.50</td>\n",
       "      <td>20</td>\n",
       "      <td>1</td>\n",
       "      <td>0</td>\n",
       "      <td>29.69</td>\n",
       "      <td>0</td>\n",
       "    </tr>\n",
       "    <tr>\n",
       "      <th>1</th>\n",
       "      <td>4</td>\n",
       "      <td>2</td>\n",
       "      <td>204</td>\n",
       "      <td>150</td>\n",
       "      <td>66</td>\n",
       "      <td>63.01</td>\n",
       "      <td>20</td>\n",
       "      <td>3</td>\n",
       "      <td>0</td>\n",
       "      <td>66.16</td>\n",
       "      <td>0</td>\n",
       "    </tr>\n",
       "    <tr>\n",
       "      <th>2</th>\n",
       "      <td>4</td>\n",
       "      <td>3</td>\n",
       "      <td>102</td>\n",
       "      <td>65</td>\n",
       "      <td>51</td>\n",
       "      <td>27.99</td>\n",
       "      <td>10</td>\n",
       "      <td>3</td>\n",
       "      <td>1</td>\n",
       "      <td>31.32</td>\n",
       "      <td>2</td>\n",
       "    </tr>\n",
       "    <tr>\n",
       "      <th>3</th>\n",
       "      <td>4</td>\n",
       "      <td>1</td>\n",
       "      <td>469</td>\n",
       "      <td>61</td>\n",
       "      <td>164</td>\n",
       "      <td>32.72</td>\n",
       "      <td>10</td>\n",
       "      <td>0</td>\n",
       "      <td>1</td>\n",
       "      <td>34.74</td>\n",
       "      <td>0</td>\n",
       "    </tr>\n",
       "    <tr>\n",
       "      <th>4</th>\n",
       "      <td>1</td>\n",
       "      <td>0</td>\n",
       "      <td>166</td>\n",
       "      <td>14</td>\n",
       "      <td>135</td>\n",
       "      <td>73.64</td>\n",
       "      <td>0</td>\n",
       "      <td>3</td>\n",
       "      <td>0</td>\n",
       "      <td>68.95</td>\n",
       "      <td>2</td>\n",
       "    </tr>\n",
       "  </tbody>\n",
       "</table>\n",
       "</div>"
      ],
      "text/plain": [
       "   Category  Region  Inventory  Sales  Orders  Price  Discount  Weather  \\\n",
       "0         3       1        231    127      55  33.50        20        1   \n",
       "1         4       2        204    150      66  63.01        20        3   \n",
       "2         4       3        102     65      51  27.99        10        3   \n",
       "3         4       1        469     61     164  32.72        10        0   \n",
       "4         1       0        166     14     135  73.64         0        3   \n",
       "\n",
       "   Promotion  Competitor Price  Seasonality  \n",
       "0          0             29.69            0  \n",
       "1          0             66.16            0  \n",
       "2          1             31.32            2  \n",
       "3          1             34.74            0  \n",
       "4          0             68.95            2  "
      ]
     },
     "execution_count": 14,
     "metadata": {},
     "output_type": "execute_result"
    }
   ],
   "source": [
    "x.head()"
   ]
  },
  {
   "cell_type": "markdown",
   "metadata": {
    "papermill": {
     "duration": 0.289685,
     "end_time": "2024-12-09T08:37:39.268545",
     "exception": false,
     "start_time": "2024-12-09T08:37:38.97886",
     "status": "completed"
    },
    "tags": []
   },
   "source": [
    "**3-Scale Data**"
   ]
  },
  {
   "cell_type": "code",
   "execution_count": 15,
   "metadata": {
    "papermill": {
     "duration": 0.358246,
     "end_time": "2024-12-09T08:37:39.902577",
     "exception": false,
     "start_time": "2024-12-09T08:37:39.544331",
     "status": "completed"
    },
    "tags": []
   },
   "outputs": [
    {
     "data": {
      "text/plain": [
       "array([[ 0.70588851, -0.44525719, -0.33451587, ..., -0.99462457,\n",
       "        -0.97193139, -1.34431734],\n",
       "       [ 1.41297645,  0.44892689, -0.54229028, ..., -0.99462457,\n",
       "         0.42051951, -1.34431734],\n",
       "       [ 1.41297645,  1.34311098, -1.32721586, ...,  1.00540448,\n",
       "        -0.90969682,  0.4459506 ],\n",
       "       ...,\n",
       "       [-1.41537533,  1.34311098,  0.02716553, ..., -0.99462457,\n",
       "        -1.68896534,  1.34108457],\n",
       "       [ 1.41297645, -1.33944127,  0.76591902, ..., -0.99462457,\n",
       "         0.02496724, -0.44918337],\n",
       "       [ 0.70588851, -1.33944127, -1.21178563, ...,  1.00540448,\n",
       "         0.93061394, -0.44918337]])"
      ]
     },
     "execution_count": 15,
     "metadata": {},
     "output_type": "execute_result"
    }
   ],
   "source": [
    "scaler = StandardScaler()\n",
    "x = scaler.fit_transform(x)\n",
    "x"
   ]
  },
  {
   "cell_type": "code",
   "execution_count": 16,
   "metadata": {
    "papermill": {
     "duration": 0.314526,
     "end_time": "2024-12-09T08:37:40.509056",
     "exception": false,
     "start_time": "2024-12-09T08:37:40.19453",
     "status": "completed"
    },
    "tags": []
   },
   "outputs": [],
   "source": [
    "x_train, x_test, y_train, y_test = train_test_split(x, y, test_size=0.1, random_state=1989)"
   ]
  },
  {
   "cell_type": "code",
   "execution_count": 17,
   "metadata": {
    "papermill": {
     "duration": 0.292387,
     "end_time": "2024-12-09T08:37:41.08392",
     "exception": false,
     "start_time": "2024-12-09T08:37:40.791533",
     "status": "completed"
    },
    "tags": []
   },
   "outputs": [
    {
     "data": {
      "text/plain": [
       "(65790, 11)"
      ]
     },
     "execution_count": 17,
     "metadata": {},
     "output_type": "execute_result"
    }
   ],
   "source": [
    "x_train.shape"
   ]
  },
  {
   "cell_type": "code",
   "execution_count": 18,
   "metadata": {
    "papermill": {
     "duration": 0.291759,
     "end_time": "2024-12-09T08:37:41.652842",
     "exception": false,
     "start_time": "2024-12-09T08:37:41.361083",
     "status": "completed"
    },
    "tags": []
   },
   "outputs": [
    {
     "data": {
      "text/plain": [
       "Demand\n",
       "46.06     0.01672\n",
       "33.84     0.01672\n",
       "38.86     0.01672\n",
       "27.43     0.01672\n",
       "21.84     0.01672\n",
       "           ...   \n",
       "199.79    0.00152\n",
       "12.09     0.00152\n",
       "184.65    0.00152\n",
       "402.26    0.00152\n",
       "121.75    0.00152\n",
       "Name: proportion, Length: 30266, dtype: float64"
      ]
     },
     "execution_count": 18,
     "metadata": {},
     "output_type": "execute_result"
    }
   ],
   "source": [
    "y_train.value_counts(normalize=True)*100"
   ]
  },
  {
   "cell_type": "markdown",
   "metadata": {
    "papermill": {
     "duration": 0.274022,
     "end_time": "2024-12-09T08:37:42.201335",
     "exception": false,
     "start_time": "2024-12-09T08:37:41.927313",
     "status": "completed"
    },
    "tags": []
   },
   "source": [
    "## Data Modelling"
   ]
  },
  {
   "cell_type": "code",
   "execution_count": null,
   "metadata": {
    "execution": {
     "iopub.execute_input": "2025-01-08T23:01:10.607944Z",
     "iopub.status.busy": "2025-01-08T23:01:10.60747Z",
     "iopub.status.idle": "2025-01-08T23:01:10.628257Z",
     "shell.execute_reply": "2025-01-08T23:01:10.626822Z",
     "shell.execute_reply.started": "2025-01-08T23:01:10.607904Z"
    },
    "papermill": {
     "duration": 0.317403,
     "end_time": "2024-12-09T08:37:42.794245",
     "exception": false,
     "start_time": "2024-12-09T08:37:42.476842",
     "status": "completed"
    },
    "tags": []
   },
   "outputs": [],
   "source": [
    "from sklearn.preprocessing import StandardScaler\n",
    "from sklearn.model_selection import train_test_split\n",
    "from sklearn.metrics import r2_score, mean_squared_error, mean_absolute_error\n",
    "\n",
    "from sklearn.linear_model import LinearRegression\n",
    "from sklearn.svm import SVR\n",
    "from sklearn.tree import DecisionTreeRegressor\n",
    "from sklearn.neighbors import KNeighborsRegressor\n",
    "from tabulate import tabulate\n",
    "\n",
    "def evaluate_model(model, x_train, y_train, x_test, y_test):\n",
    "    # Calculate metrics\n",
    "    train_r2 = model.score(x_train, y_train)\n",
    "    y_pred = model.predict(x_test)\n",
    "    test_r2 = r2_score(y_test, y_pred)\n",
    "    mse = mean_squared_error(y_test, y_pred)\n",
    "    rmse = mean_squared_error(y_test, y_pred, squared=False)\n",
    "    mae = mean_absolute_error(y_test, y_pred)\n",
    "    \n",
    "    # Prepare the table data\n",
    "    metrics = [\n",
    "        [\"Training R² Score\", f\"{train_r2:.4f}\"],\n",
    "        [\"Testing R² Score\", f\"{test_r2:.4f}\"],\n",
    "        [\"Mean Squared Error (MSE)\", f\"{mse:.2f}\"],\n",
    "        [\"Root Mean Squared Error (RMSE)\", f\"{rmse:.2f}\"],\n",
    "        [\"Mean Absolute Error (MAE)\", f\"{mae:.2f}\"],\n",
    "    ]\n",
    "    \n",
    "    # Print the table\n",
    "    print(tabulate(metrics, headers=[\"Metric\", \"Value\"], tablefmt=\"grid\"))"
   ]
  },
  {
   "cell_type": "markdown",
   "metadata": {
    "papermill": {
     "duration": 0.319937,
     "end_time": "2024-12-09T08:37:43.403057",
     "exception": false,
     "start_time": "2024-12-09T08:37:43.08312",
     "status": "completed"
    },
    "tags": []
   },
   "source": [
    "**1-LinearRegression**"
   ]
  },
  {
   "cell_type": "code",
   "execution_count": null,
   "metadata": {
    "execution": {
     "iopub.execute_input": "2025-01-08T23:14:20.179Z",
     "iopub.status.busy": "2025-01-08T23:14:20.178419Z",
     "iopub.status.idle": "2025-01-08T23:14:20.219328Z",
     "shell.execute_reply": "2025-01-08T23:14:20.218207Z",
     "shell.execute_reply.started": "2025-01-08T23:14:20.178961Z"
    },
    "papermill": {
     "duration": 0.358557,
     "end_time": "2024-12-09T08:37:44.051502",
     "exception": false,
     "start_time": "2024-12-09T08:37:43.692945",
     "status": "completed"
    },
    "tags": []
   },
   "outputs": [],
   "source": [
    "lr = LinearRegression()\n",
    "\n",
    "lr.fit(x_train, y_train)"
   ]
  },
  {
   "cell_type": "code",
   "execution_count": null,
   "metadata": {
    "execution": {
     "iopub.execute_input": "2025-01-08T23:14:26.082238Z",
     "iopub.status.busy": "2025-01-08T23:14:26.08186Z",
     "iopub.status.idle": "2025-01-08T23:14:26.101896Z",
     "shell.execute_reply": "2025-01-08T23:14:26.096979Z",
     "shell.execute_reply.started": "2025-01-08T23:14:26.082208Z"
    },
    "papermill": {
     "duration": 0.300737,
     "end_time": "2024-12-09T08:37:44.677385",
     "exception": false,
     "start_time": "2024-12-09T08:37:44.376648",
     "status": "completed"
    },
    "tags": []
   },
   "outputs": [],
   "source": [
    "# Evaluate the model\n",
    "evaluate_model(lr, x_train, y_train, x_test, y_test)"
   ]
  },
  {
   "cell_type": "markdown",
   "metadata": {
    "papermill": {
     "duration": 0.294532,
     "end_time": "2024-12-09T08:37:45.309786",
     "exception": false,
     "start_time": "2024-12-09T08:37:45.015254",
     "status": "completed"
    },
    "tags": []
   },
   "source": [
    "**2-Support Vector Regression**"
   ]
  },
  {
   "cell_type": "code",
   "execution_count": null,
   "metadata": {
    "execution": {
     "iopub.execute_input": "2025-01-08T23:01:26.359204Z",
     "iopub.status.busy": "2025-01-08T23:01:26.358747Z",
     "iopub.status.idle": "2025-01-08T23:05:10.951993Z",
     "shell.execute_reply": "2025-01-08T23:05:10.949473Z",
     "shell.execute_reply.started": "2025-01-08T23:01:26.359171Z"
    },
    "papermill": {
     "duration": 165.780227,
     "end_time": "2024-12-09T08:40:31.363299",
     "exception": false,
     "start_time": "2024-12-09T08:37:45.583072",
     "status": "completed"
    },
    "tags": []
   },
   "outputs": [],
   "source": [
    "svr = SVR()\n",
    "\n",
    "svr.fit(x_train, y_train)"
   ]
  },
  {
   "cell_type": "code",
   "execution_count": null,
   "metadata": {
    "execution": {
     "iopub.execute_input": "2025-01-08T23:09:23.39893Z",
     "iopub.status.busy": "2025-01-08T23:09:23.398348Z",
     "iopub.status.idle": "2025-01-08T23:13:44.968044Z",
     "shell.execute_reply": "2025-01-08T23:13:44.966505Z",
     "shell.execute_reply.started": "2025-01-08T23:09:23.398874Z"
    },
    "papermill": {
     "duration": 239.205839,
     "end_time": "2024-12-09T08:44:30.855281",
     "exception": false,
     "start_time": "2024-12-09T08:40:31.649442",
     "status": "completed"
    },
    "tags": []
   },
   "outputs": [],
   "source": [
    "evaluate_model(svr, x_train, y_train, x_test, y_test)"
   ]
  },
  {
   "cell_type": "markdown",
   "metadata": {
    "papermill": {
     "duration": 0.268704,
     "end_time": "2024-12-09T08:44:31.395842",
     "exception": false,
     "start_time": "2024-12-09T08:44:31.127138",
     "status": "completed"
    },
    "tags": []
   },
   "source": [
    "**3-DecisionTreeRegressor**"
   ]
  },
  {
   "cell_type": "code",
   "execution_count": null,
   "metadata": {
    "execution": {
     "iopub.execute_input": "2024-12-09T08:44:31.931745Z",
     "iopub.status.busy": "2024-12-09T08:44:31.931343Z",
     "iopub.status.idle": "2024-12-09T08:44:32.564851Z",
     "shell.execute_reply": "2024-12-09T08:44:32.563775Z"
    },
    "papermill": {
     "duration": 0.903529,
     "end_time": "2024-12-09T08:44:32.567183",
     "exception": false,
     "start_time": "2024-12-09T08:44:31.663654",
     "status": "completed"
    },
    "tags": []
   },
   "outputs": [],
   "source": [
    "DT = DecisionTreeRegressor()\n",
    "\n",
    "DT.fit(x_train, y_train)"
   ]
  },
  {
   "cell_type": "code",
   "execution_count": null,
   "metadata": {
    "execution": {
     "iopub.execute_input": "2024-12-09T08:44:33.11278Z",
     "iopub.status.busy": "2024-12-09T08:44:33.111629Z",
     "iopub.status.idle": "2024-12-09T08:44:33.166264Z",
     "shell.execute_reply": "2024-12-09T08:44:33.164842Z"
    },
    "papermill": {
     "duration": 0.334056,
     "end_time": "2024-12-09T08:44:33.168891",
     "exception": false,
     "start_time": "2024-12-09T08:44:32.834835",
     "status": "completed"
    },
    "tags": []
   },
   "outputs": [],
   "source": [
    "evaluate_model(DT, x_train, y_train, x_test, y_test)"
   ]
  },
  {
   "cell_type": "markdown",
   "metadata": {
    "papermill": {
     "duration": 0.311826,
     "end_time": "2024-12-09T08:44:33.830271",
     "exception": false,
     "start_time": "2024-12-09T08:44:33.518445",
     "status": "completed"
    },
    "tags": []
   },
   "source": [
    "**4-KNeighborsRegressor**"
   ]
  },
  {
   "cell_type": "code",
   "execution_count": null,
   "metadata": {
    "execution": {
     "iopub.execute_input": "2024-12-09T08:44:34.404538Z",
     "iopub.status.busy": "2024-12-09T08:44:34.4037Z",
     "iopub.status.idle": "2024-12-09T08:44:34.521158Z",
     "shell.execute_reply": "2024-12-09T08:44:34.520031Z"
    },
    "papermill": {
     "duration": 0.402687,
     "end_time": "2024-12-09T08:44:34.524099",
     "exception": false,
     "start_time": "2024-12-09T08:44:34.121412",
     "status": "completed"
    },
    "tags": []
   },
   "outputs": [],
   "source": [
    "KNR = KNeighborsRegressor()\n",
    "\n",
    "KNR.fit(x_train,y_train)"
   ]
  },
  {
   "cell_type": "code",
   "execution_count": null,
   "metadata": {
    "execution": {
     "iopub.execute_input": "2024-12-09T08:44:35.091643Z",
     "iopub.status.busy": "2024-12-09T08:44:35.090698Z",
     "iopub.status.idle": "2024-12-09T08:44:50.8301Z",
     "shell.execute_reply": "2024-12-09T08:44:50.828831Z"
    },
    "papermill": {
     "duration": 16.021934,
     "end_time": "2024-12-09T08:44:50.832638",
     "exception": false,
     "start_time": "2024-12-09T08:44:34.810704",
     "status": "completed"
    },
    "tags": []
   },
   "outputs": [],
   "source": [
    "evaluate_model(KNR, x_train, y_train, x_test, y_test)"
   ]
  },
  {
   "cell_type": "markdown",
   "metadata": {
    "papermill": {
     "duration": 0.268808,
     "end_time": "2024-12-09T08:44:51.384774",
     "exception": false,
     "start_time": "2024-12-09T08:44:51.115966",
     "status": "completed"
    },
    "tags": []
   },
   "source": [
    "# **Summary of Models and Best Model Selection**\n",
    "\n",
    "After evaluating the performance of the four regression models — **LinearRegression**, **SVR (Support Vector Regression)**, **DecisionTreeRegressor**, and **KNeighborsRegressor** — on the retail store dataset, the results are summarized as follows:\n",
    "\n",
    "| **Model**                | **Training R²**  | **Testing R²** | **MSE** | **RMSE** | **MAE** |\n",
    "|---------------------------|-----------------|----------------|---------|----------|---------|\n",
    "| **LinearRegression**      | 0.9937          | 0.9937         | 74.77   | 8.65     | 7.48    |\n",
    "| **SVR**                   | 0.9809          | 0.981          | 225.18  | 15.01    | 10.79   |\n",
    "| **DecisionTreeRegressor** | 1.0000          | 0.9871         | 152.99  | 12.37    | 10.08   |\n",
    "| **KNeighborsRegressor**   | 0.9616          | 0.9445         | 658.82  | 25.67    | 20.73   |\n",
    "\n",
    "---\n",
    "\n",
    "## **Model Analysis**\n",
    "\n",
    "1. **LinearRegression**  \n",
    "   - **Training R² Score**: 0.9937  \n",
    "   - **Testing R² Score**: 0.9937  \n",
    "   - **MSE**: 74.77  \n",
    "   - **RMSE**: 8.65  \n",
    "   - **MAE**: 7.48  \n",
    "   - This model provided **excellent performance**, with low errors and high consistency between training and testing scores, suggesting a well-fitting model.\n",
    "\n",
    "2. **SVR (Support Vector Regression)**  \n",
    "   - **Training R² Score**: 0.9809  \n",
    "   - **Testing R² Score**: 0.981  \n",
    "   - **MSE**: 225.18  \n",
    "   - **RMSE**: 15.01  \n",
    "   - **MAE**: 10.79  \n",
    "   - The SVR model showed **good performance** but had higher errors compared to LinearRegression. It captures non-linear relationships but does not outperform LinearRegression.\n",
    "\n",
    "3. **DecisionTreeRegressor**  \n",
    "   - **Training R² Score**: 1.0000  \n",
    "   - **Testing R² Score**: 0.9871  \n",
    "   - **MSE**: 152.99  \n",
    "   - **RMSE**: 12.37  \n",
    "   - **MAE**: 10.08  \n",
    "   - This model exhibited **overfitting** (perfect Training R² score) but performed decently on the test set. The errors are higher than LinearRegression, indicating it may not generalize as well.\n",
    "\n",
    "4. **KNeighborsRegressor**  \n",
    "   - **Training R² Score**: 0.9616\n",
    "   - **Testing R² Score**: 0.9445 \n",
    "   - **MSE**: 658.82\n",
    "   - **RMSE**: 25.67\n",
    "   - **MAE**: 20.73  \n",
    "   - This model had the **worst performance**, with the highest error rates and the lowest R² scores. It does not capture the data patterns as effectively as the other models.\n",
    "\n",
    "---\n",
    "\n",
    "## **Best Model: LinearRegression**\n",
    "\n",
    "Based on the evaluation metrics, **LinearRegression** is the best model for predicting demand in the retail store dataset. It provides:\n",
    "\n",
    "- **The highest Testing R² score (0.9937)**  \n",
    "- **The lowest error rates (MSE = 74.77, RMSE = 8.65, MAE = 7.48)**  \n",
    "- **Consistent performance** between training and testing, indicating no overfitting or underfitting.\n",
    "\n",
    "Therefore, **LinearRegression** is the most reliable choice for this dataset.\n"
   ]
  }
 ],
 "metadata": {
  "kaggle": {
   "accelerator": "none",
   "dataSources": [
    {
     "datasetId": 6157172,
     "sourceId": 10002792,
     "sourceType": "datasetVersion"
    }
   ],
   "dockerImageVersionId": 30822,
   "isGpuEnabled": false,
   "isInternetEnabled": false,
   "language": "python",
   "sourceType": "notebook"
  },
  "kernelspec": {
   "display_name": "Python 3 (ipykernel)",
   "language": "python",
   "name": "python3"
  },
  "language_info": {
   "codemirror_mode": {
    "name": "ipython",
    "version": 3
   },
   "file_extension": ".py",
   "mimetype": "text/x-python",
   "name": "python",
   "nbconvert_exporter": "python",
   "pygments_lexer": "ipython3",
   "version": "3.9.21"
  },
  "papermill": {
   "default_parameters": {},
   "duration": 459.707096,
   "end_time": "2024-12-09T08:44:52.578201",
   "environment_variables": {},
   "exception": null,
   "input_path": "__notebook__.ipynb",
   "output_path": "__notebook__.ipynb",
   "parameters": {},
   "start_time": "2024-12-09T08:37:12.871105",
   "version": "2.6.0"
  }
 },
 "nbformat": 4,
 "nbformat_minor": 4
}